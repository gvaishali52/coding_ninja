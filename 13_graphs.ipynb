{
 "cells": [
  {
   "cell_type": "markdown",
   "metadata": {},
   "source": [
    "#### Plot line\n",
    "\n",
    "Given two integer arrays, X and Y. Plot the graph between X and Y. Please consider.\n",
    "\n",
    "x = np.array([0,1,2,3,4,5,6,7,9,10])\n",
    "\n",
    "y=np.array([1,2,5,10,17,26,37,50,82,101])\n",
    "\n",
    "From the help of graph, determine the range of Y when the value of X is 8.\n",
    "Plot and print the range of Y.\n",
    "Note: Here lower limit and upper limit of range must be multiple of 10 and difference between upper limit and lower limit must be equal to 10."
   ]
  },
  {
   "cell_type": "code",
   "execution_count": 1,
   "metadata": {},
   "outputs": [
    {
     "data": {
      "image/png": "[encoded data removed]",
      "text/plain": [
       "<Figure size 432x288 with 1 Axes>"
      ]
     },
     "metadata": {
      "needs_background": "light"
     },
     "output_type": "display_data"
    },
    {
     "name": "stdout",
     "output_type": "stream",
     "text": [
      "60 to 70\n"
     ]
    }
   ],
   "source": [
    "x =[0,1,2,3,4,5,6,7,9,10]\n",
    "y=[1,2,5,10,17,26,37,50,82,101]\n",
    "\n",
    "import numpy as np\n",
    "import matplotlib.pyplot as plt\n",
    "\n",
    "x = np.array(x)\n",
    "y = np.array(y)\n",
    "\n",
    "plt.plot(x, y)\n",
    "plt.show()\n",
    "print('60 to 70')"
   ]
  },
  {
   "cell_type": "markdown",
   "metadata": {},
   "source": [
    "### Matplotlib increase\n",
    "\n",
    "Create two arrays, x and y.\n",
    "\n",
    "x should hold first 20 even points starting from 0 and y should be an exponentiation array where y[i] = 2^x[i].\n",
    "\n",
    "Plot a line graph, line should be of color blue and it should be a dashed line (like -----).\n",
    "\n",
    "Find the value of x from where there is slight increase in value of y as shown in your plot.\n",
    "\n",
    "Plot and print the value of x.\n",
    "\n",
    "Note: Here x must be multiple of 5."
   ]
  },
  {
   "cell_type": "code",
   "execution_count": 10,
   "metadata": {},
   "outputs": [],
   "source": [
    "\n",
    "import numpy as np\n",
    "import matplotlib.pyplot as plt\n",
    "\n",
    "x = np.arange(0,40,2)\n",
    "y = 2**x\n"
   ]
  },
  {
   "cell_type": "code",
   "execution_count": 11,
   "metadata": {},
   "outputs": [
    {
     "data": {
      "text/plain": [
       "(array([ 0,  2,  4,  6,  8, 10, 12, 14, 16, 18, 20, 22, 24, 26, 28, 30, 32,\n",
       "        34, 36, 38]),\n",
       " array([         1,          4,         16,         64,        256,\n",
       "              1024,       4096,      16384,      65536,     262144,\n",
       "           1048576,    4194304,   16777216,   67108864,  268435456,\n",
       "        1073741824,          0,          0,          0,          0],\n",
       "       dtype=int32))"
      ]
     },
     "execution_count": 11,
     "metadata": {},
     "output_type": "execute_result"
    }
   ],
   "source": [
    "x,y"
   ]
  },
  {
   "cell_type": "code",
   "execution_count": null,
   "metadata": {},
   "outputs": [],
   "source": []
  },
  {
   "cell_type": "code",
   "execution_count": null,
   "metadata": {},
   "outputs": [],
   "source": []
  },
  {
   "cell_type": "code",
   "execution_count": null,
   "metadata": {},
   "outputs": [],
   "source": []
  },
  {
   "cell_type": "code",
   "execution_count": null,
   "metadata": {},
   "outputs": [],
   "source": []
  },
  {
   "cell_type": "code",
   "execution_count": null,
   "metadata": {},
   "outputs": [],
   "source": []
  },
  {
   "cell_type": "code",
   "execution_count": null,
   "metadata": {},
   "outputs": [],
   "source": []
  }
 ],
 "metadata": {
  "kernelspec": {
   "display_name": "Python 3.8.5 ('vaishali')",
   "language": "python",
   "name": "python3"
  },
  "language_info": {
   "codemirror_mode": {
    "name": "ipython",
    "version": 3
   },
   "file_extension": ".py",
   "mimetype": "text/x-python",
   "name": "python",
   "nbconvert_exporter": "python",
   "pygments_lexer": "ipython3",
   "version": "3.8.5"
  },
  "orig_nbformat": 4,
  "vscode": {
   "interpreter": {
    "hash": "c626c7f027fd81c21c9d33e27e9da6944415f92c80192dd5d04cdc4b243efcd0"
   }
  }
 },
 "nbformat": 4,
 "nbformat_minor": 2
}
