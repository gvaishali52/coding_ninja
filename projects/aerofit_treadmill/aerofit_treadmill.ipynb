{
 "cells": [
  {
   "cell_type": "markdown",
   "metadata": {},
   "source": [
    "#### Q1. Business Case: Aerofit - Descriptive Statistics & Probability\n",
    "\n",
    "**Mindset:**\n",
    "\n",
    "1. Evaluation will be kept lenient, so make sure you attempt this case study.\n",
    "2. It is understandable that you might struggle with getting started on this. Just brainstorm, discuss with peers, or get help from TAs.\n",
    "3. There is no right or wrong answer. We have to get used to dealing with uncertainty in business. This is exactly the skill we want to develop."
   ]
  },
  {
   "cell_type": "markdown",
   "metadata": {},
   "source": [
    "**About Aerofit**\n",
    "\n",
    "Aerofit is a leading brand in the field of fitness equipment. Aerofit provides a product range including machines such as treadmills, exercise bikes, gym equipment, and fitness accessories to cater to the needs of all categories of people.\n",
    "\n",
    "\n",
    "**Business Problem**\n",
    "\n",
    "The market research team at AeroFit wants to identify the characteristics of the target audience for each type of treadmill offered by the company, to provide a better recommendation of the treadmills to the new customers. The team decides to investigate whether there are differences across the product with respect to customer characteristics.\n",
    "\n",
    "1. Perform descriptive analytics to create a customer profile for each AeroFit treadmill product by developing appropriate tables and charts.\n",
    "2. For each AeroFit treadmill product, construct two-way contingency tables and compute all conditional and marginal probabilities along with their insights/impact on the business."
   ]
  },
  {
   "cell_type": "markdown",
   "metadata": {},
   "source": [
    "**Dataset**\n",
    "\n",
    "The company collected the data on individuals who purchased a treadmill from the AeroFit stores during the prior three months. The dataset has the following features:\n",
    "\n",
    "- Product Purchased:\tKP281, KP481, or KP781\n",
    "- Age:\tIn years\n",
    "- Gender:\tMale/Female\n",
    "- Education:\tIn years\n",
    "- MaritalStatus:\tSingle or partnered\n",
    "- Usage:\tThe average number of times the customer plans to use the treadmill each week.\n",
    "- Income:\tAnnual income (in $)\n",
    "- Fitness:\tSelf-rated fitness on a 1-to-5 scale, where 1 is the poor shape and 5 is the excellent shape.\n",
    "- Miles:\tThe average number of miles the customer expects to walk/run each week"
   ]
  },
  {
   "cell_type": "markdown",
   "metadata": {},
   "source": [
    "**Product Portfolio:**\n",
    "\n",
    "- The KP281 is an entry-level treadmill that sells for $1,500.\n",
    "- The KP481 is for mid-level runners that sell for $1,750.\n",
    "- The KP781 treadmill is having advanced features that sell for $2,500."
   ]
  },
  {
   "cell_type": "markdown",
   "metadata": {},
   "source": [
    "**What good looks like?**\n",
    "\n",
    "1. Import the dataset and do usual data analysis steps like checking the structure & characteristics of the dataset\n",
    "2. Detect Outliers (using boxplot, “describe” method by checking the difference between mean and median)\n",
    "3. Check if features like marital status, age have any effect on the product purchased (using countplot, histplots, boxplots etc)\n",
    "4. Representing the marginal probability like - what percent of customers have purchased KP281, KP481, or KP781 in a table (can use pandas.crosstab here)\n",
    "5. Check correlation among different factors using heat maps or pair plots.\n",
    "6. With all the above steps you can answer questions like: What is the probability of a male customer buying a KP781 treadmill?\n",
    "7. **Customer Profiling** - Categorization of users.\n",
    "8. **Probability**- marginal, conditional probability.\n",
    "9. Some recommendations and actionable insights, based on the inferences."
   ]
  },
  {
   "cell_type": "markdown",
   "metadata": {},
   "source": [
    "**Evaluation Criteria**\n",
    "\n",
    "1. Defining Problem Statement and Analysing basic metrics (10 Points)\n",
    "    - Observations on shape of data, data types of all the attributes, conversion of categorical attributes to 'category' (If required), statistical summary\n",
    "2. Non-Graphical Analysis: Value counts and unique attributes ​​(10 Points)\n",
    "3. Visual Analysis - Univariate & Bivariate (30 Points)\n",
    "    - For continuous variable(s): Distplot, countplot, histogram for univariate analysis (10 Points)\n",
    "    - For categorical variable(s): Boxplot (10 Points)\n",
    "    - For correlation: Heatmaps, Pairplots(10 Points)\n",
    "    4. Missing Value & Outlier Detection (10 Points)\n",
    "5. Business Insights based on Non-Graphical and Visual Analysis (10 Points)\n",
    "    - Comments on the range of attributes\n",
    "    - Comments on the distribution of the variables and relationship between them\n",
    "    - Comments for each univariate and bivariate plot\n",
    "6. Recommendations (10 Points) - Actionable items for business. No technical jargon. No complications. Simple action items that everyone can understand\n"
   ]
  },
  {
   "cell_type": "markdown",
   "metadata": {},
   "source": [
    "**Submission Process:**\n",
    "\n",
    "- Type your insights and recommendations in the text editor.\n",
    "- Convert your jupyter notebook into PDF (Save as PDF using Chrome browser’s Print command), upload it in your - Google Drive (set the permission to allow public access), and paste that link in the text editor.\n",
    "- Optionally, you may add images/graphs in the text editor by taking screenshots or saving matplotlib graphs using plt.savefig(...).\n",
    "- After submitting, you will not be allowed to edit your submission."
   ]
  },
  {
   "cell_type": "markdown",
   "metadata": {},
   "source": [
    "# **Project Solution**"
   ]
  },
  {
   "cell_type": "markdown",
   "metadata": {},
   "source": [
    "\n",
    "#### Importing Libraries"
   ]
  },
  {
   "cell_type": "code",
   "execution_count": 54,
   "metadata": {},
   "outputs": [],
   "source": [
    "import pandas as pd\n",
    "import numpy as np\n",
    "import seaborn as sns\n",
    "import matplotlib.pyplot as plt\n",
    "# import math"
   ]
  },
  {
   "cell_type": "markdown",
   "metadata": {},
   "source": []
  },
  {
   "cell_type": "code",
   "execution_count": 55,
   "metadata": {},
   "outputs": [],
   "source": [
    "df = pd.read_csv(\"aerofit_treadmill.csv\")"
   ]
  },
  {
   "cell_type": "markdown",
   "metadata": {},
   "source": [
    "**Defining Problem Statement and Analysing basic metrics (10 Points)**\n",
    "\n",
    "- Observations on shape of data, \n",
    "- data types of all the attributes\n",
    "- conversion of categorical attributes to 'category'."
   ]
  },
  {
   "cell_type": "code",
   "execution_count": 56,
   "metadata": {},
   "outputs": [
    {
     "data": {
      "text/plain": [
       "(180, 9)"
      ]
     },
     "execution_count": 56,
     "metadata": {},
     "output_type": "execute_result"
    }
   ],
   "source": [
    "df.shape"
   ]
  },
  {
   "cell_type": "code",
   "execution_count": 57,
   "metadata": {},
   "outputs": [
    {
     "data": {
      "text/html": [
       "<div>\n",
       "<style scoped>\n",
       "    .dataframe tbody tr th:only-of-type {\n",
       "        vertical-align: middle;\n",
       "    }\n",
       "\n",
       "    .dataframe tbody tr th {\n",
       "        vertical-align: top;\n",
       "    }\n",
       "\n",
       "    .dataframe thead th {\n",
       "        text-align: right;\n",
       "    }\n",
       "</style>\n",
       "<table border=\"1\" class=\"dataframe\">\n",
       "  <thead>\n",
       "    <tr style=\"text-align: right;\">\n",
       "      <th></th>\n",
       "      <th>Product</th>\n",
       "      <th>Age</th>\n",
       "      <th>Gender</th>\n",
       "      <th>Education</th>\n",
       "      <th>MaritalStatus</th>\n",
       "      <th>Usage</th>\n",
       "      <th>Fitness</th>\n",
       "      <th>Income</th>\n",
       "      <th>Miles</th>\n",
       "    </tr>\n",
       "  </thead>\n",
       "  <tbody>\n",
       "    <tr>\n",
       "      <th>0</th>\n",
       "      <td>KP281</td>\n",
       "      <td>18</td>\n",
       "      <td>Male</td>\n",
       "      <td>14</td>\n",
       "      <td>Single</td>\n",
       "      <td>3</td>\n",
       "      <td>4</td>\n",
       "      <td>29562</td>\n",
       "      <td>112</td>\n",
       "    </tr>\n",
       "    <tr>\n",
       "      <th>1</th>\n",
       "      <td>KP281</td>\n",
       "      <td>19</td>\n",
       "      <td>Male</td>\n",
       "      <td>15</td>\n",
       "      <td>Single</td>\n",
       "      <td>2</td>\n",
       "      <td>3</td>\n",
       "      <td>31836</td>\n",
       "      <td>75</td>\n",
       "    </tr>\n",
       "    <tr>\n",
       "      <th>2</th>\n",
       "      <td>KP281</td>\n",
       "      <td>19</td>\n",
       "      <td>Female</td>\n",
       "      <td>14</td>\n",
       "      <td>Partnered</td>\n",
       "      <td>4</td>\n",
       "      <td>3</td>\n",
       "      <td>30699</td>\n",
       "      <td>66</td>\n",
       "    </tr>\n",
       "    <tr>\n",
       "      <th>3</th>\n",
       "      <td>KP281</td>\n",
       "      <td>19</td>\n",
       "      <td>Male</td>\n",
       "      <td>12</td>\n",
       "      <td>Single</td>\n",
       "      <td>3</td>\n",
       "      <td>3</td>\n",
       "      <td>32973</td>\n",
       "      <td>85</td>\n",
       "    </tr>\n",
       "    <tr>\n",
       "      <th>4</th>\n",
       "      <td>KP281</td>\n",
       "      <td>20</td>\n",
       "      <td>Male</td>\n",
       "      <td>13</td>\n",
       "      <td>Partnered</td>\n",
       "      <td>4</td>\n",
       "      <td>2</td>\n",
       "      <td>35247</td>\n",
       "      <td>47</td>\n",
       "    </tr>\n",
       "    <tr>\n",
       "      <th>5</th>\n",
       "      <td>KP281</td>\n",
       "      <td>20</td>\n",
       "      <td>Female</td>\n",
       "      <td>14</td>\n",
       "      <td>Partnered</td>\n",
       "      <td>3</td>\n",
       "      <td>3</td>\n",
       "      <td>32973</td>\n",
       "      <td>66</td>\n",
       "    </tr>\n",
       "    <tr>\n",
       "      <th>6</th>\n",
       "      <td>KP281</td>\n",
       "      <td>21</td>\n",
       "      <td>Female</td>\n",
       "      <td>14</td>\n",
       "      <td>Partnered</td>\n",
       "      <td>3</td>\n",
       "      <td>3</td>\n",
       "      <td>35247</td>\n",
       "      <td>75</td>\n",
       "    </tr>\n",
       "    <tr>\n",
       "      <th>7</th>\n",
       "      <td>KP281</td>\n",
       "      <td>21</td>\n",
       "      <td>Male</td>\n",
       "      <td>13</td>\n",
       "      <td>Single</td>\n",
       "      <td>3</td>\n",
       "      <td>3</td>\n",
       "      <td>32973</td>\n",
       "      <td>85</td>\n",
       "    </tr>\n",
       "    <tr>\n",
       "      <th>8</th>\n",
       "      <td>KP281</td>\n",
       "      <td>21</td>\n",
       "      <td>Male</td>\n",
       "      <td>15</td>\n",
       "      <td>Single</td>\n",
       "      <td>5</td>\n",
       "      <td>4</td>\n",
       "      <td>35247</td>\n",
       "      <td>141</td>\n",
       "    </tr>\n",
       "    <tr>\n",
       "      <th>9</th>\n",
       "      <td>KP281</td>\n",
       "      <td>21</td>\n",
       "      <td>Female</td>\n",
       "      <td>15</td>\n",
       "      <td>Partnered</td>\n",
       "      <td>2</td>\n",
       "      <td>3</td>\n",
       "      <td>37521</td>\n",
       "      <td>85</td>\n",
       "    </tr>\n",
       "  </tbody>\n",
       "</table>\n",
       "</div>"
      ],
      "text/plain": [
       "  Product  Age  Gender  Education MaritalStatus  Usage  Fitness  Income  Miles\n",
       "0   KP281   18    Male         14        Single      3        4   29562    112\n",
       "1   KP281   19    Male         15        Single      2        3   31836     75\n",
       "2   KP281   19  Female         14     Partnered      4        3   30699     66\n",
       "3   KP281   19    Male         12        Single      3        3   32973     85\n",
       "4   KP281   20    Male         13     Partnered      4        2   35247     47\n",
       "5   KP281   20  Female         14     Partnered      3        3   32973     66\n",
       "6   KP281   21  Female         14     Partnered      3        3   35247     75\n",
       "7   KP281   21    Male         13        Single      3        3   32973     85\n",
       "8   KP281   21    Male         15        Single      5        4   35247    141\n",
       "9   KP281   21  Female         15     Partnered      2        3   37521     85"
      ]
     },
     "execution_count": 57,
     "metadata": {},
     "output_type": "execute_result"
    }
   ],
   "source": [
    "df.head(10)"
   ]
  },
  {
   "cell_type": "code",
   "execution_count": 58,
   "metadata": {},
   "outputs": [
    {
     "data": {
      "text/html": [
       "<div>\n",
       "<style scoped>\n",
       "    .dataframe tbody tr th:only-of-type {\n",
       "        vertical-align: middle;\n",
       "    }\n",
       "\n",
       "    .dataframe tbody tr th {\n",
       "        vertical-align: top;\n",
       "    }\n",
       "\n",
       "    .dataframe thead th {\n",
       "        text-align: right;\n",
       "    }\n",
       "</style>\n",
       "<table border=\"1\" class=\"dataframe\">\n",
       "  <thead>\n",
       "    <tr style=\"text-align: right;\">\n",
       "      <th></th>\n",
       "      <th>Product</th>\n",
       "      <th>Age</th>\n",
       "      <th>Gender</th>\n",
       "      <th>Education</th>\n",
       "      <th>MaritalStatus</th>\n",
       "      <th>Usage</th>\n",
       "      <th>Fitness</th>\n",
       "      <th>Income</th>\n",
       "      <th>Miles</th>\n",
       "    </tr>\n",
       "  </thead>\n",
       "  <tbody>\n",
       "    <tr>\n",
       "      <th>170</th>\n",
       "      <td>KP781</td>\n",
       "      <td>31</td>\n",
       "      <td>Male</td>\n",
       "      <td>16</td>\n",
       "      <td>Partnered</td>\n",
       "      <td>6</td>\n",
       "      <td>5</td>\n",
       "      <td>89641</td>\n",
       "      <td>260</td>\n",
       "    </tr>\n",
       "    <tr>\n",
       "      <th>171</th>\n",
       "      <td>KP781</td>\n",
       "      <td>33</td>\n",
       "      <td>Female</td>\n",
       "      <td>18</td>\n",
       "      <td>Partnered</td>\n",
       "      <td>4</td>\n",
       "      <td>5</td>\n",
       "      <td>95866</td>\n",
       "      <td>200</td>\n",
       "    </tr>\n",
       "    <tr>\n",
       "      <th>172</th>\n",
       "      <td>KP781</td>\n",
       "      <td>34</td>\n",
       "      <td>Male</td>\n",
       "      <td>16</td>\n",
       "      <td>Single</td>\n",
       "      <td>5</td>\n",
       "      <td>5</td>\n",
       "      <td>92131</td>\n",
       "      <td>150</td>\n",
       "    </tr>\n",
       "    <tr>\n",
       "      <th>173</th>\n",
       "      <td>KP781</td>\n",
       "      <td>35</td>\n",
       "      <td>Male</td>\n",
       "      <td>16</td>\n",
       "      <td>Partnered</td>\n",
       "      <td>4</td>\n",
       "      <td>5</td>\n",
       "      <td>92131</td>\n",
       "      <td>360</td>\n",
       "    </tr>\n",
       "    <tr>\n",
       "      <th>174</th>\n",
       "      <td>KP781</td>\n",
       "      <td>38</td>\n",
       "      <td>Male</td>\n",
       "      <td>18</td>\n",
       "      <td>Partnered</td>\n",
       "      <td>5</td>\n",
       "      <td>5</td>\n",
       "      <td>104581</td>\n",
       "      <td>150</td>\n",
       "    </tr>\n",
       "    <tr>\n",
       "      <th>175</th>\n",
       "      <td>KP781</td>\n",
       "      <td>40</td>\n",
       "      <td>Male</td>\n",
       "      <td>21</td>\n",
       "      <td>Single</td>\n",
       "      <td>6</td>\n",
       "      <td>5</td>\n",
       "      <td>83416</td>\n",
       "      <td>200</td>\n",
       "    </tr>\n",
       "    <tr>\n",
       "      <th>176</th>\n",
       "      <td>KP781</td>\n",
       "      <td>42</td>\n",
       "      <td>Male</td>\n",
       "      <td>18</td>\n",
       "      <td>Single</td>\n",
       "      <td>5</td>\n",
       "      <td>4</td>\n",
       "      <td>89641</td>\n",
       "      <td>200</td>\n",
       "    </tr>\n",
       "    <tr>\n",
       "      <th>177</th>\n",
       "      <td>KP781</td>\n",
       "      <td>45</td>\n",
       "      <td>Male</td>\n",
       "      <td>16</td>\n",
       "      <td>Single</td>\n",
       "      <td>5</td>\n",
       "      <td>5</td>\n",
       "      <td>90886</td>\n",
       "      <td>160</td>\n",
       "    </tr>\n",
       "    <tr>\n",
       "      <th>178</th>\n",
       "      <td>KP781</td>\n",
       "      <td>47</td>\n",
       "      <td>Male</td>\n",
       "      <td>18</td>\n",
       "      <td>Partnered</td>\n",
       "      <td>4</td>\n",
       "      <td>5</td>\n",
       "      <td>104581</td>\n",
       "      <td>120</td>\n",
       "    </tr>\n",
       "    <tr>\n",
       "      <th>179</th>\n",
       "      <td>KP781</td>\n",
       "      <td>48</td>\n",
       "      <td>Male</td>\n",
       "      <td>18</td>\n",
       "      <td>Partnered</td>\n",
       "      <td>4</td>\n",
       "      <td>5</td>\n",
       "      <td>95508</td>\n",
       "      <td>180</td>\n",
       "    </tr>\n",
       "  </tbody>\n",
       "</table>\n",
       "</div>"
      ],
      "text/plain": [
       "    Product  Age  Gender  Education MaritalStatus  Usage  Fitness  Income  \\\n",
       "170   KP781   31    Male         16     Partnered      6        5   89641   \n",
       "171   KP781   33  Female         18     Partnered      4        5   95866   \n",
       "172   KP781   34    Male         16        Single      5        5   92131   \n",
       "173   KP781   35    Male         16     Partnered      4        5   92131   \n",
       "174   KP781   38    Male         18     Partnered      5        5  104581   \n",
       "175   KP781   40    Male         21        Single      6        5   83416   \n",
       "176   KP781   42    Male         18        Single      5        4   89641   \n",
       "177   KP781   45    Male         16        Single      5        5   90886   \n",
       "178   KP781   47    Male         18     Partnered      4        5  104581   \n",
       "179   KP781   48    Male         18     Partnered      4        5   95508   \n",
       "\n",
       "     Miles  \n",
       "170    260  \n",
       "171    200  \n",
       "172    150  \n",
       "173    360  \n",
       "174    150  \n",
       "175    200  \n",
       "176    200  \n",
       "177    160  \n",
       "178    120  \n",
       "179    180  "
      ]
     },
     "execution_count": 58,
     "metadata": {},
     "output_type": "execute_result"
    }
   ],
   "source": [
    "df.tail(10)"
   ]
  },
  {
   "cell_type": "code",
   "execution_count": 59,
   "metadata": {},
   "outputs": [
    {
     "data": {
      "text/html": [
       "<div>\n",
       "<style scoped>\n",
       "    .dataframe tbody tr th:only-of-type {\n",
       "        vertical-align: middle;\n",
       "    }\n",
       "\n",
       "    .dataframe tbody tr th {\n",
       "        vertical-align: top;\n",
       "    }\n",
       "\n",
       "    .dataframe thead th {\n",
       "        text-align: right;\n",
       "    }\n",
       "</style>\n",
       "<table border=\"1\" class=\"dataframe\">\n",
       "  <thead>\n",
       "    <tr style=\"text-align: right;\">\n",
       "      <th></th>\n",
       "      <th>count</th>\n",
       "      <th>mean</th>\n",
       "      <th>std</th>\n",
       "      <th>min</th>\n",
       "      <th>25%</th>\n",
       "      <th>50%</th>\n",
       "      <th>75%</th>\n",
       "      <th>max</th>\n",
       "    </tr>\n",
       "  </thead>\n",
       "  <tbody>\n",
       "    <tr>\n",
       "      <th>Age</th>\n",
       "      <td>180.0</td>\n",
       "      <td>28.788889</td>\n",
       "      <td>6.943498</td>\n",
       "      <td>18.0</td>\n",
       "      <td>24.00</td>\n",
       "      <td>26.0</td>\n",
       "      <td>33.00</td>\n",
       "      <td>50.0</td>\n",
       "    </tr>\n",
       "    <tr>\n",
       "      <th>Education</th>\n",
       "      <td>180.0</td>\n",
       "      <td>15.572222</td>\n",
       "      <td>1.617055</td>\n",
       "      <td>12.0</td>\n",
       "      <td>14.00</td>\n",
       "      <td>16.0</td>\n",
       "      <td>16.00</td>\n",
       "      <td>21.0</td>\n",
       "    </tr>\n",
       "    <tr>\n",
       "      <th>Usage</th>\n",
       "      <td>180.0</td>\n",
       "      <td>3.455556</td>\n",
       "      <td>1.084797</td>\n",
       "      <td>2.0</td>\n",
       "      <td>3.00</td>\n",
       "      <td>3.0</td>\n",
       "      <td>4.00</td>\n",
       "      <td>7.0</td>\n",
       "    </tr>\n",
       "    <tr>\n",
       "      <th>Fitness</th>\n",
       "      <td>180.0</td>\n",
       "      <td>3.311111</td>\n",
       "      <td>0.958869</td>\n",
       "      <td>1.0</td>\n",
       "      <td>3.00</td>\n",
       "      <td>3.0</td>\n",
       "      <td>4.00</td>\n",
       "      <td>5.0</td>\n",
       "    </tr>\n",
       "    <tr>\n",
       "      <th>Income</th>\n",
       "      <td>180.0</td>\n",
       "      <td>53719.577778</td>\n",
       "      <td>16506.684226</td>\n",
       "      <td>29562.0</td>\n",
       "      <td>44058.75</td>\n",
       "      <td>50596.5</td>\n",
       "      <td>58668.00</td>\n",
       "      <td>104581.0</td>\n",
       "    </tr>\n",
       "    <tr>\n",
       "      <th>Miles</th>\n",
       "      <td>180.0</td>\n",
       "      <td>103.194444</td>\n",
       "      <td>51.863605</td>\n",
       "      <td>21.0</td>\n",
       "      <td>66.00</td>\n",
       "      <td>94.0</td>\n",
       "      <td>114.75</td>\n",
       "      <td>360.0</td>\n",
       "    </tr>\n",
       "  </tbody>\n",
       "</table>\n",
       "</div>"
      ],
      "text/plain": [
       "           count          mean           std      min       25%      50%  \\\n",
       "Age        180.0     28.788889      6.943498     18.0     24.00     26.0   \n",
       "Education  180.0     15.572222      1.617055     12.0     14.00     16.0   \n",
       "Usage      180.0      3.455556      1.084797      2.0      3.00      3.0   \n",
       "Fitness    180.0      3.311111      0.958869      1.0      3.00      3.0   \n",
       "Income     180.0  53719.577778  16506.684226  29562.0  44058.75  50596.5   \n",
       "Miles      180.0    103.194444     51.863605     21.0     66.00     94.0   \n",
       "\n",
       "                75%       max  \n",
       "Age           33.00      50.0  \n",
       "Education     16.00      21.0  \n",
       "Usage          4.00       7.0  \n",
       "Fitness        4.00       5.0  \n",
       "Income     58668.00  104581.0  \n",
       "Miles        114.75     360.0  "
      ]
     },
     "execution_count": 59,
     "metadata": {},
     "output_type": "execute_result"
    }
   ],
   "source": [
    "df.describe().T"
   ]
  },
  {
   "cell_type": "markdown",
   "metadata": {},
   "source": [
    "**Missing Value & Outlier Detection (10 Points)**"
   ]
  },
  {
   "cell_type": "code",
   "execution_count": 60,
   "metadata": {},
   "outputs": [
    {
     "data": {
      "text/plain": [
       "Product          0\n",
       "Age              0\n",
       "Gender           0\n",
       "Education        0\n",
       "MaritalStatus    0\n",
       "Usage            0\n",
       "Fitness          0\n",
       "Income           0\n",
       "Miles            0\n",
       "dtype: int64"
      ]
     },
     "execution_count": 60,
     "metadata": {},
     "output_type": "execute_result"
    }
   ],
   "source": [
    "df.isna().sum()"
   ]
  },
  {
   "cell_type": "markdown",
   "metadata": {},
   "source": [
    "**There are no NA or Null values in the dataset.**"
   ]
  },
  {
   "cell_type": "code",
   "execution_count": 61,
   "metadata": {},
   "outputs": [
    {
     "name": "stdout",
     "output_type": "stream",
     "text": [
      "<class 'pandas.core.frame.DataFrame'>\n",
      "RangeIndex: 180 entries, 0 to 179\n",
      "Data columns (total 9 columns):\n",
      " #   Column         Non-Null Count  Dtype \n",
      "---  ------         --------------  ----- \n",
      " 0   Product        180 non-null    object\n",
      " 1   Age            180 non-null    int64 \n",
      " 2   Gender         180 non-null    object\n",
      " 3   Education      180 non-null    int64 \n",
      " 4   MaritalStatus  180 non-null    object\n",
      " 5   Usage          180 non-null    int64 \n",
      " 6   Fitness        180 non-null    int64 \n",
      " 7   Income         180 non-null    int64 \n",
      " 8   Miles          180 non-null    int64 \n",
      "dtypes: int64(6), object(3)\n",
      "memory usage: 12.8+ KB\n"
     ]
    }
   ],
   "source": [
    "df.info()"
   ]
  },
  {
   "cell_type": "markdown",
   "metadata": {},
   "source": [
    "### **Changing the it to \"object\" datatype to \"category\" to save memory**"
   ]
  },
  {
   "cell_type": "code",
   "execution_count": 62,
   "metadata": {},
   "outputs": [
    {
     "name": "stdout",
     "output_type": "stream",
     "text": [
      "New df memory usage: 10071\n"
     ]
    }
   ],
   "source": [
    "# print('Old df memory usage:', df.memory_usage(deep=True).sum())\n",
    "\n",
    "df.Product=df[\"Product\"].astype(\"category\")\n",
    "df.Gender=df[\"Gender\"].astype(\"category\")\n",
    "df.MaritalStatus=df[\"MaritalStatus\"].astype(\"category\")\n",
    "\n",
    "print('New df memory usage:', df.memory_usage(deep=True).sum())"
   ]
  },
  {
   "cell_type": "markdown",
   "metadata": {},
   "source": [
    "**Non-Graphical Analysis: Value counts and unique attributes ​​(10 Points)**"
   ]
  },
  {
   "cell_type": "code",
   "execution_count": 63,
   "metadata": {},
   "outputs": [
    {
     "data": {
      "text/plain": [
       "Index(['Product', 'Age', 'Gender', 'Education', 'MaritalStatus', 'Usage',\n",
       "       'Fitness', 'Income', 'Miles'],\n",
       "      dtype='object')"
      ]
     },
     "execution_count": 63,
     "metadata": {},
     "output_type": "execute_result"
    }
   ],
   "source": [
    "df.columns"
   ]
  },
  {
   "cell_type": "markdown",
   "metadata": {},
   "source": [
    "**Numeric Columns**"
   ]
  },
  {
   "cell_type": "code",
   "execution_count": 64,
   "metadata": {},
   "outputs": [
    {
     "data": {
      "text/plain": [
       "Index(['Age', 'Education', 'Usage', 'Fitness', 'Income', 'Miles'], dtype='object')"
      ]
     },
     "execution_count": 64,
     "metadata": {},
     "output_type": "execute_result"
    }
   ],
   "source": [
    "numeric_columns = df.select_dtypes(include=np.number).columns\n",
    "numeric_columns"
   ]
  },
  {
   "cell_type": "markdown",
   "metadata": {},
   "source": [
    "**Categorical Columns**"
   ]
  },
  {
   "cell_type": "code",
   "execution_count": 65,
   "metadata": {},
   "outputs": [
    {
     "data": {
      "text/plain": [
       "Index(['Product', 'Gender', 'MaritalStatus'], dtype='object')"
      ]
     },
     "execution_count": 65,
     "metadata": {},
     "output_type": "execute_result"
    }
   ],
   "source": [
    "cat_columns = df.select_dtypes(include=['category']).columns\n",
    "cat_columns"
   ]
  },
  {
   "cell_type": "markdown",
   "metadata": {},
   "source": [
    "### **Outlier Treatment**"
   ]
  },
  {
   "cell_type": "code",
   "execution_count": 66,
   "metadata": {},
   "outputs": [
    {
     "name": "stdout",
     "output_type": "stream",
     "text": [
      "Old Shape:  (180, 9)\n",
      "New Shape:  (175, 9)\n"
     ]
    }
   ],
   "source": [
    "# Age\n",
    "_col = 'Age'\n",
    "\n",
    "Q1, Q3 = np.percentile(df[_col], [25,75])\n",
    "IQR = Q3 - Q1\n",
    " \n",
    "print(\"Old Shape: \", df.shape)\n",
    " \n",
    "# Upper bound\n",
    "upper = np.where(df[_col] >= (Q3+1.5*IQR))\n",
    "# Lower bound\n",
    "lower = np.where(df[_col] <= (Q1-1.5*IQR))\n",
    " \n",
    "''' Removing the Outliers '''\n",
    "df.drop(upper[0], inplace = True)\n",
    "df.drop(lower[0], inplace = True)\n",
    "print(\"New Shape: \", df.shape)"
   ]
  },
  {
   "cell_type": "code",
   "execution_count": 67,
   "metadata": {},
   "outputs": [
    {
     "data": {
      "text/plain": [
       "Index(['Age', 'Education', 'Usage', 'Fitness', 'Income', 'Miles'], dtype='object')"
      ]
     },
     "execution_count": 67,
     "metadata": {},
     "output_type": "execute_result"
    }
   ],
   "source": [
    "numeric_columns"
   ]
  },
  {
   "cell_type": "code",
   "execution_count": 68,
   "metadata": {},
   "outputs": [
    {
     "name": "stdout",
     "output_type": "stream",
     "text": [
      "Old Shape:  (175, 9)\n",
      "New Shape:  (171, 9)\n"
     ]
    }
   ],
   "source": [
    "# Age\n",
    "_col = 'Education'\n",
    "\n",
    "Q1, Q3 = np.percentile(df[_col], [25,75])\n",
    "IQR = Q3 - Q1\n",
    " \n",
    "print(\"Old Shape: \", df.shape)\n",
    " \n",
    "# Upper bound\n",
    "upper = np.where(df[_col] >= (Q3+1.5*IQR))\n",
    "# Lower bound\n",
    "lower = np.where(df[_col] <= (Q1-1.5*IQR))\n",
    " \n",
    "''' Removing the Outliers '''\n",
    "df.drop(upper[0], inplace = True)\n",
    "df.drop(lower[0], inplace = True)\n",
    "print(\"New Shape: \", df.shape)"
   ]
  },
  {
   "cell_type": "code",
   "execution_count": 69,
   "metadata": {},
   "outputs": [
    {
     "name": "stdout",
     "output_type": "stream",
     "text": [
      "Old Shape:  (171, 9)\n",
      "New Shape:  (169, 9)\n"
     ]
    }
   ],
   "source": [
    "# Age\n",
    "_col = 'Fitness'\n",
    "\n",
    "Q1, Q3 = np.percentile(df[_col], [25,75])\n",
    "IQR = Q3 - Q1\n",
    " \n",
    "print(\"Old Shape: \", df.shape)\n",
    " \n",
    "# Upper bound\n",
    "upper = np.where(df[_col] >= (Q3+1.5*IQR))\n",
    "# Lower bound\n",
    "lower = np.where(df[_col] <= (Q1-1.5*IQR))\n",
    " \n",
    "''' Removing the Outliers '''\n",
    "df.drop(upper[0], inplace = True)\n",
    "df.drop(lower[0], inplace = True)\n",
    "print(\"New Shape: \", df.shape)"
   ]
  },
  {
   "cell_type": "code",
   "execution_count": 70,
   "metadata": {},
   "outputs": [
    {
     "name": "stdout",
     "output_type": "stream",
     "text": [
      "Old Shape:  (169, 9)\n",
      "New Shape:  (156, 9)\n"
     ]
    }
   ],
   "source": [
    "# Age\n",
    "_col = 'Income'\n",
    "\n",
    "Q1, Q3 = np.percentile(df[_col], [25,75])\n",
    "IQR = Q3 - Q1\n",
    " \n",
    "print(\"Old Shape: \", df.shape)\n",
    " \n",
    "# Upper bound\n",
    "upper = np.where(df[_col] >= (Q3+1.5*IQR))\n",
    "# Lower bound\n",
    "lower = np.where(df[_col] <= (Q1-1.5*IQR))\n",
    " \n",
    "''' Removing the Outliers '''\n",
    "df.drop(upper[0], inplace = True, errors = 'ignore')\n",
    "df.drop(lower[0], inplace = True, errors = 'ignore')\n",
    "print(\"New Shape: \", df.shape)"
   ]
  },
  {
   "cell_type": "code",
   "execution_count": 71,
   "metadata": {},
   "outputs": [
    {
     "name": "stdout",
     "output_type": "stream",
     "text": [
      "Old Shape:  (156, 9)\n",
      "New Shape:  (154, 9)\n"
     ]
    }
   ],
   "source": [
    "# Age\n",
    "_col = 'Usage'\n",
    "\n",
    "Q1, Q3 = np.percentile(df[_col], [25,75])\n",
    "IQR = Q3 - Q1\n",
    " \n",
    "print(\"Old Shape: \", df.shape)\n",
    " \n",
    "# Upper bound\n",
    "upper = np.where(df[_col] >= (Q3+1.5*IQR))\n",
    "# Lower bound\n",
    "lower = np.where(df[_col] <= (Q1-1.5*IQR))\n",
    " \n",
    "''' Removing the Outliers '''\n",
    "df.drop(upper[0], inplace = True, errors = 'ignore')\n",
    "df.drop(lower[0], inplace = True, errors = 'ignore')\n",
    "print(\"New Shape: \", df.shape)"
   ]
  },
  {
   "cell_type": "code",
   "execution_count": 72,
   "metadata": {},
   "outputs": [
    {
     "name": "stdout",
     "output_type": "stream",
     "text": [
      "Old Shape:  (154, 9)\n",
      "New Shape:  (144, 9)\n"
     ]
    }
   ],
   "source": [
    "# Age\n",
    "_col = 'Miles'\n",
    "\n",
    "Q1, Q3 = np.percentile(df[_col], [25,75])\n",
    "IQR = Q3 - Q1\n",
    " \n",
    "print(\"Old Shape: \", df.shape)\n",
    " \n",
    "# Upper bound\n",
    "upper = np.where(df[_col] >= (Q3+1.5*IQR))\n",
    "# Lower bound\n",
    "lower = np.where(df[_col] <= (Q1-1.5*IQR))\n",
    " \n",
    "''' Removing the Outliers '''\n",
    "df.drop(upper[0], inplace = True, errors = 'ignore')\n",
    "df.drop(lower[0], inplace = True, errors = 'ignore')\n",
    "print(\"New Shape: \", df.shape)"
   ]
  },
  {
   "cell_type": "markdown",
   "metadata": {},
   "source": [
    "- **Final data of the dataframe after outlier treatment contains 144 rows**"
   ]
  },
  {
   "cell_type": "code",
   "execution_count": 73,
   "metadata": {},
   "outputs": [
    {
     "data": {
      "text/plain": [
       "3    85\n",
       "2    26\n",
       "4    18\n",
       "5    14\n",
       "1     1\n",
       "Name: Fitness, dtype: int64"
      ]
     },
     "execution_count": 73,
     "metadata": {},
     "output_type": "execute_result"
    }
   ],
   "source": [
    "df['Fitness'].value_counts()"
   ]
  },
  {
   "cell_type": "code",
   "execution_count": 74,
   "metadata": {},
   "outputs": [
    {
     "data": {
      "image/png": "[encoded data removed]",
      "text/plain": [
       "<Figure size 432x288 with 1 Axes>"
      ]
     },
     "metadata": {
      "needs_background": "light"
     },
     "output_type": "display_data"
    }
   ],
   "source": [
    "sns.countplot(data=df,x='Fitness')\n",
    "plt.show()"
   ]
  },
  {
   "cell_type": "markdown",
   "metadata": {},
   "source": [
    "- **Self rated Fitness scores shows normal distribution curve, with most of the values lies around 3 and data looks to be equally distrubuted in both the sides**"
   ]
  },
  {
   "cell_type": "code",
   "execution_count": 75,
   "metadata": {},
   "outputs": [
    {
     "data": {
      "text/plain": [
       "3    64\n",
       "4    39\n",
       "2    30\n",
       "5     8\n",
       "6     3\n",
       "Name: Usage, dtype: int64"
      ]
     },
     "execution_count": 75,
     "metadata": {},
     "output_type": "execute_result"
    }
   ],
   "source": [
    "df['Usage'].value_counts()"
   ]
  },
  {
   "cell_type": "code",
   "execution_count": 76,
   "metadata": {},
   "outputs": [
    {
     "data": {
      "image/png": "[encoded data removed]",
      "text/plain": [
       "<Figure size 432x288 with 1 Axes>"
      ]
     },
     "metadata": {
      "needs_background": "light"
     },
     "output_type": "display_data"
    }
   ],
   "source": [
    "sns.countplot(data=df,x='Usage')\n",
    "plt.show()"
   ]
  },
  {
   "cell_type": "markdown",
   "metadata": {},
   "source": [
    "- The average number of times the customer plans to use the treadmill each week is maximum value with **3 times per week**"
   ]
  },
  {
   "cell_type": "code",
   "execution_count": 77,
   "metadata": {},
   "outputs": [
    {
     "data": {
      "text/plain": [
       "Partnered    82\n",
       "Single       62\n",
       "Name: MaritalStatus, dtype: int64"
      ]
     },
     "execution_count": 77,
     "metadata": {},
     "output_type": "execute_result"
    }
   ],
   "source": [
    "df['MaritalStatus'].value_counts()"
   ]
  },
  {
   "cell_type": "code",
   "execution_count": 78,
   "metadata": {},
   "outputs": [
    {
     "data": {
      "image/png": "[encoded data removed]",
      "text/plain": [
       "<Figure size 432x288 with 1 Axes>"
      ]
     },
     "metadata": {
      "needs_background": "light"
     },
     "output_type": "display_data"
    }
   ],
   "source": [
    "sns.countplot(data=df,x='MaritalStatus')\n",
    "plt.show()"
   ]
  },
  {
   "cell_type": "markdown",
   "metadata": {},
   "source": [
    "- Treadmill is mostly used by **Partnered**"
   ]
  },
  {
   "cell_type": "code",
   "execution_count": 79,
   "metadata": {},
   "outputs": [
    {
     "data": {
      "text/plain": [
       "Male      78\n",
       "Female    66\n",
       "Name: Gender, dtype: int64"
      ]
     },
     "execution_count": 79,
     "metadata": {},
     "output_type": "execute_result"
    }
   ],
   "source": [
    "df['Gender'].value_counts()"
   ]
  },
  {
   "cell_type": "code",
   "execution_count": 80,
   "metadata": {},
   "outputs": [
    {
     "data": {
      "image/png": "[encoded data removed]",
      "text/plain": [
       "<Figure size 432x288 with 1 Axes>"
      ]
     },
     "metadata": {
      "needs_background": "light"
     },
     "output_type": "display_data"
    }
   ],
   "source": [
    "sns.countplot(data=df,x='Gender')\n",
    "plt.show()"
   ]
  },
  {
   "cell_type": "markdown",
   "metadata": {},
   "source": [
    "- Treadmill is mostly used by **Males**"
   ]
  },
  {
   "cell_type": "code",
   "execution_count": 81,
   "metadata": {},
   "outputs": [
    {
     "data": {
      "text/plain": [
       "16    68\n",
       "14    52\n",
       "18     9\n",
       "15     5\n",
       "13     5\n",
       "12     3\n",
       "21     2\n",
       "Name: Education, dtype: int64"
      ]
     },
     "execution_count": 81,
     "metadata": {},
     "output_type": "execute_result"
    }
   ],
   "source": [
    "df['Education'].value_counts()"
   ]
  },
  {
   "cell_type": "code",
   "execution_count": 82,
   "metadata": {},
   "outputs": [
    {
     "data": {
      "image/png": "[encoded data removed]",
      "text/plain": [
       "<Figure size 432x288 with 1 Axes>"
      ]
     },
     "metadata": {
      "needs_background": "light"
     },
     "output_type": "display_data"
    }
   ],
   "source": [
    "sns.countplot(data=df,x='Education')\n",
    "plt.show()"
   ]
  },
  {
   "cell_type": "markdown",
   "metadata": {},
   "source": [
    "- From above we can infer that people with 14 and 16 years of education most users of treadmils.\n",
    "- Strangely people with education 15 have quite less users of treadmils as compared to 14 and 16 years of education "
   ]
  },
  {
   "cell_type": "markdown",
   "metadata": {},
   "source": [
    "Understanding Product Portfolio:\n",
    "\n",
    "- The KP281 is an entry-level treadmill that sells for $1,500.\n",
    "- The KP481 is for mid-level runners that sell for $1,750.\n",
    "- The KP781 treadmill is having advanced features that sell for $2,500."
   ]
  },
  {
   "cell_type": "code",
   "execution_count": 83,
   "metadata": {},
   "outputs": [
    {
     "data": {
      "text/plain": [
       "KP281    75\n",
       "KP481    54\n",
       "KP781    15\n",
       "Name: Product, dtype: int64"
      ]
     },
     "execution_count": 83,
     "metadata": {},
     "output_type": "execute_result"
    }
   ],
   "source": [
    "df['Product'].value_counts()"
   ]
  },
  {
   "cell_type": "code",
   "execution_count": 84,
   "metadata": {},
   "outputs": [
    {
     "data": {
      "text/html": [
       "<div>\n",
       "<style scoped>\n",
       "    .dataframe tbody tr th:only-of-type {\n",
       "        vertical-align: middle;\n",
       "    }\n",
       "\n",
       "    .dataframe tbody tr th {\n",
       "        vertical-align: top;\n",
       "    }\n",
       "\n",
       "    .dataframe thead th {\n",
       "        text-align: right;\n",
       "    }\n",
       "</style>\n",
       "<table border=\"1\" class=\"dataframe\">\n",
       "  <thead>\n",
       "    <tr style=\"text-align: right;\">\n",
       "      <th></th>\n",
       "      <th>count</th>\n",
       "      <th>mean</th>\n",
       "      <th>std</th>\n",
       "      <th>min</th>\n",
       "      <th>25%</th>\n",
       "      <th>50%</th>\n",
       "      <th>75%</th>\n",
       "      <th>max</th>\n",
       "    </tr>\n",
       "  </thead>\n",
       "  <tbody>\n",
       "    <tr>\n",
       "      <th>Age</th>\n",
       "      <td>75.0</td>\n",
       "      <td>28.093333</td>\n",
       "      <td>6.609112</td>\n",
       "      <td>18.0</td>\n",
       "      <td>23.0</td>\n",
       "      <td>26.0</td>\n",
       "      <td>32.0</td>\n",
       "      <td>46.0</td>\n",
       "    </tr>\n",
       "    <tr>\n",
       "      <th>Education</th>\n",
       "      <td>75.0</td>\n",
       "      <td>14.973333</td>\n",
       "      <td>1.229956</td>\n",
       "      <td>12.0</td>\n",
       "      <td>14.0</td>\n",
       "      <td>15.0</td>\n",
       "      <td>16.0</td>\n",
       "      <td>18.0</td>\n",
       "    </tr>\n",
       "    <tr>\n",
       "      <th>Usage</th>\n",
       "      <td>75.0</td>\n",
       "      <td>3.066667</td>\n",
       "      <td>0.794123</td>\n",
       "      <td>2.0</td>\n",
       "      <td>2.5</td>\n",
       "      <td>3.0</td>\n",
       "      <td>4.0</td>\n",
       "      <td>5.0</td>\n",
       "    </tr>\n",
       "    <tr>\n",
       "      <th>Fitness</th>\n",
       "      <td>75.0</td>\n",
       "      <td>2.986667</td>\n",
       "      <td>0.647100</td>\n",
       "      <td>2.0</td>\n",
       "      <td>3.0</td>\n",
       "      <td>3.0</td>\n",
       "      <td>3.0</td>\n",
       "      <td>5.0</td>\n",
       "    </tr>\n",
       "    <tr>\n",
       "      <th>Income</th>\n",
       "      <td>75.0</td>\n",
       "      <td>46192.520000</td>\n",
       "      <td>8987.361848</td>\n",
       "      <td>29562.0</td>\n",
       "      <td>38658.0</td>\n",
       "      <td>46617.0</td>\n",
       "      <td>52870.5</td>\n",
       "      <td>68220.0</td>\n",
       "    </tr>\n",
       "    <tr>\n",
       "      <th>Miles</th>\n",
       "      <td>75.0</td>\n",
       "      <td>83.160000</td>\n",
       "      <td>29.416414</td>\n",
       "      <td>38.0</td>\n",
       "      <td>66.0</td>\n",
       "      <td>85.0</td>\n",
       "      <td>94.0</td>\n",
       "      <td>188.0</td>\n",
       "    </tr>\n",
       "  </tbody>\n",
       "</table>\n",
       "</div>"
      ],
      "text/plain": [
       "           count          mean          std      min      25%      50%  \\\n",
       "Age         75.0     28.093333     6.609112     18.0     23.0     26.0   \n",
       "Education   75.0     14.973333     1.229956     12.0     14.0     15.0   \n",
       "Usage       75.0      3.066667     0.794123      2.0      2.5      3.0   \n",
       "Fitness     75.0      2.986667     0.647100      2.0      3.0      3.0   \n",
       "Income      75.0  46192.520000  8987.361848  29562.0  38658.0  46617.0   \n",
       "Miles       75.0     83.160000    29.416414     38.0     66.0     85.0   \n",
       "\n",
       "               75%      max  \n",
       "Age           32.0     46.0  \n",
       "Education     16.0     18.0  \n",
       "Usage          4.0      5.0  \n",
       "Fitness        3.0      5.0  \n",
       "Income     52870.5  68220.0  \n",
       "Miles         94.0    188.0  "
      ]
     },
     "execution_count": 84,
     "metadata": {},
     "output_type": "execute_result"
    }
   ],
   "source": [
    "df[df['Product']=='KP281'].describe().T"
   ]
  },
  {
   "cell_type": "markdown",
   "metadata": {},
   "source": [
    "#### OBSERVATIONS\n",
    "\n",
    "Some of the important conclusions:\n",
    "\n",
    "- Exactly **80 customers** purchased KP281 Model.\n",
    "- The average age of customers who bought KP281 is 28.55, whereas the **min and max age is 18 and 50** respectively.\n",
    "- Average Education is 15 and median is 16.\n",
    "- Expected usage is **3 day** a week"
   ]
  },
  {
   "cell_type": "markdown",
   "metadata": {},
   "source": []
  },
  {
   "cell_type": "code",
   "execution_count": 85,
   "metadata": {},
   "outputs": [
    {
     "data": {
      "text/html": [
       "<div>\n",
       "<style scoped>\n",
       "    .dataframe tbody tr th:only-of-type {\n",
       "        vertical-align: middle;\n",
       "    }\n",
       "\n",
       "    .dataframe tbody tr th {\n",
       "        vertical-align: top;\n",
       "    }\n",
       "\n",
       "    .dataframe thead th {\n",
       "        text-align: right;\n",
       "    }\n",
       "</style>\n",
       "<table border=\"1\" class=\"dataframe\">\n",
       "  <thead>\n",
       "    <tr style=\"text-align: right;\">\n",
       "      <th></th>\n",
       "      <th>count</th>\n",
       "      <th>mean</th>\n",
       "      <th>std</th>\n",
       "      <th>min</th>\n",
       "      <th>25%</th>\n",
       "      <th>50%</th>\n",
       "      <th>75%</th>\n",
       "      <th>max</th>\n",
       "    </tr>\n",
       "  </thead>\n",
       "  <tbody>\n",
       "    <tr>\n",
       "      <th>Age</th>\n",
       "      <td>54.0</td>\n",
       "      <td>28.500000</td>\n",
       "      <td>6.151392</td>\n",
       "      <td>19.0</td>\n",
       "      <td>24.0</td>\n",
       "      <td>26.0</td>\n",
       "      <td>33.00</td>\n",
       "      <td>45.0</td>\n",
       "    </tr>\n",
       "    <tr>\n",
       "      <th>Education</th>\n",
       "      <td>54.0</td>\n",
       "      <td>15.092593</td>\n",
       "      <td>1.247919</td>\n",
       "      <td>12.0</td>\n",
       "      <td>14.0</td>\n",
       "      <td>16.0</td>\n",
       "      <td>16.00</td>\n",
       "      <td>18.0</td>\n",
       "    </tr>\n",
       "    <tr>\n",
       "      <th>Usage</th>\n",
       "      <td>54.0</td>\n",
       "      <td>3.092593</td>\n",
       "      <td>0.759059</td>\n",
       "      <td>2.0</td>\n",
       "      <td>3.0</td>\n",
       "      <td>3.0</td>\n",
       "      <td>3.75</td>\n",
       "      <td>5.0</td>\n",
       "    </tr>\n",
       "    <tr>\n",
       "      <th>Fitness</th>\n",
       "      <td>54.0</td>\n",
       "      <td>2.888889</td>\n",
       "      <td>0.663515</td>\n",
       "      <td>1.0</td>\n",
       "      <td>3.0</td>\n",
       "      <td>3.0</td>\n",
       "      <td>3.00</td>\n",
       "      <td>4.0</td>\n",
       "    </tr>\n",
       "    <tr>\n",
       "      <th>Income</th>\n",
       "      <td>54.0</td>\n",
       "      <td>48730.166667</td>\n",
       "      <td>8478.621285</td>\n",
       "      <td>31836.0</td>\n",
       "      <td>43774.5</td>\n",
       "      <td>48891.0</td>\n",
       "      <td>53439.00</td>\n",
       "      <td>67083.0</td>\n",
       "    </tr>\n",
       "    <tr>\n",
       "      <th>Miles</th>\n",
       "      <td>54.0</td>\n",
       "      <td>88.870370</td>\n",
       "      <td>34.323679</td>\n",
       "      <td>21.0</td>\n",
       "      <td>64.0</td>\n",
       "      <td>85.0</td>\n",
       "      <td>106.00</td>\n",
       "      <td>212.0</td>\n",
       "    </tr>\n",
       "  </tbody>\n",
       "</table>\n",
       "</div>"
      ],
      "text/plain": [
       "           count          mean          std      min      25%      50%  \\\n",
       "Age         54.0     28.500000     6.151392     19.0     24.0     26.0   \n",
       "Education   54.0     15.092593     1.247919     12.0     14.0     16.0   \n",
       "Usage       54.0      3.092593     0.759059      2.0      3.0      3.0   \n",
       "Fitness     54.0      2.888889     0.663515      1.0      3.0      3.0   \n",
       "Income      54.0  48730.166667  8478.621285  31836.0  43774.5  48891.0   \n",
       "Miles       54.0     88.870370    34.323679     21.0     64.0     85.0   \n",
       "\n",
       "                75%      max  \n",
       "Age           33.00     45.0  \n",
       "Education     16.00     18.0  \n",
       "Usage          3.75      5.0  \n",
       "Fitness        3.00      4.0  \n",
       "Income     53439.00  67083.0  \n",
       "Miles        106.00    212.0  "
      ]
     },
     "execution_count": 85,
     "metadata": {},
     "output_type": "execute_result"
    }
   ],
   "source": [
    "df[df['Product']=='KP481'].describe().T"
   ]
  },
  {
   "cell_type": "markdown",
   "metadata": {},
   "source": [
    "#### OBSERVATIONS\n",
    "\n",
    "Some of the important conclusions:\n",
    "\n",
    "- Exactly **60 customers** purchased KP481 Model.\n",
    "- The average age of customers who bought KP281 is 28.90, whereas the **min and max age is 19 and 48** respectively.\n",
    "- Average Education is 15 and median is 16.\n",
    "- Expected usage is **3 day** a week"
   ]
  },
  {
   "cell_type": "code",
   "execution_count": 86,
   "metadata": {},
   "outputs": [
    {
     "data": {
      "text/html": [
       "<div>\n",
       "<style scoped>\n",
       "    .dataframe tbody tr th:only-of-type {\n",
       "        vertical-align: middle;\n",
       "    }\n",
       "\n",
       "    .dataframe tbody tr th {\n",
       "        vertical-align: top;\n",
       "    }\n",
       "\n",
       "    .dataframe thead th {\n",
       "        text-align: right;\n",
       "    }\n",
       "</style>\n",
       "<table border=\"1\" class=\"dataframe\">\n",
       "  <thead>\n",
       "    <tr style=\"text-align: right;\">\n",
       "      <th></th>\n",
       "      <th>count</th>\n",
       "      <th>mean</th>\n",
       "      <th>std</th>\n",
       "      <th>min</th>\n",
       "      <th>25%</th>\n",
       "      <th>50%</th>\n",
       "      <th>75%</th>\n",
       "      <th>max</th>\n",
       "    </tr>\n",
       "  </thead>\n",
       "  <tbody>\n",
       "    <tr>\n",
       "      <th>Age</th>\n",
       "      <td>15.0</td>\n",
       "      <td>30.666667</td>\n",
       "      <td>7.807201</td>\n",
       "      <td>22.0</td>\n",
       "      <td>24.0</td>\n",
       "      <td>30.0</td>\n",
       "      <td>36.5</td>\n",
       "      <td>45.0</td>\n",
       "    </tr>\n",
       "    <tr>\n",
       "      <th>Education</th>\n",
       "      <td>15.0</td>\n",
       "      <td>17.200000</td>\n",
       "      <td>1.934647</td>\n",
       "      <td>14.0</td>\n",
       "      <td>16.0</td>\n",
       "      <td>16.0</td>\n",
       "      <td>18.0</td>\n",
       "      <td>21.0</td>\n",
       "    </tr>\n",
       "    <tr>\n",
       "      <th>Usage</th>\n",
       "      <td>15.0</td>\n",
       "      <td>4.600000</td>\n",
       "      <td>0.910259</td>\n",
       "      <td>3.0</td>\n",
       "      <td>4.0</td>\n",
       "      <td>4.0</td>\n",
       "      <td>5.0</td>\n",
       "      <td>6.0</td>\n",
       "    </tr>\n",
       "    <tr>\n",
       "      <th>Fitness</th>\n",
       "      <td>15.0</td>\n",
       "      <td>4.666667</td>\n",
       "      <td>0.723747</td>\n",
       "      <td>3.0</td>\n",
       "      <td>5.0</td>\n",
       "      <td>5.0</td>\n",
       "      <td>5.0</td>\n",
       "      <td>5.0</td>\n",
       "    </tr>\n",
       "    <tr>\n",
       "      <th>Income</th>\n",
       "      <td>15.0</td>\n",
       "      <td>76782.800000</td>\n",
       "      <td>20090.528562</td>\n",
       "      <td>48556.0</td>\n",
       "      <td>56648.5</td>\n",
       "      <td>83416.0</td>\n",
       "      <td>91508.5</td>\n",
       "      <td>104581.0</td>\n",
       "    </tr>\n",
       "    <tr>\n",
       "      <th>Miles</th>\n",
       "      <td>15.0</td>\n",
       "      <td>173.733333</td>\n",
       "      <td>71.856471</td>\n",
       "      <td>100.0</td>\n",
       "      <td>120.0</td>\n",
       "      <td>150.0</td>\n",
       "      <td>200.0</td>\n",
       "      <td>360.0</td>\n",
       "    </tr>\n",
       "  </tbody>\n",
       "</table>\n",
       "</div>"
      ],
      "text/plain": [
       "           count          mean           std      min      25%      50%  \\\n",
       "Age         15.0     30.666667      7.807201     22.0     24.0     30.0   \n",
       "Education   15.0     17.200000      1.934647     14.0     16.0     16.0   \n",
       "Usage       15.0      4.600000      0.910259      3.0      4.0      4.0   \n",
       "Fitness     15.0      4.666667      0.723747      3.0      5.0      5.0   \n",
       "Income      15.0  76782.800000  20090.528562  48556.0  56648.5  83416.0   \n",
       "Miles       15.0    173.733333     71.856471    100.0    120.0    150.0   \n",
       "\n",
       "               75%       max  \n",
       "Age           36.5      45.0  \n",
       "Education     18.0      21.0  \n",
       "Usage          5.0       6.0  \n",
       "Fitness        5.0       5.0  \n",
       "Income     91508.5  104581.0  \n",
       "Miles        200.0     360.0  "
      ]
     },
     "execution_count": 86,
     "metadata": {},
     "output_type": "execute_result"
    }
   ],
   "source": [
    "df[df['Product']=='KP781'].describe().T"
   ]
  },
  {
   "cell_type": "markdown",
   "metadata": {},
   "source": [
    "#### OBSERVATIONS\n",
    "\n",
    "Some of the important conclusions:\n",
    "\n",
    "- Exactly **40 customers** purchased KP781 Model.\n",
    "- The average age of customers who bought KP281 is 29.10, whereas the **min and max age is 22 and 48** respectively.\n",
    "- Average Education is 17.3 and median is 18\n",
    "- Expected usage is **4.77** day a week"
   ]
  },
  {
   "cell_type": "markdown",
   "metadata": {},
   "source": [
    "### Bivariate Analysis"
   ]
  },
  {
   "cell_type": "markdown",
   "metadata": {},
   "source": [
    "**Understanding the effect of gender on product purchase**"
   ]
  },
  {
   "cell_type": "markdown",
   "metadata": {},
   "source": [
    "## Conditional probabilities: \n",
    "### 1. Gender and Product"
   ]
  },
  {
   "cell_type": "code",
   "execution_count": 87,
   "metadata": {},
   "outputs": [
    {
     "data": {
      "text/html": [
       "<div>\n",
       "<style scoped>\n",
       "    .dataframe tbody tr th:only-of-type {\n",
       "        vertical-align: middle;\n",
       "    }\n",
       "\n",
       "    .dataframe tbody tr th {\n",
       "        vertical-align: top;\n",
       "    }\n",
       "\n",
       "    .dataframe thead th {\n",
       "        text-align: right;\n",
       "    }\n",
       "</style>\n",
       "<table border=\"1\" class=\"dataframe\">\n",
       "  <thead>\n",
       "    <tr style=\"text-align: right;\">\n",
       "      <th>Product</th>\n",
       "      <th>KP281</th>\n",
       "      <th>KP481</th>\n",
       "      <th>KP781</th>\n",
       "    </tr>\n",
       "    <tr>\n",
       "      <th>Gender</th>\n",
       "      <th></th>\n",
       "      <th></th>\n",
       "      <th></th>\n",
       "    </tr>\n",
       "  </thead>\n",
       "  <tbody>\n",
       "    <tr>\n",
       "      <th>Female</th>\n",
       "      <td>0.256944</td>\n",
       "      <td>0.1875</td>\n",
       "      <td>0.013889</td>\n",
       "    </tr>\n",
       "    <tr>\n",
       "      <th>Male</th>\n",
       "      <td>0.263889</td>\n",
       "      <td>0.1875</td>\n",
       "      <td>0.090278</td>\n",
       "    </tr>\n",
       "  </tbody>\n",
       "</table>\n",
       "</div>"
      ],
      "text/plain": [
       "Product     KP281   KP481     KP781\n",
       "Gender                             \n",
       "Female   0.256944  0.1875  0.013889\n",
       "Male     0.263889  0.1875  0.090278"
      ]
     },
     "execution_count": 87,
     "metadata": {},
     "output_type": "execute_result"
    }
   ],
   "source": [
    "pd.crosstab(df['Gender'], df['Product'], normalize='all')"
   ]
  },
  {
   "cell_type": "code",
   "execution_count": 88,
   "metadata": {},
   "outputs": [
    {
     "data": {
      "text/plain": [
       "<AxesSubplot:xlabel='Product', ylabel='count'>"
      ]
     },
     "execution_count": 88,
     "metadata": {},
     "output_type": "execute_result"
    },
    {
     "data": {
      "image/png": "[encoded data removed]",
      "text/plain": [
       "<Figure size 432x288 with 1 Axes>"
      ]
     },
     "metadata": {
      "needs_background": "light"
     },
     "output_type": "display_data"
    }
   ],
   "source": [
    "sns.countplot(x='Product', hue='Gender', data=df)"
   ]
  },
  {
   "cell_type": "code",
   "execution_count": 89,
   "metadata": {},
   "outputs": [
    {
     "data": {
      "text/plain": [
       "<AxesSubplot:xlabel='Gender', ylabel='count'>"
      ]
     },
     "execution_count": 89,
     "metadata": {},
     "output_type": "execute_result"
    },
    {
     "data": {
      "image/png": "[encoded data removed]",
      "text/plain": [
       "<Figure size 432x288 with 1 Axes>"
      ]
     },
     "metadata": {
      "needs_background": "light"
     },
     "output_type": "display_data"
    }
   ],
   "source": [
    "sns.countplot(x='Gender', hue='Product', data=df)"
   ]
  },
  {
   "cell_type": "markdown",
   "metadata": {},
   "source": [
    "#### OBSERVATIONS\n",
    "\n",
    "- Product KP281 is equally purchased by male and female\n",
    "- Number of customers who purchased KP481 are approximately same but precisley more Males than Females.\n",
    "- Product KP781 is considerably more preffered among Male than Female customers\n",
    "- The most preferred product among Female customer is KP281.\n",
    "- The least preferred product among Female customer is KP781\n",
    "- Overall KP481 and KP781 products are equally preferred by Male customers, with slightly more inclined towards KP781"
   ]
  },
  {
   "cell_type": "markdown",
   "metadata": {},
   "source": [
    "**Understanding the effect of AGE on product purchase**"
   ]
  },
  {
   "cell_type": "markdown",
   "metadata": {},
   "source": [
    "## Conditional probabilities: \n",
    "### 2. Age and Product"
   ]
  },
  {
   "cell_type": "code",
   "execution_count": 90,
   "metadata": {},
   "outputs": [
    {
     "data": {
      "text/plain": [
       "(18, 46)"
      ]
     },
     "execution_count": 90,
     "metadata": {},
     "output_type": "execute_result"
    }
   ],
   "source": [
    "df[\"Age\"].min(), df[\"Age\"].max()"
   ]
  },
  {
   "cell_type": "code",
   "execution_count": 91,
   "metadata": {},
   "outputs": [
    {
     "data": {
      "text/plain": [
       "[17, 30, 40, 50]"
      ]
     },
     "execution_count": 91,
     "metadata": {},
     "output_type": "execute_result"
    }
   ],
   "source": [
    "bins = [17] + list(range(30, 51, 10))\n",
    "bins"
   ]
  },
  {
   "cell_type": "code",
   "execution_count": 92,
   "metadata": {},
   "outputs": [
    {
     "data": {
      "text/plain": [
       "[1, 2, 3, 4]"
      ]
     },
     "execution_count": 92,
     "metadata": {},
     "output_type": "execute_result"
    }
   ],
   "source": [
    "labels = list(range(1, 1+len(bins)))\n",
    "labels"
   ]
  },
  {
   "cell_type": "code",
   "execution_count": 93,
   "metadata": {},
   "outputs": [
    {
     "data": {
      "text/plain": [
       "[(17, 30], (30, 40], (40, 50]]\n",
       "Categories (3, interval[int64, right]): [(17, 30] < (30, 40] < (40, 50]]"
      ]
     },
     "execution_count": 93,
     "metadata": {},
     "output_type": "execute_result"
    }
   ],
   "source": [
    "bins = bins\n",
    "labels = list(range(len(bins)))\n",
    "df['age_bin'] = pd.cut(df['Age'], bins=bins)#, labels=labels)\n",
    "df['age_bin'].unique()"
   ]
  },
  {
   "cell_type": "code",
   "execution_count": 94,
   "metadata": {},
   "outputs": [
    {
     "data": {
      "text/plain": [
       "<AxesSubplot:xlabel='Age', ylabel='Count'>"
      ]
     },
     "execution_count": 94,
     "metadata": {},
     "output_type": "execute_result"
    },
    {
     "data": {
      "image/png": "[encoded data removed]",
      "text/plain": [
       "<Figure size 432x288 with 1 Axes>"
      ]
     },
     "metadata": {
      "needs_background": "light"
     },
     "output_type": "display_data"
    }
   ],
   "source": [
    "sns.histplot(data = df, x = 'Age', hue = 'Product', bins =5,multiple ='dodge')"
   ]
  },
  {
   "cell_type": "markdown",
   "metadata": {},
   "source": [
    "## Conditional probabilities: Age and Product"
   ]
  },
  {
   "cell_type": "code",
   "execution_count": 95,
   "metadata": {},
   "outputs": [
    {
     "data": {
      "text/html": [
       "<div>\n",
       "<style scoped>\n",
       "    .dataframe tbody tr th:only-of-type {\n",
       "        vertical-align: middle;\n",
       "    }\n",
       "\n",
       "    .dataframe tbody tr th {\n",
       "        vertical-align: top;\n",
       "    }\n",
       "\n",
       "    .dataframe thead th {\n",
       "        text-align: right;\n",
       "    }\n",
       "</style>\n",
       "<table border=\"1\" class=\"dataframe\">\n",
       "  <thead>\n",
       "    <tr style=\"text-align: right;\">\n",
       "      <th>Product</th>\n",
       "      <th>KP281</th>\n",
       "      <th>KP481</th>\n",
       "      <th>KP781</th>\n",
       "    </tr>\n",
       "    <tr>\n",
       "      <th>age_bin</th>\n",
       "      <th></th>\n",
       "      <th></th>\n",
       "      <th></th>\n",
       "    </tr>\n",
       "  </thead>\n",
       "  <tbody>\n",
       "    <tr>\n",
       "      <th>(17, 30]</th>\n",
       "      <td>0.563830</td>\n",
       "      <td>0.351064</td>\n",
       "      <td>0.085106</td>\n",
       "    </tr>\n",
       "    <tr>\n",
       "      <th>(30, 40]</th>\n",
       "      <td>0.418605</td>\n",
       "      <td>0.465116</td>\n",
       "      <td>0.116279</td>\n",
       "    </tr>\n",
       "    <tr>\n",
       "      <th>(40, 50]</th>\n",
       "      <td>0.571429</td>\n",
       "      <td>0.142857</td>\n",
       "      <td>0.285714</td>\n",
       "    </tr>\n",
       "  </tbody>\n",
       "</table>\n",
       "</div>"
      ],
      "text/plain": [
       "Product      KP281     KP481     KP781\n",
       "age_bin                               \n",
       "(17, 30]  0.563830  0.351064  0.085106\n",
       "(30, 40]  0.418605  0.465116  0.116279\n",
       "(40, 50]  0.571429  0.142857  0.285714"
      ]
     },
     "execution_count": 95,
     "metadata": {},
     "output_type": "execute_result"
    }
   ],
   "source": [
    "pd.crosstab(df['age_bin'], df['Product'], normalize='index')"
   ]
  },
  {
   "cell_type": "code",
   "execution_count": 96,
   "metadata": {},
   "outputs": [
    {
     "data": {
      "text/html": [
       "<div>\n",
       "<style scoped>\n",
       "    .dataframe tbody tr th:only-of-type {\n",
       "        vertical-align: middle;\n",
       "    }\n",
       "\n",
       "    .dataframe tbody tr th {\n",
       "        vertical-align: top;\n",
       "    }\n",
       "\n",
       "    .dataframe thead th {\n",
       "        text-align: right;\n",
       "    }\n",
       "</style>\n",
       "<table border=\"1\" class=\"dataframe\">\n",
       "  <thead>\n",
       "    <tr style=\"text-align: right;\">\n",
       "      <th>Product</th>\n",
       "      <th>KP281</th>\n",
       "      <th>KP481</th>\n",
       "      <th>KP781</th>\n",
       "    </tr>\n",
       "    <tr>\n",
       "      <th>age_bin</th>\n",
       "      <th></th>\n",
       "      <th></th>\n",
       "      <th></th>\n",
       "    </tr>\n",
       "  </thead>\n",
       "  <tbody>\n",
       "    <tr>\n",
       "      <th>(17, 30]</th>\n",
       "      <td>0.706667</td>\n",
       "      <td>0.611111</td>\n",
       "      <td>0.533333</td>\n",
       "    </tr>\n",
       "    <tr>\n",
       "      <th>(30, 40]</th>\n",
       "      <td>0.240000</td>\n",
       "      <td>0.370370</td>\n",
       "      <td>0.333333</td>\n",
       "    </tr>\n",
       "    <tr>\n",
       "      <th>(40, 50]</th>\n",
       "      <td>0.053333</td>\n",
       "      <td>0.018519</td>\n",
       "      <td>0.133333</td>\n",
       "    </tr>\n",
       "  </tbody>\n",
       "</table>\n",
       "</div>"
      ],
      "text/plain": [
       "Product      KP281     KP481     KP781\n",
       "age_bin                               \n",
       "(17, 30]  0.706667  0.611111  0.533333\n",
       "(30, 40]  0.240000  0.370370  0.333333\n",
       "(40, 50]  0.053333  0.018519  0.133333"
      ]
     },
     "execution_count": 96,
     "metadata": {},
     "output_type": "execute_result"
    }
   ],
   "source": [
    "pd.crosstab(df['age_bin'], df['Product'], normalize='columns')"
   ]
  },
  {
   "cell_type": "markdown",
   "metadata": {},
   "source": [
    "**In crosstab function normalise= 'all' looks a better measure to compare along both axis**"
   ]
  },
  {
   "cell_type": "code",
   "execution_count": 97,
   "metadata": {},
   "outputs": [
    {
     "data": {
      "text/html": [
       "<div>\n",
       "<style scoped>\n",
       "    .dataframe tbody tr th:only-of-type {\n",
       "        vertical-align: middle;\n",
       "    }\n",
       "\n",
       "    .dataframe tbody tr th {\n",
       "        vertical-align: top;\n",
       "    }\n",
       "\n",
       "    .dataframe thead th {\n",
       "        text-align: right;\n",
       "    }\n",
       "</style>\n",
       "<table border=\"1\" class=\"dataframe\">\n",
       "  <thead>\n",
       "    <tr style=\"text-align: right;\">\n",
       "      <th>Product</th>\n",
       "      <th>KP281</th>\n",
       "      <th>KP481</th>\n",
       "      <th>KP781</th>\n",
       "    </tr>\n",
       "    <tr>\n",
       "      <th>age_bin</th>\n",
       "      <th></th>\n",
       "      <th></th>\n",
       "      <th></th>\n",
       "    </tr>\n",
       "  </thead>\n",
       "  <tbody>\n",
       "    <tr>\n",
       "      <th>(17, 30]</th>\n",
       "      <td>0.368056</td>\n",
       "      <td>0.229167</td>\n",
       "      <td>0.055556</td>\n",
       "    </tr>\n",
       "    <tr>\n",
       "      <th>(30, 40]</th>\n",
       "      <td>0.125000</td>\n",
       "      <td>0.138889</td>\n",
       "      <td>0.034722</td>\n",
       "    </tr>\n",
       "    <tr>\n",
       "      <th>(40, 50]</th>\n",
       "      <td>0.027778</td>\n",
       "      <td>0.006944</td>\n",
       "      <td>0.013889</td>\n",
       "    </tr>\n",
       "  </tbody>\n",
       "</table>\n",
       "</div>"
      ],
      "text/plain": [
       "Product      KP281     KP481     KP781\n",
       "age_bin                               \n",
       "(17, 30]  0.368056  0.229167  0.055556\n",
       "(30, 40]  0.125000  0.138889  0.034722\n",
       "(40, 50]  0.027778  0.006944  0.013889"
      ]
     },
     "execution_count": 97,
     "metadata": {},
     "output_type": "execute_result"
    }
   ],
   "source": [
    "pd.crosstab(df['age_bin'], df['Product'], normalize='all')"
   ]
  },
  {
   "cell_type": "markdown",
   "metadata": {},
   "source": [
    "OBSERVATIONS:\n",
    "- All the three products are more favourable among age group of [17-30]\n",
    "- For age group **[30-40] KP481** is the most preferred product\n",
    "- For age group **[40-50] KP281 then KP781** is the most preferred product"
   ]
  },
  {
   "cell_type": "markdown",
   "metadata": {},
   "source": [
    "## Conditional probabilities: \n",
    "### 3. Fitness and Product"
   ]
  },
  {
   "cell_type": "code",
   "execution_count": 98,
   "metadata": {},
   "outputs": [
    {
     "data": {
      "text/html": [
       "<div>\n",
       "<style scoped>\n",
       "    .dataframe tbody tr th:only-of-type {\n",
       "        vertical-align: middle;\n",
       "    }\n",
       "\n",
       "    .dataframe tbody tr th {\n",
       "        vertical-align: top;\n",
       "    }\n",
       "\n",
       "    .dataframe thead th {\n",
       "        text-align: right;\n",
       "    }\n",
       "</style>\n",
       "<table border=\"1\" class=\"dataframe\">\n",
       "  <thead>\n",
       "    <tr style=\"text-align: right;\">\n",
       "      <th>Product</th>\n",
       "      <th>KP281</th>\n",
       "      <th>KP481</th>\n",
       "      <th>KP781</th>\n",
       "    </tr>\n",
       "    <tr>\n",
       "      <th>Fitness</th>\n",
       "      <th></th>\n",
       "      <th></th>\n",
       "      <th></th>\n",
       "    </tr>\n",
       "  </thead>\n",
       "  <tbody>\n",
       "    <tr>\n",
       "      <th>1</th>\n",
       "      <td>0.000000</td>\n",
       "      <td>0.006944</td>\n",
       "      <td>0.000000</td>\n",
       "    </tr>\n",
       "    <tr>\n",
       "      <th>2</th>\n",
       "      <td>0.097222</td>\n",
       "      <td>0.083333</td>\n",
       "      <td>0.000000</td>\n",
       "    </tr>\n",
       "    <tr>\n",
       "      <th>3</th>\n",
       "      <td>0.347222</td>\n",
       "      <td>0.229167</td>\n",
       "      <td>0.013889</td>\n",
       "    </tr>\n",
       "    <tr>\n",
       "      <th>4</th>\n",
       "      <td>0.062500</td>\n",
       "      <td>0.055556</td>\n",
       "      <td>0.006944</td>\n",
       "    </tr>\n",
       "    <tr>\n",
       "      <th>5</th>\n",
       "      <td>0.013889</td>\n",
       "      <td>0.000000</td>\n",
       "      <td>0.083333</td>\n",
       "    </tr>\n",
       "  </tbody>\n",
       "</table>\n",
       "</div>"
      ],
      "text/plain": [
       "Product     KP281     KP481     KP781\n",
       "Fitness                              \n",
       "1        0.000000  0.006944  0.000000\n",
       "2        0.097222  0.083333  0.000000\n",
       "3        0.347222  0.229167  0.013889\n",
       "4        0.062500  0.055556  0.006944\n",
       "5        0.013889  0.000000  0.083333"
      ]
     },
     "execution_count": 98,
     "metadata": {},
     "output_type": "execute_result"
    }
   ],
   "source": [
    "pd.crosstab(df['Fitness'], df['Product'], normalize='all')"
   ]
  },
  {
   "cell_type": "markdown",
   "metadata": {},
   "source": [
    "OBSERVATIONS:\n",
    "- **Product KP781 is most used people with fitness rating 5**\n",
    "- **Product KP281 & KP481\tis most used by fitness rating 3**\n",
    "- **Interestingly, Product KP481 is most preferred among people with fitness rating 1**\n",
    "- **For fitness rating 2 & 3 product KP281 and KP481 are alomst used with similar preferance**"
   ]
  },
  {
   "cell_type": "markdown",
   "metadata": {},
   "source": [
    "## Conditional probabilities: \n",
    "### 4. MaritalStatus and Product"
   ]
  },
  {
   "cell_type": "code",
   "execution_count": 99,
   "metadata": {},
   "outputs": [
    {
     "data": {
      "text/html": [
       "<div>\n",
       "<style scoped>\n",
       "    .dataframe tbody tr th:only-of-type {\n",
       "        vertical-align: middle;\n",
       "    }\n",
       "\n",
       "    .dataframe tbody tr th {\n",
       "        vertical-align: top;\n",
       "    }\n",
       "\n",
       "    .dataframe thead th {\n",
       "        text-align: right;\n",
       "    }\n",
       "</style>\n",
       "<table border=\"1\" class=\"dataframe\">\n",
       "  <thead>\n",
       "    <tr style=\"text-align: right;\">\n",
       "      <th>Product</th>\n",
       "      <th>KP281</th>\n",
       "      <th>KP481</th>\n",
       "      <th>KP781</th>\n",
       "    </tr>\n",
       "    <tr>\n",
       "      <th>MaritalStatus</th>\n",
       "      <th></th>\n",
       "      <th></th>\n",
       "      <th></th>\n",
       "    </tr>\n",
       "  </thead>\n",
       "  <tbody>\n",
       "    <tr>\n",
       "      <th>Partnered</th>\n",
       "      <td>0.305556</td>\n",
       "      <td>0.215278</td>\n",
       "      <td>0.048611</td>\n",
       "    </tr>\n",
       "    <tr>\n",
       "      <th>Single</th>\n",
       "      <td>0.215278</td>\n",
       "      <td>0.159722</td>\n",
       "      <td>0.055556</td>\n",
       "    </tr>\n",
       "  </tbody>\n",
       "</table>\n",
       "</div>"
      ],
      "text/plain": [
       "Product           KP281     KP481     KP781\n",
       "MaritalStatus                              \n",
       "Partnered      0.305556  0.215278  0.048611\n",
       "Single         0.215278  0.159722  0.055556"
      ]
     },
     "execution_count": 99,
     "metadata": {},
     "output_type": "execute_result"
    }
   ],
   "source": [
    "pd.crosstab(df['MaritalStatus'], df['Product'], normalize='all')"
   ]
  },
  {
   "cell_type": "markdown",
   "metadata": {},
   "source": [
    "OBSERVATIONS\n",
    "- **Product KP281 & KP481 is most preferred among Partnered**\n",
    "- **Product KP781 is most preferred among Single**"
   ]
  },
  {
   "cell_type": "markdown",
   "metadata": {},
   "source": [
    "Business Insights based on Non-Graphical and Visual Analysis (10 Points)"
   ]
  },
  {
   "cell_type": "code",
   "execution_count": 100,
   "metadata": {},
   "outputs": [
    {
     "data": {
      "text/plain": [
       "Index(['Product', 'Age', 'Gender', 'Education', 'MaritalStatus', 'Usage',\n",
       "       'Fitness', 'Income', 'Miles', 'age_bin'],\n",
       "      dtype='object')"
      ]
     },
     "execution_count": 100,
     "metadata": {},
     "output_type": "execute_result"
    }
   ],
   "source": [
    "df.columns"
   ]
  },
  {
   "cell_type": "code",
   "execution_count": 101,
   "metadata": {},
   "outputs": [
    {
     "data": {
      "text/plain": [
       "<AxesSubplot:xlabel='Gender', ylabel='Fitness'>"
      ]
     },
     "execution_count": 101,
     "metadata": {},
     "output_type": "execute_result"
    },
    {
     "data": {
      "image/png": "[encoded data removed]",
      "text/plain": [
       "<Figure size 432x288 with 1 Axes>"
      ]
     },
     "metadata": {
      "needs_background": "light"
     },
     "output_type": "display_data"
    }
   ],
   "source": [
    "sns.boxplot(x=\"Gender\", y=\"Fitness\", hue=\"Product\",data=df, palette=\"Set3\")"
   ]
  },
  {
   "cell_type": "code",
   "execution_count": 102,
   "metadata": {},
   "outputs": [
    {
     "data": {
      "text/plain": [
       "<AxesSubplot:xlabel='Gender', ylabel='Usage'>"
      ]
     },
     "execution_count": 102,
     "metadata": {},
     "output_type": "execute_result"
    },
    {
     "data": {
      "image/png": "[encoded data removed]",
      "text/plain": [
       "<Figure size 432x288 with 1 Axes>"
      ]
     },
     "metadata": {
      "needs_background": "light"
     },
     "output_type": "display_data"
    }
   ],
   "source": [
    "sns.boxplot(x=\"Gender\", y=\"Usage\", hue=\"Product\",data=df, palette=\"Set3\")"
   ]
  },
  {
   "cell_type": "code",
   "execution_count": 103,
   "metadata": {},
   "outputs": [
    {
     "data": {
      "text/plain": [
       "<AxesSubplot:xlabel='Gender', ylabel='Education'>"
      ]
     },
     "execution_count": 103,
     "metadata": {},
     "output_type": "execute_result"
    },
    {
     "data": {
      "image/png": "[encoded data removed]",
      "text/plain": [
       "<Figure size 432x288 with 1 Axes>"
      ]
     },
     "metadata": {
      "needs_background": "light"
     },
     "output_type": "display_data"
    }
   ],
   "source": [
    "sns.boxplot(x=\"Gender\", y=\"Education\", hue=\"Product\",data=df, palette=\"Set3\")"
   ]
  },
  {
   "cell_type": "code",
   "execution_count": 104,
   "metadata": {},
   "outputs": [
    {
     "data": {
      "text/plain": [
       "<AxesSubplot:xlabel='Gender', ylabel='Age'>"
      ]
     },
     "execution_count": 104,
     "metadata": {},
     "output_type": "execute_result"
    },
    {
     "data": {
      "image/png": "[encoded data removed]",
      "text/plain": [
       "<Figure size 432x288 with 1 Axes>"
      ]
     },
     "metadata": {
      "needs_background": "light"
     },
     "output_type": "display_data"
    }
   ],
   "source": [
    "sns.boxplot(x=\"Gender\", y=\"Age\", hue=\"Product\",data=df, palette=\"Set3\")"
   ]
  },
  {
   "cell_type": "code",
   "execution_count": 105,
   "metadata": {},
   "outputs": [
    {
     "data": {
      "text/plain": [
       "<AxesSubplot:xlabel='Gender', ylabel='Miles'>"
      ]
     },
     "execution_count": 105,
     "metadata": {},
     "output_type": "execute_result"
    },
    {
     "data": {
      "image/png": "[encoded data removed]",
      "text/plain": [
       "<Figure size 432x288 with 1 Axes>"
      ]
     },
     "metadata": {
      "needs_background": "light"
     },
     "output_type": "display_data"
    }
   ],
   "source": [
    "sns.boxplot(x=\"Gender\", y=\"Miles\", hue=\"Product\",data=df, palette=\"Set3\")"
   ]
  },
  {
   "cell_type": "code",
   "execution_count": 106,
   "metadata": {},
   "outputs": [
    {
     "ename": "KeyboardInterrupt",
     "evalue": "",
     "output_type": "error",
     "traceback": [
      "\u001b[1;31m---------------------------------------------------------------------------\u001b[0m",
      "\u001b[1;31mKeyboardInterrupt\u001b[0m                         Traceback (most recent call last)",
      "\u001b[1;32mc:\\Users\\sgupt\\OneDrive\\Pictures\\Documents\\GitHub\\coding_ninja\\projects\\aerofit_treadmill\\aerofit_treadmill.ipynb Cell 96\u001b[0m in \u001b[0;36m<cell line: 1>\u001b[1;34m()\u001b[0m\n\u001b[1;32m----> <a href='vscode-notebook-cell:/c%3A/Users/sgupt/OneDrive/Pictures/Documents/GitHub/coding_ninja/projects/aerofit_treadmill/aerofit_treadmill.ipynb#Y164sZmlsZQ%3D%3D?line=0'>1</a>\u001b[0m sns\u001b[39m.\u001b[39;49mpairplot(df, hue\u001b[39m=\u001b[39;49m\u001b[39m\"\u001b[39;49m\u001b[39mProduct\u001b[39;49m\u001b[39m\"\u001b[39;49m)\n",
      "File \u001b[1;32mc:\\Users\\sgupt\\anaconda3\\envs\\vaishali\\lib\\site-packages\\seaborn\\_decorators.py:46\u001b[0m, in \u001b[0;36m_deprecate_positional_args.<locals>.inner_f\u001b[1;34m(*args, **kwargs)\u001b[0m\n\u001b[0;32m     36\u001b[0m     warnings\u001b[39m.\u001b[39mwarn(\n\u001b[0;32m     37\u001b[0m         \u001b[39m\"\u001b[39m\u001b[39mPass the following variable\u001b[39m\u001b[39m{}\u001b[39;00m\u001b[39m as \u001b[39m\u001b[39m{}\u001b[39;00m\u001b[39mkeyword arg\u001b[39m\u001b[39m{}\u001b[39;00m\u001b[39m: \u001b[39m\u001b[39m{}\u001b[39;00m\u001b[39m. \u001b[39m\u001b[39m\"\u001b[39m\n\u001b[0;32m     38\u001b[0m         \u001b[39m\"\u001b[39m\u001b[39mFrom version 0.12, the only valid positional argument \u001b[39m\u001b[39m\"\u001b[39m\n\u001b[1;32m   (...)\u001b[0m\n\u001b[0;32m     43\u001b[0m         \u001b[39mFutureWarning\u001b[39;00m\n\u001b[0;32m     44\u001b[0m     )\n\u001b[0;32m     45\u001b[0m kwargs\u001b[39m.\u001b[39mupdate({k: arg \u001b[39mfor\u001b[39;00m k, arg \u001b[39min\u001b[39;00m \u001b[39mzip\u001b[39m(sig\u001b[39m.\u001b[39mparameters, args)})\n\u001b[1;32m---> 46\u001b[0m \u001b[39mreturn\u001b[39;00m f(\u001b[39m*\u001b[39;49m\u001b[39m*\u001b[39;49mkwargs)\n",
      "File \u001b[1;32mc:\\Users\\sgupt\\anaconda3\\envs\\vaishali\\lib\\site-packages\\seaborn\\axisgrid.py:2140\u001b[0m, in \u001b[0;36mpairplot\u001b[1;34m(data, hue, hue_order, palette, vars, x_vars, y_vars, kind, diag_kind, markers, height, aspect, corner, dropna, plot_kws, diag_kws, grid_kws, size)\u001b[0m\n\u001b[0;32m   2138\u001b[0m \u001b[39mif\u001b[39;00m kind \u001b[39m==\u001b[39m \u001b[39m\"\u001b[39m\u001b[39mscatter\u001b[39m\u001b[39m\"\u001b[39m:\n\u001b[0;32m   2139\u001b[0m     \u001b[39mfrom\u001b[39;00m \u001b[39m.\u001b[39;00m\u001b[39mrelational\u001b[39;00m \u001b[39mimport\u001b[39;00m scatterplot  \u001b[39m# Avoid circular import\u001b[39;00m\n\u001b[1;32m-> 2140\u001b[0m     plotter(scatterplot, \u001b[39m*\u001b[39;49m\u001b[39m*\u001b[39;49mplot_kws)\n\u001b[0;32m   2141\u001b[0m \u001b[39melif\u001b[39;00m kind \u001b[39m==\u001b[39m \u001b[39m\"\u001b[39m\u001b[39mreg\u001b[39m\u001b[39m\"\u001b[39m:\n\u001b[0;32m   2142\u001b[0m     \u001b[39mfrom\u001b[39;00m \u001b[39m.\u001b[39;00m\u001b[39mregression\u001b[39;00m \u001b[39mimport\u001b[39;00m regplot  \u001b[39m# Avoid circular import\u001b[39;00m\n",
      "File \u001b[1;32mc:\\Users\\sgupt\\anaconda3\\envs\\vaishali\\lib\\site-packages\\seaborn\\axisgrid.py:1389\u001b[0m, in \u001b[0;36mPairGrid.map_offdiag\u001b[1;34m(self, func, **kwargs)\u001b[0m\n\u001b[0;32m   1387\u001b[0m     \u001b[39mself\u001b[39m\u001b[39m.\u001b[39mmap_lower(func, \u001b[39m*\u001b[39m\u001b[39m*\u001b[39mkwargs)\n\u001b[0;32m   1388\u001b[0m     \u001b[39mif\u001b[39;00m \u001b[39mnot\u001b[39;00m \u001b[39mself\u001b[39m\u001b[39m.\u001b[39m_corner:\n\u001b[1;32m-> 1389\u001b[0m         \u001b[39mself\u001b[39;49m\u001b[39m.\u001b[39;49mmap_upper(func, \u001b[39m*\u001b[39;49m\u001b[39m*\u001b[39;49mkwargs)\n\u001b[0;32m   1390\u001b[0m \u001b[39melse\u001b[39;00m:\n\u001b[0;32m   1391\u001b[0m     indices \u001b[39m=\u001b[39m []\n",
      "File \u001b[1;32mc:\\Users\\sgupt\\anaconda3\\envs\\vaishali\\lib\\site-packages\\seaborn\\axisgrid.py:1372\u001b[0m, in \u001b[0;36mPairGrid.map_upper\u001b[1;34m(self, func, **kwargs)\u001b[0m\n\u001b[0;32m   1361\u001b[0m \u001b[39m\"\"\"Plot with a bivariate function on the upper diagonal subplots.\u001b[39;00m\n\u001b[0;32m   1362\u001b[0m \n\u001b[0;32m   1363\u001b[0m \u001b[39mParameters\u001b[39;00m\n\u001b[1;32m   (...)\u001b[0m\n\u001b[0;32m   1369\u001b[0m \n\u001b[0;32m   1370\u001b[0m \u001b[39m\"\"\"\u001b[39;00m\n\u001b[0;32m   1371\u001b[0m indices \u001b[39m=\u001b[39m \u001b[39mzip\u001b[39m(\u001b[39m*\u001b[39mnp\u001b[39m.\u001b[39mtriu_indices_from(\u001b[39mself\u001b[39m\u001b[39m.\u001b[39maxes, \u001b[39m1\u001b[39m))\n\u001b[1;32m-> 1372\u001b[0m \u001b[39mself\u001b[39;49m\u001b[39m.\u001b[39;49m_map_bivariate(func, indices, \u001b[39m*\u001b[39;49m\u001b[39m*\u001b[39;49mkwargs)\n\u001b[0;32m   1373\u001b[0m \u001b[39mreturn\u001b[39;00m \u001b[39mself\u001b[39m\n",
      "File \u001b[1;32mc:\\Users\\sgupt\\anaconda3\\envs\\vaishali\\lib\\site-packages\\seaborn\\axisgrid.py:1539\u001b[0m, in \u001b[0;36mPairGrid._map_bivariate\u001b[1;34m(self, func, indices, **kwargs)\u001b[0m\n\u001b[0;32m   1537\u001b[0m     \u001b[39mif\u001b[39;00m ax \u001b[39mis\u001b[39;00m \u001b[39mNone\u001b[39;00m:  \u001b[39m# i.e. we are in corner mode\u001b[39;00m\n\u001b[0;32m   1538\u001b[0m         \u001b[39mcontinue\u001b[39;00m\n\u001b[1;32m-> 1539\u001b[0m     \u001b[39mself\u001b[39;49m\u001b[39m.\u001b[39;49m_plot_bivariate(x_var, y_var, ax, func, \u001b[39m*\u001b[39;49m\u001b[39m*\u001b[39;49mkws)\n\u001b[0;32m   1540\u001b[0m \u001b[39mself\u001b[39m\u001b[39m.\u001b[39m_add_axis_labels()\n\u001b[0;32m   1542\u001b[0m \u001b[39mif\u001b[39;00m \u001b[39m\"\u001b[39m\u001b[39mhue\u001b[39m\u001b[39m\"\u001b[39m \u001b[39min\u001b[39;00m signature(func)\u001b[39m.\u001b[39mparameters:\n",
      "File \u001b[1;32mc:\\Users\\sgupt\\anaconda3\\envs\\vaishali\\lib\\site-packages\\seaborn\\axisgrid.py:1579\u001b[0m, in \u001b[0;36mPairGrid._plot_bivariate\u001b[1;34m(self, x_var, y_var, ax, func, **kwargs)\u001b[0m\n\u001b[0;32m   1577\u001b[0m kwargs\u001b[39m.\u001b[39msetdefault(\u001b[39m\"\u001b[39m\u001b[39mhue_order\u001b[39m\u001b[39m\"\u001b[39m, \u001b[39mself\u001b[39m\u001b[39m.\u001b[39m_hue_order)\n\u001b[0;32m   1578\u001b[0m kwargs\u001b[39m.\u001b[39msetdefault(\u001b[39m\"\u001b[39m\u001b[39mpalette\u001b[39m\u001b[39m\"\u001b[39m, \u001b[39mself\u001b[39m\u001b[39m.\u001b[39m_orig_palette)\n\u001b[1;32m-> 1579\u001b[0m func(x\u001b[39m=\u001b[39;49mx, y\u001b[39m=\u001b[39;49my, \u001b[39m*\u001b[39;49m\u001b[39m*\u001b[39;49mkwargs)\n\u001b[0;32m   1581\u001b[0m \u001b[39mself\u001b[39m\u001b[39m.\u001b[39m_update_legend_data(ax)\n",
      "File \u001b[1;32mc:\\Users\\sgupt\\anaconda3\\envs\\vaishali\\lib\\site-packages\\seaborn\\_decorators.py:46\u001b[0m, in \u001b[0;36m_deprecate_positional_args.<locals>.inner_f\u001b[1;34m(*args, **kwargs)\u001b[0m\n\u001b[0;32m     36\u001b[0m     warnings\u001b[39m.\u001b[39mwarn(\n\u001b[0;32m     37\u001b[0m         \u001b[39m\"\u001b[39m\u001b[39mPass the following variable\u001b[39m\u001b[39m{}\u001b[39;00m\u001b[39m as \u001b[39m\u001b[39m{}\u001b[39;00m\u001b[39mkeyword arg\u001b[39m\u001b[39m{}\u001b[39;00m\u001b[39m: \u001b[39m\u001b[39m{}\u001b[39;00m\u001b[39m. \u001b[39m\u001b[39m\"\u001b[39m\n\u001b[0;32m     38\u001b[0m         \u001b[39m\"\u001b[39m\u001b[39mFrom version 0.12, the only valid positional argument \u001b[39m\u001b[39m\"\u001b[39m\n\u001b[1;32m   (...)\u001b[0m\n\u001b[0;32m     43\u001b[0m         \u001b[39mFutureWarning\u001b[39;00m\n\u001b[0;32m     44\u001b[0m     )\n\u001b[0;32m     45\u001b[0m kwargs\u001b[39m.\u001b[39mupdate({k: arg \u001b[39mfor\u001b[39;00m k, arg \u001b[39min\u001b[39;00m \u001b[39mzip\u001b[39m(sig\u001b[39m.\u001b[39mparameters, args)})\n\u001b[1;32m---> 46\u001b[0m \u001b[39mreturn\u001b[39;00m f(\u001b[39m*\u001b[39;49m\u001b[39m*\u001b[39;49mkwargs)\n",
      "File \u001b[1;32mc:\\Users\\sgupt\\anaconda3\\envs\\vaishali\\lib\\site-packages\\seaborn\\relational.py:827\u001b[0m, in \u001b[0;36mscatterplot\u001b[1;34m(x, y, hue, style, size, data, palette, hue_order, hue_norm, sizes, size_order, size_norm, markers, style_order, x_bins, y_bins, units, estimator, ci, n_boot, alpha, x_jitter, y_jitter, legend, ax, **kwargs)\u001b[0m\n\u001b[0;32m    823\u001b[0m     \u001b[39mreturn\u001b[39;00m ax\n\u001b[0;32m    825\u001b[0m p\u001b[39m.\u001b[39m_attach(ax)\n\u001b[1;32m--> 827\u001b[0m p\u001b[39m.\u001b[39;49mplot(ax, kwargs)\n\u001b[0;32m    829\u001b[0m \u001b[39mreturn\u001b[39;00m ax\n",
      "File \u001b[1;32mc:\\Users\\sgupt\\anaconda3\\envs\\vaishali\\lib\\site-packages\\seaborn\\relational.py:658\u001b[0m, in \u001b[0;36m_ScatterPlotter.plot\u001b[1;34m(self, ax, kws)\u001b[0m\n\u001b[0;32m    656\u001b[0m \u001b[39m# Draw the scatter plot\u001b[39;00m\n\u001b[0;32m    657\u001b[0m args \u001b[39m=\u001b[39m np\u001b[39m.\u001b[39masarray(x), np\u001b[39m.\u001b[39masarray(y), np\u001b[39m.\u001b[39masarray(s), np\u001b[39m.\u001b[39masarray(c)\n\u001b[1;32m--> 658\u001b[0m points \u001b[39m=\u001b[39m ax\u001b[39m.\u001b[39;49mscatter(\u001b[39m*\u001b[39;49margs, \u001b[39m*\u001b[39;49m\u001b[39m*\u001b[39;49mkws)\n\u001b[0;32m    660\u001b[0m \u001b[39m# Update the paths to get different marker shapes.\u001b[39;00m\n\u001b[0;32m    661\u001b[0m \u001b[39m# This has to be done here because ax.scatter allows varying sizes\u001b[39;00m\n\u001b[0;32m    662\u001b[0m \u001b[39m# and colors but only a single marker shape per call.\u001b[39;00m\n\u001b[0;32m    663\u001b[0m \u001b[39mif\u001b[39;00m \u001b[39m\"\u001b[39m\u001b[39mstyle\u001b[39m\u001b[39m\"\u001b[39m \u001b[39min\u001b[39;00m \u001b[39mself\u001b[39m\u001b[39m.\u001b[39mvariables:\n",
      "File \u001b[1;32mc:\\Users\\sgupt\\anaconda3\\envs\\vaishali\\lib\\site-packages\\matplotlib\\__init__.py:1412\u001b[0m, in \u001b[0;36m_preprocess_data.<locals>.inner\u001b[1;34m(ax, data, *args, **kwargs)\u001b[0m\n\u001b[0;32m   1409\u001b[0m \u001b[39m@functools\u001b[39m\u001b[39m.\u001b[39mwraps(func)\n\u001b[0;32m   1410\u001b[0m \u001b[39mdef\u001b[39;00m \u001b[39minner\u001b[39m(ax, \u001b[39m*\u001b[39margs, data\u001b[39m=\u001b[39m\u001b[39mNone\u001b[39;00m, \u001b[39m*\u001b[39m\u001b[39m*\u001b[39mkwargs):\n\u001b[0;32m   1411\u001b[0m     \u001b[39mif\u001b[39;00m data \u001b[39mis\u001b[39;00m \u001b[39mNone\u001b[39;00m:\n\u001b[1;32m-> 1412\u001b[0m         \u001b[39mreturn\u001b[39;00m func(ax, \u001b[39m*\u001b[39;49m\u001b[39mmap\u001b[39;49m(sanitize_sequence, args), \u001b[39m*\u001b[39;49m\u001b[39m*\u001b[39;49mkwargs)\n\u001b[0;32m   1414\u001b[0m     bound \u001b[39m=\u001b[39m new_sig\u001b[39m.\u001b[39mbind(ax, \u001b[39m*\u001b[39margs, \u001b[39m*\u001b[39m\u001b[39m*\u001b[39mkwargs)\n\u001b[0;32m   1415\u001b[0m     auto_label \u001b[39m=\u001b[39m (bound\u001b[39m.\u001b[39marguments\u001b[39m.\u001b[39mget(label_namer)\n\u001b[0;32m   1416\u001b[0m                   \u001b[39mor\u001b[39;00m bound\u001b[39m.\u001b[39mkwargs\u001b[39m.\u001b[39mget(label_namer))\n",
      "File \u001b[1;32mc:\\Users\\sgupt\\anaconda3\\envs\\vaishali\\lib\\site-packages\\matplotlib\\axes\\_axes.py:4487\u001b[0m, in \u001b[0;36mAxes.scatter\u001b[1;34m(self, x, y, s, c, marker, cmap, norm, vmin, vmax, alpha, linewidths, edgecolors, plotnonfinite, **kwargs)\u001b[0m\n\u001b[0;32m   4484\u001b[0m     \u001b[39mif\u001b[39;00m \u001b[39mself\u001b[39m\u001b[39m.\u001b[39m_ymargin \u001b[39m<\u001b[39m \u001b[39m0.05\u001b[39m \u001b[39mand\u001b[39;00m x\u001b[39m.\u001b[39msize \u001b[39m>\u001b[39m \u001b[39m0\u001b[39m:\n\u001b[0;32m   4485\u001b[0m         \u001b[39mself\u001b[39m\u001b[39m.\u001b[39mset_ymargin(\u001b[39m0.05\u001b[39m)\n\u001b[1;32m-> 4487\u001b[0m \u001b[39mself\u001b[39;49m\u001b[39m.\u001b[39;49madd_collection(collection)\n\u001b[0;32m   4488\u001b[0m \u001b[39mself\u001b[39m\u001b[39m.\u001b[39m_request_autoscale_view()\n\u001b[0;32m   4490\u001b[0m \u001b[39mreturn\u001b[39;00m collection\n",
      "File \u001b[1;32mc:\\Users\\sgupt\\anaconda3\\envs\\vaishali\\lib\\site-packages\\matplotlib\\axes\\_base.py:2237\u001b[0m, in \u001b[0;36m_AxesBase.add_collection\u001b[1;34m(self, collection, autolim)\u001b[0m\n\u001b[0;32m   2234\u001b[0m \u001b[39mself\u001b[39m\u001b[39m.\u001b[39m_set_artist_props(collection)\n\u001b[0;32m   2236\u001b[0m \u001b[39mif\u001b[39;00m collection\u001b[39m.\u001b[39mget_clip_path() \u001b[39mis\u001b[39;00m \u001b[39mNone\u001b[39;00m:\n\u001b[1;32m-> 2237\u001b[0m     collection\u001b[39m.\u001b[39;49mset_clip_path(\u001b[39mself\u001b[39;49m\u001b[39m.\u001b[39;49mpatch)\n\u001b[0;32m   2239\u001b[0m \u001b[39mif\u001b[39;00m autolim:\n\u001b[0;32m   2240\u001b[0m     \u001b[39m# Make sure viewLim is not stale (mostly to match\u001b[39;00m\n\u001b[0;32m   2241\u001b[0m     \u001b[39m# pre-lazy-autoscale behavior, which is not really better).\u001b[39;00m\n\u001b[0;32m   2242\u001b[0m     \u001b[39mself\u001b[39m\u001b[39m.\u001b[39m_unstale_viewLim()\n",
      "File \u001b[1;32mc:\\Users\\sgupt\\anaconda3\\envs\\vaishali\\lib\\site-packages\\matplotlib\\artist.py:790\u001b[0m, in \u001b[0;36mArtist.set_clip_path\u001b[1;34m(self, path, transform)\u001b[0m\n\u001b[0;32m    787\u001b[0m \u001b[39mif\u001b[39;00m transform \u001b[39mis\u001b[39;00m \u001b[39mNone\u001b[39;00m:\n\u001b[0;32m    788\u001b[0m     \u001b[39mif\u001b[39;00m \u001b[39misinstance\u001b[39m(path, Rectangle):\n\u001b[0;32m    789\u001b[0m         \u001b[39mself\u001b[39m\u001b[39m.\u001b[39mclipbox \u001b[39m=\u001b[39m TransformedBbox(Bbox\u001b[39m.\u001b[39munit(),\n\u001b[1;32m--> 790\u001b[0m                                        path\u001b[39m.\u001b[39;49mget_transform())\n\u001b[0;32m    791\u001b[0m         \u001b[39mself\u001b[39m\u001b[39m.\u001b[39m_clippath \u001b[39m=\u001b[39m \u001b[39mNone\u001b[39;00m\n\u001b[0;32m    792\u001b[0m         success \u001b[39m=\u001b[39m \u001b[39mTrue\u001b[39;00m\n",
      "File \u001b[1;32mc:\\Users\\sgupt\\anaconda3\\envs\\vaishali\\lib\\site-packages\\matplotlib\\patches.py:278\u001b[0m, in \u001b[0;36mPatch.get_transform\u001b[1;34m(self)\u001b[0m\n\u001b[0;32m    276\u001b[0m \u001b[39mdef\u001b[39;00m \u001b[39mget_transform\u001b[39m(\u001b[39mself\u001b[39m):\n\u001b[0;32m    277\u001b[0m     \u001b[39m\"\"\"Return the `~.transforms.Transform` applied to the `Patch`.\"\"\"\u001b[39;00m\n\u001b[1;32m--> 278\u001b[0m     \u001b[39mreturn\u001b[39;00m \u001b[39mself\u001b[39;49m\u001b[39m.\u001b[39;49mget_patch_transform() \u001b[39m+\u001b[39m artist\u001b[39m.\u001b[39mArtist\u001b[39m.\u001b[39mget_transform(\u001b[39mself\u001b[39m)\n",
      "File \u001b[1;32mc:\\Users\\sgupt\\anaconda3\\envs\\vaishali\\lib\\site-packages\\matplotlib\\patches.py:754\u001b[0m, in \u001b[0;36mRectangle.get_patch_transform\u001b[1;34m(self)\u001b[0m\n\u001b[0;32m    747\u001b[0m \u001b[39mdef\u001b[39;00m \u001b[39mget_patch_transform\u001b[39m(\u001b[39mself\u001b[39m):\n\u001b[0;32m    748\u001b[0m     \u001b[39m# Note: This cannot be called until after this has been added to\u001b[39;00m\n\u001b[0;32m    749\u001b[0m     \u001b[39m# an Axes, otherwise unit conversion will fail. This makes it very\u001b[39;00m\n\u001b[0;32m    750\u001b[0m     \u001b[39m# important to call the accessor method and not directly access the\u001b[39;00m\n\u001b[0;32m    751\u001b[0m     \u001b[39m# transformation member variable.\u001b[39;00m\n\u001b[0;32m    752\u001b[0m     bbox \u001b[39m=\u001b[39m \u001b[39mself\u001b[39m\u001b[39m.\u001b[39mget_bbox()\n\u001b[0;32m    753\u001b[0m     \u001b[39mreturn\u001b[39;00m (transforms\u001b[39m.\u001b[39mBboxTransformTo(bbox)\n\u001b[1;32m--> 754\u001b[0m             \u001b[39m+\u001b[39m transforms\u001b[39m.\u001b[39;49mAffine2D()\u001b[39m.\u001b[39;49mrotate_deg_around(\n\u001b[0;32m    755\u001b[0m                 bbox\u001b[39m.\u001b[39;49mx0, bbox\u001b[39m.\u001b[39;49my0, \u001b[39mself\u001b[39;49m\u001b[39m.\u001b[39;49mangle))\n",
      "File \u001b[1;32mc:\\Users\\sgupt\\anaconda3\\envs\\vaishali\\lib\\site-packages\\matplotlib\\transforms.py:2042\u001b[0m, in \u001b[0;36mAffine2D.rotate_deg_around\u001b[1;34m(self, x, y, degrees)\u001b[0m\n\u001b[0;32m   2040\u001b[0m \u001b[39m# Cast to float to avoid wraparound issues with uint8's\u001b[39;00m\n\u001b[0;32m   2041\u001b[0m x, y \u001b[39m=\u001b[39m \u001b[39mfloat\u001b[39m(x), \u001b[39mfloat\u001b[39m(y)\n\u001b[1;32m-> 2042\u001b[0m \u001b[39mreturn\u001b[39;00m \u001b[39mself\u001b[39;49m\u001b[39m.\u001b[39;49mtranslate(\u001b[39m-\u001b[39;49mx, \u001b[39m-\u001b[39;49my)\u001b[39m.\u001b[39;49mrotate_deg(degrees)\u001b[39m.\u001b[39mtranslate(x, y)\n",
      "File \u001b[1;32mc:\\Users\\sgupt\\anaconda3\\envs\\vaishali\\lib\\site-packages\\matplotlib\\transforms.py:2020\u001b[0m, in \u001b[0;36mAffine2D.rotate_deg\u001b[1;34m(self, degrees)\u001b[0m\n\u001b[0;32m   2012\u001b[0m \u001b[39mdef\u001b[39;00m \u001b[39mrotate_deg\u001b[39m(\u001b[39mself\u001b[39m, degrees):\n\u001b[0;32m   2013\u001b[0m     \u001b[39m\"\"\"\u001b[39;00m\n\u001b[0;32m   2014\u001b[0m \u001b[39m    Add a rotation (in degrees) to this transform in place.\u001b[39;00m\n\u001b[0;32m   2015\u001b[0m \n\u001b[1;32m   (...)\u001b[0m\n\u001b[0;32m   2018\u001b[0m \u001b[39m    and :meth:`scale`.\u001b[39;00m\n\u001b[0;32m   2019\u001b[0m \u001b[39m    \"\"\"\u001b[39;00m\n\u001b[1;32m-> 2020\u001b[0m     \u001b[39mreturn\u001b[39;00m \u001b[39mself\u001b[39;49m\u001b[39m.\u001b[39;49mrotate(math\u001b[39m.\u001b[39;49mradians(degrees))\n",
      "File \u001b[1;32mc:\\Users\\sgupt\\anaconda3\\envs\\vaishali\\lib\\site-packages\\matplotlib\\transforms.py:2008\u001b[0m, in \u001b[0;36mAffine2D.rotate\u001b[1;34m(self, theta)\u001b[0m\n\u001b[0;32m   2005\u001b[0m b \u001b[39m=\u001b[39m math\u001b[39m.\u001b[39msin(theta)\n\u001b[0;32m   2006\u001b[0m rotate_mtx \u001b[39m=\u001b[39m np\u001b[39m.\u001b[39marray([[a, \u001b[39m-\u001b[39mb, \u001b[39m0.0\u001b[39m], [b, a, \u001b[39m0.0\u001b[39m], [\u001b[39m0.0\u001b[39m, \u001b[39m0.0\u001b[39m, \u001b[39m1.0\u001b[39m]],\n\u001b[0;32m   2007\u001b[0m                       \u001b[39mfloat\u001b[39m)\n\u001b[1;32m-> 2008\u001b[0m \u001b[39mself\u001b[39m\u001b[39m.\u001b[39m_mtx \u001b[39m=\u001b[39m np\u001b[39m.\u001b[39;49mdot(rotate_mtx, \u001b[39mself\u001b[39;49m\u001b[39m.\u001b[39;49m_mtx)\n\u001b[0;32m   2009\u001b[0m \u001b[39mself\u001b[39m\u001b[39m.\u001b[39minvalidate()\n\u001b[0;32m   2010\u001b[0m \u001b[39mreturn\u001b[39;00m \u001b[39mself\u001b[39m\n",
      "File \u001b[1;32m<__array_function__ internals>:180\u001b[0m, in \u001b[0;36mdot\u001b[1;34m(*args, **kwargs)\u001b[0m\n",
      "\u001b[1;31mKeyboardInterrupt\u001b[0m: "
     ]
    },
    {
     "data": {
      "image/png": "[encoded data removed]",
      "text/plain": [
       "<Figure size 1080x1080 with 42 Axes>"
      ]
     },
     "metadata": {
      "needs_background": "light"
     },
     "output_type": "display_data"
    }
   ],
   "source": [
    "sns.pairplot(df, hue=\"Product\") #, markers=[\"o\", \"s\", \"D\"])"
   ]
  },
  {
   "cell_type": "code",
   "execution_count": null,
   "metadata": {},
   "outputs": [
    {
     "data": {
      "text/html": [
       "<div>\n",
       "<style scoped>\n",
       "    .dataframe tbody tr th:only-of-type {\n",
       "        vertical-align: middle;\n",
       "    }\n",
       "\n",
       "    .dataframe tbody tr th {\n",
       "        vertical-align: top;\n",
       "    }\n",
       "\n",
       "    .dataframe thead th {\n",
       "        text-align: right;\n",
       "    }\n",
       "</style>\n",
       "<table border=\"1\" class=\"dataframe\">\n",
       "  <thead>\n",
       "    <tr style=\"text-align: right;\">\n",
       "      <th></th>\n",
       "      <th>Age</th>\n",
       "      <th>Education</th>\n",
       "      <th>Usage</th>\n",
       "      <th>Fitness</th>\n",
       "      <th>Income</th>\n",
       "      <th>Miles</th>\n",
       "    </tr>\n",
       "  </thead>\n",
       "  <tbody>\n",
       "    <tr>\n",
       "      <th>Age</th>\n",
       "      <td>1.000000</td>\n",
       "      <td>0.376350</td>\n",
       "      <td>0.090081</td>\n",
       "      <td>0.088002</td>\n",
       "      <td>0.621392</td>\n",
       "      <td>0.084594</td>\n",
       "    </tr>\n",
       "    <tr>\n",
       "      <th>Education</th>\n",
       "      <td>0.376350</td>\n",
       "      <td>1.000000</td>\n",
       "      <td>0.318386</td>\n",
       "      <td>0.295129</td>\n",
       "      <td>0.601226</td>\n",
       "      <td>0.248411</td>\n",
       "    </tr>\n",
       "    <tr>\n",
       "      <th>Usage</th>\n",
       "      <td>0.090081</td>\n",
       "      <td>0.318386</td>\n",
       "      <td>1.000000</td>\n",
       "      <td>0.604149</td>\n",
       "      <td>0.407150</td>\n",
       "      <td>0.702917</td>\n",
       "    </tr>\n",
       "    <tr>\n",
       "      <th>Fitness</th>\n",
       "      <td>0.088002</td>\n",
       "      <td>0.295129</td>\n",
       "      <td>0.604149</td>\n",
       "      <td>1.000000</td>\n",
       "      <td>0.428898</td>\n",
       "      <td>0.773113</td>\n",
       "    </tr>\n",
       "    <tr>\n",
       "      <th>Income</th>\n",
       "      <td>0.621392</td>\n",
       "      <td>0.601226</td>\n",
       "      <td>0.407150</td>\n",
       "      <td>0.428898</td>\n",
       "      <td>1.000000</td>\n",
       "      <td>0.488441</td>\n",
       "    </tr>\n",
       "    <tr>\n",
       "      <th>Miles</th>\n",
       "      <td>0.084594</td>\n",
       "      <td>0.248411</td>\n",
       "      <td>0.702917</td>\n",
       "      <td>0.773113</td>\n",
       "      <td>0.488441</td>\n",
       "      <td>1.000000</td>\n",
       "    </tr>\n",
       "  </tbody>\n",
       "</table>\n",
       "</div>"
      ],
      "text/plain": [
       "                Age  Education     Usage   Fitness    Income     Miles\n",
       "Age        1.000000   0.376350  0.090081  0.088002  0.621392  0.084594\n",
       "Education  0.376350   1.000000  0.318386  0.295129  0.601226  0.248411\n",
       "Usage      0.090081   0.318386  1.000000  0.604149  0.407150  0.702917\n",
       "Fitness    0.088002   0.295129  0.604149  1.000000  0.428898  0.773113\n",
       "Income     0.621392   0.601226  0.407150  0.428898  1.000000  0.488441\n",
       "Miles      0.084594   0.248411  0.702917  0.773113  0.488441  1.000000"
      ]
     },
     "execution_count": 117,
     "metadata": {},
     "output_type": "execute_result"
    }
   ],
   "source": [
    "df.corr()"
   ]
  },
  {
   "cell_type": "code",
   "execution_count": null,
   "metadata": {},
   "outputs": [
    {
     "data": {
      "text/plain": [
       "<AxesSubplot:>"
      ]
     },
     "execution_count": 118,
     "metadata": {},
     "output_type": "execute_result"
    },
    {
     "data": {
      "image/png": "[encoded data removed]",
      "text/plain": [
       "<Figure size 432x288 with 2 Axes>"
      ]
     },
     "metadata": {
      "needs_background": "light"
     },
     "output_type": "display_data"
    }
   ],
   "source": [
    "sns.heatmap(df.corr(), cmap=\"YlGnBu\", annot=True)#, square=True)"
   ]
  },
  {
   "cell_type": "code",
   "execution_count": null,
   "metadata": {},
   "outputs": [
    {
     "data": {
      "image/png": "[encoded data removed]",
      "text/plain": [
       "<Figure size 1008x504 with 1 Axes>"
      ]
     },
     "metadata": {},
     "output_type": "display_data"
    }
   ],
   "source": [
    "#Univariate Analysis\n",
    "#categorical variables \n",
    "\n",
    "plt.figure(figsize=(14,7))\n",
    "colors = sns.color_palette('pastel')[0:5]\n",
    "df['Product'].value_counts().plot(kind = 'pie',autopct='%1.1f%%')\n",
    "plt.title(\"Pie Chart of Product\")\n",
    "plt.show()"
   ]
  },
  {
   "cell_type": "markdown",
   "metadata": {},
   "source": [
    "- KP281 is the most used product."
   ]
  },
  {
   "cell_type": "code",
   "execution_count": null,
   "metadata": {},
   "outputs": [
    {
     "data": {
      "text/plain": [
       "<AxesSubplot:xlabel='Age', ylabel='Income'>"
      ]
     },
     "execution_count": 120,
     "metadata": {},
     "output_type": "execute_result"
    },
    {
     "data": {
      "image/png": "[encoded data removed]",
      "text/plain": [
       "<Figure size 432x288 with 1 Axes>"
      ]
     },
     "metadata": {
      "needs_background": "light"
     },
     "output_type": "display_data"
    }
   ],
   "source": [
    "sns.scatterplot(x='Age', y='Income', hue='Product', data=df)"
   ]
  },
  {
   "cell_type": "markdown",
   "metadata": {},
   "source": [
    "Observations\n",
    "- **People with income with higher income (more than 50000) buy KP781.**\n",
    "- **Products KP281 and KP481 are bought by people with lower than 70K as income**\n",
    "- **Product KP781 is mainly bought by people with higher than 70K income with age falls in range of 25-45**. "
   ]
  },
  {
   "cell_type": "code",
   "execution_count": null,
   "metadata": {},
   "outputs": [
    {
     "data": {
      "text/plain": [
       "[Text(0.5, 1.0, 'Marital Status')]"
      ]
     },
     "execution_count": 121,
     "metadata": {},
     "output_type": "execute_result"
    },
    {
     "data": {
      "image/png": "[encoded data removed]",
      "text/plain": [
       "<Figure size 432x288 with 1 Axes>"
      ]
     },
     "metadata": {
      "needs_background": "light"
     },
     "output_type": "display_data"
    }
   ],
   "source": [
    "sns.countplot(x = df['Gender'],hue=df[\"MaritalStatus\"]).set(title='Marital Status')"
   ]
  },
  {
   "cell_type": "code",
   "execution_count": null,
   "metadata": {},
   "outputs": [
    {
     "data": {
      "image/png": "[encoded data removed]",
      "text/plain": [
       "<Figure size 432x288 with 1 Axes>"
      ]
     },
     "metadata": {
      "needs_background": "light"
     },
     "output_type": "display_data"
    }
   ],
   "source": [
    "sns.lineplot(data=df,x='Age',y='Income',hue=\"Product\")\n",
    "plt.show()"
   ]
  },
  {
   "cell_type": "markdown",
   "metadata": {},
   "source": [
    "OBSERVATIONS:\n",
    "\n",
    "- **People with Higher income buy KP781**\n",
    "- **People with higher income and age range 23-30 tend to buy more KP281 and KP481**"
   ]
  },
  {
   "cell_type": "code",
   "execution_count": null,
   "metadata": {},
   "outputs": [
    {
     "data": {
      "image/png": "[encoded data removed]",
      "text/plain": [
       "<Figure size 432x288 with 1 Axes>"
      ]
     },
     "metadata": {
      "needs_background": "light"
     },
     "output_type": "display_data"
    }
   ],
   "source": [
    "sns.countplot(data=df,x=\"Usage\",hue=\"Product\")\n",
    "plt.show()"
   ]
  },
  {
   "cell_type": "markdown",
   "metadata": {},
   "source": [
    "OBERVATIONS:\n",
    "\n",
    "- **Most of the buyers are have a usage rating 2,3 or 4**\n",
    "- **KP281 is more bought by the buyers with usage rating less than 4**\n",
    "- **KP781 is more bought by the users with usage more than 4**"
   ]
  },
  {
   "cell_type": "code",
   "execution_count": null,
   "metadata": {},
   "outputs": [
    {
     "data": {
      "image/png": "[encoded data removed]",
      "text/plain": [
       "<Figure size 432x288 with 1 Axes>"
      ]
     },
     "metadata": {
      "needs_background": "light"
     },
     "output_type": "display_data"
    }
   ],
   "source": [
    "sns.countplot(data=df,x='MaritalStatus',hue=\"Product\")\n",
    "plt.show()"
   ]
  },
  {
   "cell_type": "markdown",
   "metadata": {},
   "source": [
    "OBSERVATIONS:\n",
    "\n",
    "- Most of the buyers are Partnered\n",
    "- And among both the MaritalStatus we can see there is a same trend KP281 most favourable and KP781 is least"
   ]
  },
  {
   "cell_type": "code",
   "execution_count": null,
   "metadata": {},
   "outputs": [
    {
     "data": {
      "text/plain": [
       "MaritalStatus  Product  Usage\n",
       "Partnered      KP281    3        20\n",
       "                        2        12\n",
       "                        4        11\n",
       "                        5         1\n",
       "               KP481    3        15\n",
       "                        2         8\n",
       "                        4         6\n",
       "                        5         2\n",
       "               KP781    4         3\n",
       "                        5         2\n",
       "                        6         2\n",
       "Single         KP281    3        14\n",
       "                        4         9\n",
       "                        2         7\n",
       "                        5         1\n",
       "               KP481    3        14\n",
       "                        4         6\n",
       "                        2         3\n",
       "               KP781    4         4\n",
       "                        5         2\n",
       "                        3         1\n",
       "                        6         1\n",
       "Name: Usage, dtype: int64"
      ]
     },
     "execution_count": 125,
     "metadata": {},
     "output_type": "execute_result"
    }
   ],
   "source": [
    "df.groupby(['MaritalStatus','Product']).Usage.value_counts()"
   ]
  },
  {
   "cell_type": "markdown",
   "metadata": {},
   "source": [
    "OBSERVATIONS:\n",
    "\n",
    "- Partnered are more likely to buy KP281 if they have usage rating between 2 to 4\n",
    "- Single person is more likely to buy KP281 if the usage rating is 3 or 4."
   ]
  },
  {
   "cell_type": "code",
   "execution_count": null,
   "metadata": {},
   "outputs": [
    {
     "data": {
      "text/plain": [
       "Gender  Product  MaritalStatus\n",
       "Female  KP281    Partnered        25\n",
       "                 Single           12\n",
       "        KP481    Partnered        13\n",
       "                 Single           14\n",
       "        KP781    Partnered         1\n",
       "                 Single            1\n",
       "Male    KP281    Partnered        19\n",
       "                 Single           19\n",
       "        KP481    Partnered        18\n",
       "                 Single            9\n",
       "        KP781    Partnered         6\n",
       "                 Single            7\n",
       "Name: Usage, dtype: int64"
      ]
     },
     "execution_count": 126,
     "metadata": {},
     "output_type": "execute_result"
    }
   ],
   "source": [
    "df.groupby(['Gender','Product', 'MaritalStatus'])['Usage'].count()"
   ]
  },
  {
   "cell_type": "markdown",
   "metadata": {},
   "source": [
    "OBSERVATIONS:\n",
    "\n",
    "- **KP481 is bought more by Single females**\n",
    "- **KP281 is preferred by Partnered females**\n",
    "- **A partnered male is equally likely to buy KP281 and KP481**\n",
    "- **Single male is more likely to buy KP281**"
   ]
  },
  {
   "cell_type": "markdown",
   "metadata": {},
   "source": [
    "### Business Recommendations (10 Points)"
   ]
  },
  {
   "cell_type": "markdown",
   "metadata": {},
   "source": [
    "- Promote and recommend product KP781 to users with higher fitness and usage rating\n",
    "- Provide recommendations of product KP781 to the users with higher income (at least wih income more than 50000K)\n",
    "- KP481 should be recommended to single females\n",
    "- KP281 should be recommended to single males\n",
    "- KP281 and KP481 should be recommended to users with lower income.\n",
    "- Recommend KP481 to users with age group 30-40.\n",
    "- Recommend KP281 for lower income and 40-50 age group. \n",
    "- Recommend KP781 for higher income and 40-50 age group."
   ]
  },
  {
   "cell_type": "code",
   "execution_count": null,
   "metadata": {},
   "outputs": [],
   "source": []
  }
 ],
 "metadata": {
  "kernelspec": {
   "display_name": "Python 3.8.5 ('vaishali')",
   "language": "python",
   "name": "python3"
  },
  "language_info": {
   "codemirror_mode": {
    "name": "ipython",
    "version": 3
   },
   "file_extension": ".py",
   "mimetype": "text/x-python",
   "name": "python",
   "nbconvert_exporter": "python",
   "pygments_lexer": "ipython3",
   "version": "3.8.5"
  },
  "orig_nbformat": 4,
  "vscode": {
   "interpreter": {
    "hash": "c626c7f027fd81c21c9d33e27e9da6944415f92c80192dd5d04cdc4b243efcd0"
   }
  }
 },
 "nbformat": 4,
 "nbformat_minor": 2
}
