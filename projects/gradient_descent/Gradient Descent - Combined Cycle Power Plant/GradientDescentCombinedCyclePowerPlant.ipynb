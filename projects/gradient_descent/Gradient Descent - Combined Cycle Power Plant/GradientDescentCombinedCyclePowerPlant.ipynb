{
 "cells": [
  {
   "cell_type": "markdown",
   "metadata": {},
   "source": [
    "### Gradient Descent - Combined Cycle Power Plant\n",
    "\n",
    "Combined Cycle Power Plant dataset contains 9568 data points collected from a Combined Cycle Power Plant over 6 years (2006-2011), when the power plant was set to work with full load. \n",
    "Features consist of hourly average ambient variables Temperature (T), Ambient Pressure (AP), Relative Humidity (RH) and Exhaust Vacuum (V) to predict the net hourly electrical energy output (EP) of the plant.\n",
    "\n",
    "You are given:\n",
    "1. A Readme file for more details on dataset. \n",
    "2. A Training dataset csv file with X train and Y train data\n",
    "3. A X test File and you have to predict and submit predictions for this file.\n",
    "\n",
    "Your task is to:\n",
    "1. Code Gradient Descent for N features and come with predictions.\n",
    "2. Try and test with various combinations of learning rates and number of iterations.\n",
    "3. Try using Feature Scaling, and see if it helps you in getting better results. \n",
    "\n",
    "Instructions\n",
    " \n",
    "1. Use Gradient Descent as a training algorithm and submit results predicted.\n",
    "2. Files are in csv format, you can use genfromtxt function in numpy to load data from csv file. Similarly you can use savetxt function to save data into a file.\n",
    "3. Submit a csv file with only predictions for X test data. File should not have any headers and should only have one column i.e. predictions. Also predictions shouldn't be in exponential form.\n",
    "4. Your score is based on coefficient of determination. So it can be possible that nobody gets full score.\n"
   ]
  },
  {
   "cell_type": "code",
   "execution_count": null,
   "metadata": {},
   "outputs": [],
   "source": []
  }
 ],
 "metadata": {
  "kernelspec": {
   "display_name": "Python 3.10.4 ('saurabh')",
   "language": "python",
   "name": "python3"
  },
  "language_info": {
   "name": "python",
   "version": "3.10.4"
  },
  "orig_nbformat": 4,
  "vscode": {
   "interpreter": {
    "hash": "15c9e7f3e4c79f058aa4ff0a9234015b2656b12cc7cead430c8d4992e190e17f"
   }
  }
 },
 "nbformat": 4,
 "nbformat_minor": 2
}
