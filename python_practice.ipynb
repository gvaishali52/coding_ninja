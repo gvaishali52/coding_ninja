{
 "cells": [
  {
   "cell_type": "code",
   "execution_count": null,
   "metadata": {},
   "outputs": [],
   "source": [
    "a=5\n",
    "if a!=7:\n",
    "    print(\"not 7\")\n",
    "else:\n",
    "    print(\"7\")"
   ]
  },
  {
   "cell_type": "code",
   "execution_count": null,
   "metadata": {},
   "outputs": [],
   "source": []
  },
  {
   "cell_type": "code",
   "execution_count": null,
   "metadata": {},
   "outputs": [],
   "source": [
    "a=10\n",
    "b=10\n",
    "c=5\n",
    "\n",
    "if a>=b and a>=c :\n",
    "    print(\"a is largest\")\n",
    "\n",
    "elif b>=a and b>= c:\n",
    "    print(\"b is largest\")\n",
    "\n",
    "else :\n",
    "    print(\"c is largest\")"
   ]
  },
  {
   "cell_type": "code",
   "execution_count": null,
   "metadata": {},
   "outputs": [],
   "source": [
    "a=25\n",
    "b=23\n",
    "\n",
    "if a>20:\n",
    "    print(\"a>20\")\n",
    "elif a>b:\n",
    "    print(\"a>b\")\n",
    "else :\n",
    "    print(\"b>a\")"
   ]
  },
  {
   "cell_type": "markdown",
   "metadata": {},
   "source": []
  },
  {
   "cell_type": "markdown",
   "metadata": {},
   "source": []
  },
  {
   "cell_type": "code",
   "execution_count": null,
   "metadata": {},
   "outputs": [],
   "source": [
    "a=25\n",
    "b=23\n",
    "\n",
    "if a>20:\n",
    "    print(\"a>20\")\n",
    "if a>b:\n",
    "    print(\"a>b\")\n",
    "else :\n",
    "    print(\"b>a\")"
   ]
  },
  {
   "cell_type": "code",
   "execution_count": null,
   "metadata": {},
   "outputs": [],
   "source": [
    "if True or True:\n",
    "    if False and True or False:\n",
    "        print('A')\n",
    "    elif False and False or True and True:\n",
    "       print('B')\n",
    "    else:\n",
    "      print('C')\n",
    "else:\n",
    "     print('D')"
   ]
  },
  {
   "cell_type": "code",
   "execution_count": null,
   "metadata": {},
   "outputs": [],
   "source": [
    "i=1\n",
    "while i<=10:\n",
    "    print(i)\n",
    "    i+=1"
   ]
  },
  {
   "cell_type": "code",
   "execution_count": null,
   "metadata": {},
   "outputs": [],
   "source": [
    "i=1\n",
    "while i<=10:\n",
    "\n",
    "    print(i*i)\n",
    "    i+=1"
   ]
  },
  {
   "cell_type": "code",
   "execution_count": null,
   "metadata": {},
   "outputs": [],
   "source": [
    "i=1\n",
    "while i<=10:\n",
    "    a=i*i\n",
    "    print(a)\n",
    "    i+=1"
   ]
  },
  {
   "cell_type": "code",
   "execution_count": null,
   "metadata": {},
   "outputs": [],
   "source": [
    "i=1\n",
    "while i<=10:\n",
    "\n",
    "    print(i**10)\n",
    "    i+=1"
   ]
  },
  {
   "cell_type": "code",
   "execution_count": null,
   "metadata": {},
   "outputs": [],
   "source": [
    "n = 100\n",
    "i=1\n",
    "sum=0\n",
    "while i<=n:\n",
    "    sum=sum+i\n",
    "    i+=1\n",
    "\n",
    "print(i)   \n",
    "print(sum)"
   ]
  },
  {
   "cell_type": "markdown",
   "metadata": {},
   "source": [
    "Given an integer n, find and print the sum of numbers from 1 to n.\n",
    "Note : Use while loop only."
   ]
  },
  {
   "cell_type": "code",
   "execution_count": null,
   "metadata": {},
   "outputs": [],
   "source": [
    "# Print output as specified in the question\n",
    "n=int(input())\n",
    "i=1\n",
    "sum=0\n",
    "while i<=n:\n",
    "    sum=sum+i\n",
    "    i+=1\n",
    "\n",
    "# print(i)   \n",
    "print(sum)"
   ]
  },
  {
   "cell_type": "markdown",
   "metadata": {},
   "source": [
    "Given a number N, print sum of all even numbers from 1 to N."
   ]
  },
  {
   "cell_type": "code",
   "execution_count": null,
   "metadata": {},
   "outputs": [],
   "source": [
    "n=int(input())\n",
    "i=1\n",
    "sum=0\n",
    "while i<=n:\n",
    "    if i%2==0:\n",
    "        sum=sum+i\n",
    "    i+=1\n",
    "\n",
    "# print(i)   \n",
    "print(sum)"
   ]
  },
  {
   "cell_type": "markdown",
   "metadata": {},
   "source": [
    "print 0 20 40 .. 100 using while loop.\n",
    "take n = 100 "
   ]
  },
  {
   "cell_type": "code",
   "execution_count": null,
   "metadata": {},
   "outputs": [],
   "source": [
    "n = 100\n",
    "a= 0 \n",
    "while a<=n:\n",
    "    print(a)\n",
    "    \n",
    "    a+=20\n"
   ]
  },
  {
   "cell_type": "markdown",
   "metadata": {},
   "source": [
    "Given three values - Start Fahrenheit Value (S), End Fahrenheit value (E) and Step Size (W), you need to convert all Fahrenheit values from Start to End at the gap of W, into their corresponding Celsius values and print the table."
   ]
  },
  {
   "cell_type": "code",
   "execution_count": 1,
   "metadata": {},
   "outputs": [
    {
     "name": "stdout",
     "output_type": "stream",
     "text": [
      "0 -17\n",
      "20 -6\n",
      "40 4\n",
      "60 15\n",
      "80 26\n",
      "100 37\n"
     ]
    }
   ],
   "source": [
    "n = 100\n",
    "f= 0 \n",
    "while f<=n:\n",
    "\n",
    "    c=int(5*(f-32)/9)\n",
    "    print(f,c)\n",
    "    f+=20\n"
   ]
  },
  {
   "cell_type": "code",
   "execution_count": 5,
   "metadata": {},
   "outputs": [
    {
     "name": "stdout",
     "output_type": "stream",
     "text": [
      "0 \t -17\n",
      "20 \t -6\n",
      "40 \t 4\n",
      "60 \t 15\n",
      "80 \t 26\n",
      "100 \t 37\n"
     ]
    }
   ],
   "source": [
    "def printTable(start,end,step):\n",
    "    for f in range(start, end+1,step):\n",
    "        c=int(5*(f-32)/9)\n",
    "        print(f,'\\t',c)\n",
    "\n",
    "    pass \n",
    "\n",
    "\t   \n",
    "s = 0\n",
    "e = 100\n",
    "step = 20\n",
    "printTable(s,e,step)\n"
   ]
  },
  {
   "cell_type": "code",
   "execution_count": null,
   "metadata": {},
   "outputs": [],
   "source": [
    "3//2"
   ]
  },
  {
   "cell_type": "code",
   "execution_count": null,
   "metadata": {},
   "outputs": [],
   "source": [
    "5//2"
   ]
  },
  {
   "cell_type": "code",
   "execution_count": null,
   "metadata": {},
   "outputs": [],
   "source": [
    "-5//2"
   ]
  },
  {
   "cell_type": "code",
   "execution_count": null,
   "metadata": {},
   "outputs": [],
   "source": [
    "round(17.77777)"
   ]
  },
  {
   "cell_type": "code",
   "execution_count": null,
   "metadata": {},
   "outputs": [],
   "source": [
    "start = int(input())\n",
    "end = int(input())\n",
    "step = int(input())\n",
    "f= start\n",
    "while f<=end:\n",
    "\n",
    "    c=int(5*(f-32)/9)\n",
    "    print(f,c)\n",
    "    f+=step\n"
   ]
  },
  {
   "cell_type": "markdown",
   "metadata": {},
   "source": [
    "**Reverse of a number**\n",
    "\n",
    "Write a program to generate the reverse of a given number N. Print the corresponding reverse number.\n",
    "Note : If a number has trailing zeros, then its reverse will not include them. For e.g., reverse of 10400 will be 401 instead of 00401.\n"
   ]
  },
  {
   "cell_type": "code",
   "execution_count": null,
   "metadata": {},
   "outputs": [],
   "source": [
    "print(\"last digit\", 1234%10) # \"to access last digit\"\n",
    "\n",
    "print(\"except last digit\", 1234//10)\n",
    "\n",
    "print(\"last two digit\", 1234%100)\n",
    "\n",
    "print(\"except last two digit\", 1234//100)\n",
    " \n"
   ]
  },
  {
   "cell_type": "code",
   "execution_count": null,
   "metadata": {},
   "outputs": [],
   "source": [
    "n=1234\n",
    "# reverse = 0\n",
    "\n",
    "while n!=0:\n",
    "    last_digit=n%10\n",
    "    print(last_digit, end = \"\")\n",
    "    n=n//10\n"
   ]
  },
  {
   "cell_type": "code",
   "execution_count": null,
   "metadata": {},
   "outputs": [],
   "source": [
    "n=1200\n",
    "# reverse = 0\n",
    "\n",
    "while n!=0:\n",
    "    last_digit=n%10\n",
    "    if last_digit !=0 :\n",
    "        print(last_digit, end = \"\")\n",
    "    n=n//10\n"
   ]
  },
  {
   "cell_type": "code",
   "execution_count": null,
   "metadata": {},
   "outputs": [],
   "source": [
    "n=10020\n",
    "# reverse = 0\n",
    "\n",
    "while n!=0:\n",
    "    last_digit=n%10\n",
    "    if last_digit !=0 :\n",
    "        print(last_digit, end = \"\")\n",
    "        n=n//10\n",
    "        break\n",
    "    n=n//10\n",
    "while n!=0:\n",
    "    last_digit=n%10\n",
    "    print(last_digit, end = \"\")\n",
    "    n=n//10"
   ]
  },
  {
   "cell_type": "code",
   "execution_count": null,
   "metadata": {},
   "outputs": [],
   "source": [
    "num = 12003400\n",
    "reversed_num = 0\n",
    "\n",
    "while num != 0:\n",
    "    digit = num % 10\n",
    "    reversed_num = reversed_num * 10 + digit\n",
    "    num //= 10\n",
    "\n",
    "print(\"Reversed Number: \" + str(reversed_num))"
   ]
  },
  {
   "cell_type": "markdown",
   "metadata": {},
   "source": [
    "**Palindrome**\n",
    "\n",
    "Write a program to determine if given number is palindrome or not. Print true if it is palindrome, false otherwise.\n",
    "Palindrome are the numbers for which reverse is exactly same as the original one. For eg. 121"
   ]
  },
  {
   "cell_type": "code",
   "execution_count": null,
   "metadata": {},
   "outputs": [
    {
     "name": "stdout",
     "output_type": "stream",
     "text": [
      "true\n"
     ]
    }
   ],
   "source": [
    "def checkPalindrome(num):\n",
    "#Implement Your Code Here\n",
    "    original_num = num\n",
    "    reversed_num = 0\n",
    "\n",
    "    while num != 0:\n",
    "        digit = num % 10\n",
    "        reversed_num = reversed_num * 10 + digit\n",
    "        num //= 10\n",
    "    if original_num == reversed_num:\n",
    "        return True\n",
    "    else:\n",
    "        return False\n",
    "\n",
    "\n",
    "num = 12233221\n",
    "isPalindrome = checkPalindrome(num)\n",
    "if(isPalindrome):\n",
    "\tprint('true')\n",
    "else:\n",
    "\tprint('false')\n"
   ]
  },
  {
   "cell_type": "markdown",
   "metadata": {},
   "source": [
    "**Sum of even & odd**\n",
    "\n",
    "Write a program to input an integer N and print the sum of all its even digits and sum of all its odd digits separately.\n",
    "Digits mean numbers, not the places! That is, if the given integer is \"13245\", even digits are 2 & 4 and odd digits are 1, 3 & 5."
   ]
  },
  {
   "cell_type": "code",
   "execution_count": null,
   "metadata": {},
   "outputs": [],
   "source": [
    "## Note : For printing multiple values in one line, put them inside print separated by space.\n",
    "## You can follow this syntax for printing values of two variables val1 and val2 separaetd by space -\n",
    "## print(val1, \" \", val2)\n",
    "n = int(input())\n",
    "\n",
    "even_sum = 0\n",
    "odd_sum = 0\n",
    "\n",
    "while (n!=0):\n",
    "    digit = n%10\n",
    "    \n",
    "    if digit%2 == 0:\n",
    "        even_sum += digit\n",
    "        \n",
    "    else:\n",
    "        odd_sum += digit\n",
    "        \n",
    "    n //=10\n",
    "    \n",
    "print(even_sum, \" \", odd_sum)\n",
    "\n"
   ]
  },
  {
   "cell_type": "markdown",
   "metadata": {},
   "source": [
    "Nth Fibonacci Number\n",
    "Send Feedback\n",
    "Nth term of Fibonacci series F(n), where F(n) is a function, is calculated using the following formula \n",
    "- F(n) = F(n-1) + F(n-2), \n",
    "    Where, F(1) = F(2) = 1\n",
    "Provided N you have to find out the Nth Fibonacci Number."
   ]
  },
  {
   "cell_type": "markdown",
   "metadata": {},
   "source": []
  },
  {
   "cell_type": "code",
   "execution_count": null,
   "metadata": {},
   "outputs": [],
   "source": []
  },
  {
   "cell_type": "markdown",
   "metadata": {},
   "source": [
    "Calculator\n",
    "Send Feedback\n",
    "Write a program that performs the tasks of a simple calculator. The program should first take an integer as input and then based on that integer perform the task as given below.\n",
    "1. If the input is 1, then 2 integers are taken from the user and their sum is printed.\n",
    "2. If the input is 2, then 2 integers are taken from the user and their difference(1st number - 2nd number) is printed.\n",
    "3. If the input is 3, then 2 integers are taken from the user and their product is printed.\n",
    "4. If the input is 4, then 2 integers are taken from the user and the quotient obtained (on dividing 1st number by 2nd number) is printed.\n",
    "5. If the input is 5, then 2 integers are taken from the user and their remainder(1st number mod 2nd number) is printed.\n",
    "6. If the input is 6, then the program exits.\n",
    "7. For any other input, then print \"Invalid Operation\".\n"
   ]
  },
  {
   "cell_type": "code",
   "execution_count": 1,
   "metadata": {},
   "outputs": [],
   "source": [
    "# Write your code here\n",
    "op = int(input()) #2\n",
    "while op!=6:\n",
    "    break\n",
    "    if op ==1:\n",
    "        a = int(input())\n",
    "        b = int(input())\n",
    "\n",
    "        sum = a+ b\n",
    "        print(sum)\n",
    "\n",
    "    elif op ==2:\n",
    "        a = int(input())\n",
    "        b = int(input())\n",
    "        print(a-b)\n",
    "\n",
    "    elif op ==3:\n",
    "        a = int(input())\n",
    "        b = int(input())\n",
    "        print(a*b)\n",
    "\n",
    "    elif op ==4:\n",
    "        a = int(input())\n",
    "        b = int(input())\n",
    "        print(a//b)\n",
    "\n",
    "    #elif op == 5:\n",
    "        a = int(input())\n",
    "        b = int(input())\n",
    "        print(a%b)\n",
    "\n",
    "  #  else: \n",
    "        print(\"Invalid Operation\")\n",
    "        break\n",
    "   # op = int(input())"
   ]
  },
  {
   "cell_type": "markdown",
   "metadata": {},
   "source": [
    "**Code : Square Pattern**\n",
    "\n",
    "Print the following pattern for the given N number of rows.\n",
    "\n",
    "Pattern for N = 4\n",
    "\n",
    "4444\n",
    "\n",
    "4444\n",
    "\n",
    "4444\n",
    "\n",
    "4444"
   ]
  },
  {
   "cell_type": "code",
   "execution_count": 3,
   "metadata": {},
   "outputs": [
    {
     "name": "stdout",
     "output_type": "stream",
     "text": [
      "7777777\n"
     ]
    }
   ],
   "source": [
    "n =7\n",
    "\n",
    "print(n*str(n))"
   ]
  },
  {
   "cell_type": "code",
   "execution_count": 4,
   "metadata": {},
   "outputs": [
    {
     "name": "stdout",
     "output_type": "stream",
     "text": [
      "4444\n",
      "4444\n",
      "4444\n",
      "4444\n"
     ]
    }
   ],
   "source": [
    "n = 4\n",
    "a = 1\n",
    "\n",
    "while a<=n:\n",
    "    print(n*str(n))\n",
    "    a = a+1\n"
   ]
  },
  {
   "cell_type": "code",
   "execution_count": 6,
   "metadata": {},
   "outputs": [
    {
     "name": "stdout",
     "output_type": "stream",
     "text": [
      "55555\n",
      "55555\n",
      "55555\n",
      "55555\n",
      "55555\n"
     ]
    }
   ],
   "source": [
    "## Read input as specified in the question\n",
    "## Print the required output in given format\n",
    "\n",
    "n =5\n",
    "a = 1\n",
    "\n",
    "while a<=n:\n",
    "    j=1\n",
    "    while j<=n:\n",
    "        print(n,end=\"\")\n",
    "        j+=1\n",
    "    print()\n",
    "    a = a+1\n"
   ]
  },
  {
   "cell_type": "code",
   "execution_count": 7,
   "metadata": {},
   "outputs": [
    {
     "name": "stdout",
     "output_type": "stream",
     "text": [
      "1111\n",
      "2222\n",
      "3333\n",
      "4444\n"
     ]
    }
   ],
   "source": [
    "## Read input as specified in the question\n",
    "## Print the required output in given format\n",
    "\n",
    "n =4\n",
    "a = 1\n",
    "\n",
    "while a<=n:\n",
    "    j=1\n",
    "    while j<=n:\n",
    "        print(a,end=\"\")\n",
    "        j+=1\n",
    "    print()\n",
    "    a = a+1\n"
   ]
  },
  {
   "cell_type": "markdown",
   "metadata": {},
   "source": [
    "Print tringle 1234"
   ]
  },
  {
   "cell_type": "code",
   "execution_count": 10,
   "metadata": {},
   "outputs": [
    {
     "name": "stdout",
     "output_type": "stream",
     "text": [
      "1\n",
      "12\n",
      "123\n",
      "1234\n"
     ]
    }
   ],
   "source": [
    "n=4\n",
    "i=1\n",
    "while i<=n:\n",
    "    j=1\n",
    "    while j<=i:\n",
    "        print(j,end=\"\")\n",
    "        j+=1\n",
    "    print()\n",
    "    i+=1"
   ]
  },
  {
   "cell_type": "code",
   "execution_count": 11,
   "metadata": {},
   "outputs": [
    {
     "name": "stdout",
     "output_type": "stream",
     "text": [
      "*\n",
      "**\n",
      "***\n",
      "****\n"
     ]
    }
   ],
   "source": [
    "n=4\n",
    "i=1\n",
    "while i<=n:\n",
    "    j=1\n",
    "    while j<=i:\n",
    "        print(\"*\",end=\"\")\n",
    "        j+=1\n",
    "    print()\n",
    "    i+=1"
   ]
  },
  {
   "cell_type": "code",
   "execution_count": 12,
   "metadata": {},
   "outputs": [
    {
     "name": "stdout",
     "output_type": "stream",
     "text": [
      "1\n",
      "22\n",
      "333\n",
      "4444\n"
     ]
    }
   ],
   "source": [
    "n=4\n",
    "i=1\n",
    "while i<=n:\n",
    "    j=1\n",
    "    while j<=i:\n",
    "        print(i,end=\"\")\n",
    "        j+=1\n",
    "    print()\n",
    "    i+=1"
   ]
  },
  {
   "cell_type": "code",
   "execution_count": 13,
   "metadata": {},
   "outputs": [
    {
     "name": "stdout",
     "output_type": "stream",
     "text": [
      "A\n",
      "BB\n",
      "CCC\n"
     ]
    }
   ],
   "source": [
    "n=3\n",
    "i=1\n",
    "p=\"A\"\n",
    "\n",
    "while i<=n:\n",
    "    j=1\n",
    "    while j<=i:\n",
    "        print(p,end=\"\")\n",
    "        j+=1\n",
    "    print()\n",
    "    p = chr(ord(p)+1)\n",
    "    i+=1"
   ]
  },
  {
   "cell_type": "code",
   "execution_count": 14,
   "metadata": {},
   "outputs": [
    {
     "name": "stdout",
     "output_type": "stream",
     "text": [
      "A\n",
      "BB\n",
      "CCC\n"
     ]
    }
   ],
   "source": [
    "n=3\n",
    "i=1\n",
    "p=\"A\"\n",
    "\n",
    "while i<=n:\n",
    "    j=1\n",
    "    while j<=i:\n",
    "        print(p,end=\"\")\n",
    "        j+=1\n",
    "    print()\n",
    "    p = chr(ord(p)+1)\n",
    "    i+=1"
   ]
  },
  {
   "cell_type": "code",
   "execution_count": 15,
   "metadata": {},
   "outputs": [
    {
     "name": "stdout",
     "output_type": "stream",
     "text": [
      "A\n",
      "BC\n",
      "CDE\n",
      "DEFG\n",
      "EFGHI\n"
     ]
    }
   ],
   "source": [
    "n=5\n",
    "i=1\n",
    "p=\"A\"\n",
    "while i<=n:\n",
    "    j=1\n",
    "    p = chr(ord('A')+i-1)\n",
    "    while j<=i:\n",
    "        print(p,end=\"\")\n",
    "        j+=1\n",
    "        p = chr(ord(p)+1)\n",
    "    print()\n",
    "    # p = chr(ord(p)+1)\n",
    "    i+=1"
   ]
  },
  {
   "cell_type": "code",
   "execution_count": 16,
   "metadata": {},
   "outputs": [
    {
     "name": "stdout",
     "output_type": "stream",
     "text": [
      "1\n",
      "21\n",
      "321\n",
      "4321\n",
      "54321\n"
     ]
    }
   ],
   "source": [
    "n=5\n",
    "i=1\n",
    "while i<=n:\n",
    "    j=1\n",
    "    p=i\n",
    "    while j<=i:\n",
    "        print(p,end=\"\")\n",
    "        j+=1\n",
    "        p-=1\n",
    "    print()\n",
    "    i+=1"
   ]
  },
  {
   "cell_type": "code",
   "execution_count": 17,
   "metadata": {},
   "outputs": [
    {
     "name": "stdout",
     "output_type": "stream",
     "text": [
      "aaaa\n",
      "bbbb\n",
      "cccc\n",
      "dddd\n"
     ]
    }
   ],
   "source": [
    "## Read input as specified in the question\n",
    "## Print the required output in given format\n",
    "\n",
    "n =4\n",
    "a = 1\n",
    "p='a'\n",
    "\n",
    "while a<=n:\n",
    "    j=1\n",
    "    while j<=n:\n",
    "        print(p,end=\"\")\n",
    "        j+=1\n",
    "    print()\n",
    "    p = chr(ord(p)+1)\n",
    "    a=a+1\n"
   ]
  },
  {
   "cell_type": "code",
   "execution_count": 18,
   "metadata": {},
   "outputs": [
    {
     "name": "stdout",
     "output_type": "stream",
     "text": [
      "abcd\n",
      "abcd\n",
      "abcd\n",
      "abcd\n"
     ]
    }
   ],
   "source": [
    "## Read input as specified in the question\n",
    "## Print the required output in given format\n",
    "\n",
    "n =4\n",
    "a = 1\n",
    "\n",
    "\n",
    "while a<=n:\n",
    "    p='a'\n",
    "    j=1\n",
    "    while j<=n:\n",
    "        print(p,end=\"\")\n",
    "        p = chr(ord(p)+1)\n",
    "        j+=1\n",
    "    print()\n",
    "    \n",
    "    a=a+1\n"
   ]
  },
  {
   "cell_type": "code",
   "execution_count": 19,
   "metadata": {},
   "outputs": [
    {
     "name": "stdout",
     "output_type": "stream",
     "text": [
      "bbbb\n",
      "bbbb\n",
      "bbbb\n",
      "bbbb\n"
     ]
    }
   ],
   "source": [
    "## Read input as specified in the question\n",
    "## Print the required output in given format\n",
    "\n",
    "n =4\n",
    "a = 1\n",
    "p='a'\n",
    "p = chr(ord(p)+1)\n",
    "\n",
    "while a<=n:\n",
    "    \n",
    "    j=1\n",
    "    \n",
    "    while j<=n:\n",
    "        print(p,end=\"\")\n",
    "       \n",
    "        j+=1\n",
    "    print()\n",
    "    \n",
    "    a=a+1\n"
   ]
  },
  {
   "cell_type": "code",
   "execution_count": 20,
   "metadata": {},
   "outputs": [
    {
     "name": "stdout",
     "output_type": "stream",
     "text": [
      "****\n",
      "***\n",
      "**\n",
      "*\n"
     ]
    }
   ],
   "source": [
    "n=4\n",
    "i=1\n",
    "while i<=n:\n",
    "    j=1\n",
    "    while j<=n-i+1:\n",
    "        print(\"*\",end=\"\")\n",
    "        j+=1\n",
    "    print()\n",
    "    i+=1"
   ]
  },
  {
   "cell_type": "code",
   "execution_count": 21,
   "metadata": {},
   "outputs": [
    {
     "name": "stdout",
     "output_type": "stream",
     "text": [
      "55555\n",
      "4444\n",
      "333\n",
      "22\n",
      "1\n"
     ]
    }
   ],
   "source": [
    "## Read input as specified in the question\n",
    "## Print the required output in given format\n",
    "n=5\n",
    "i=1\n",
    "while i<=n:\n",
    "    j=1\n",
    "    p = n-i+1\n",
    "    while j<=p:\n",
    "        print(p,end=\"\")\n",
    "        j+=1\n",
    "    print()\n",
    "    i+=1"
   ]
  },
  {
   "cell_type": "markdown",
   "metadata": {},
   "source": [
    "reversed pattern\n"
   ]
  },
  {
   "cell_type": "code",
   "execution_count": 22,
   "metadata": {},
   "outputs": [
    {
     "name": "stdout",
     "output_type": "stream",
     "text": [
      "    *\n",
      "\n",
      "   **\n",
      "\n",
      "  ***\n",
      "\n",
      " ****\n",
      "\n",
      "*****\n",
      "\n"
     ]
    }
   ],
   "source": [
    "n=5\n",
    "i=1\n",
    "while i<=n:\n",
    "    space=1\n",
    "    while space<=(n-i):\n",
    "        print(\" \",end=\"\")\n",
    "        space+=1\n",
    "\n",
    "    star=1\n",
    "    while star<=i:\n",
    "        print(\"*\",end=\"\")\n",
    "        star+=1\n",
    "    print() \n",
    "    print()\n",
    "\n",
    "    i+=1"
   ]
  },
  {
   "cell_type": "code",
   "execution_count": 23,
   "metadata": {},
   "outputs": [
    {
     "name": "stdout",
     "output_type": "stream",
     "text": [
      "    1\n",
      "   12\n",
      "  123\n",
      " 1234\n",
      "12345\n"
     ]
    }
   ],
   "source": [
    "n=5\n",
    "i=1\n",
    "while i<=n:\n",
    "    space=1\n",
    "    while space<=(n-i):\n",
    "        print(\" \",end=\"\")\n",
    "        space+=1\n",
    "\n",
    "    num=1\n",
    "    while num<=i:\n",
    "        print(num,end=\"\")\n",
    "        num+=1\n",
    "    print()\n",
    "\n",
    "    i+=1"
   ]
  },
  {
   "cell_type": "code",
   "execution_count": 24,
   "metadata": {},
   "outputs": [
    {
     "name": "stdout",
     "output_type": "stream",
     "text": [
      "    1\n",
      "   121\n",
      "  12321\n",
      " 1234321\n",
      "123454321\n"
     ]
    }
   ],
   "source": [
    "n=5\n",
    "i=1\n",
    "while i<=n:\n",
    "    space=1\n",
    "    while space<=n-i:\n",
    "        print(' ',end='')\n",
    "        space= space+1\n",
    "    p=1\n",
    "    j=1\n",
    "    while j<=i:\n",
    "        print(p,end='')\n",
    "        j=j+1\n",
    "        p=p+1\n",
    "    p=i-1\n",
    "    while p>=1:\n",
    "        print(p,end='')\n",
    "        p=p-1\n",
    "    print()\n",
    "    i+=1\n",
    "    \n",
    "    \n"
   ]
  },
  {
   "cell_type": "code",
   "execution_count": 25,
   "metadata": {},
   "outputs": [
    {
     "name": "stdout",
     "output_type": "stream",
     "text": [
      "    1\n",
      "   231\n",
      "  34521\n",
      " 4567321\n",
      "567894321\n"
     ]
    }
   ],
   "source": [
    "n=5\n",
    "i=1\n",
    "while i<=n:\n",
    "    space=1\n",
    "    while space<=n-i:\n",
    "        print(' ',end='')\n",
    "        space= space+1\n",
    "    p=i\n",
    "    j=1\n",
    "    while j<=i:\n",
    "        print(p,end='')\n",
    "        j=j+1\n",
    "        p=p+1\n",
    "    p=i-1\n",
    "    while p>=1:\n",
    "        print(p,end='')\n",
    "        p=p-1\n",
    "    print()\n",
    "    i+=1\n",
    "    \n",
    "    \n"
   ]
  },
  {
   "cell_type": "code",
   "execution_count": 26,
   "metadata": {},
   "outputs": [
    {
     "name": "stdout",
     "output_type": "stream",
     "text": [
      "    1\n",
      "   12*\n",
      "  123**\n",
      " 1234***\n",
      "12345****\n"
     ]
    }
   ],
   "source": [
    "n=5\n",
    "i=1\n",
    "while i<=n:\n",
    "    space=1\n",
    "    while space<=n-i:\n",
    "        print(' ',end='')\n",
    "        space= space+1\n",
    "    p=1\n",
    "    j=1\n",
    "    while j<=i:\n",
    "        print(p,end='')\n",
    "        j=j+1\n",
    "        p=p+1\n",
    "    p=i-1\n",
    "    while p>=1:\n",
    "        print(\"*\",end='')\n",
    "        p=p-1\n",
    "    print()\n",
    "    i+=1\n",
    "    \n",
    "    \n"
   ]
  },
  {
   "cell_type": "code",
   "execution_count": 27,
   "metadata": {},
   "outputs": [
    {
     "name": "stdout",
     "output_type": "stream",
     "text": [
      "    *\n",
      "   ***\n",
      "  *****\n",
      " *******\n",
      "*********\n"
     ]
    }
   ],
   "source": [
    "n=5\n",
    "i=1\n",
    "while i<=n:\n",
    "    space=1\n",
    "    while space<=n-i:\n",
    "        print(' ',end='')\n",
    "        space= space+1\n",
    "    p=1\n",
    "    j=1\n",
    "    while j<=i:\n",
    "        print(\"*\",end='')\n",
    "        j=j+1\n",
    "        p=p+1\n",
    "    p=i-1\n",
    "    while p>=1:\n",
    "        print(\"*\",end='')\n",
    "        p=p-1\n",
    "    print()\n",
    "    i+=1"
   ]
  },
  {
   "cell_type": "markdown",
   "metadata": {},
   "source": [
    "Code : Interesting Alphabets\n",
    "\n",
    "Print the following pattern for the given number of rows.\n",
    "Pattern for N = 5\n",
    "\n",
    "\n",
    "E\n",
    "\n",
    "DE\n",
    "\n",
    "CDE\n",
    "\n",
    "BCDE\n",
    "\n",
    "ABCDE"
   ]
  },
  {
   "cell_type": "code",
   "execution_count": 1,
   "metadata": {},
   "outputs": [
    {
     "name": "stdout",
     "output_type": "stream",
     "text": [
      "E\n",
      "DE\n",
      "CDE\n",
      "BCDE\n",
      "ABCDE\n"
     ]
    }
   ],
   "source": [
    "## Read input as specified in the question.\n",
    "## Print output as specified in the question.\n",
    "n=5\n",
    "i=1\n",
    "p=\"A\"\n",
    "while i<=n:\n",
    "    j=1\n",
    "    p = chr(ord('A')+n-i)\n",
    "    while j<=i:\n",
    "        print(p,end=\"\")\n",
    "        j+=1\n",
    "        p = chr(ord(p)+1)\n",
    "    print()\n",
    "    i+=1\n",
    "\n"
   ]
  },
  {
   "cell_type": "markdown",
   "metadata": {},
   "source": [
    "Code : Triangle of Numbers\n",
    "Send Feedback\n",
    "Print the following pattern for the given number of rows.\n",
    "Pattern for N = 4\n",
    "\n",
    "        1\n",
    "       232\n",
    "      34543\n",
    "     4567654\n",
    "    567898765\n",
    "\n",
    "The dots represent spaces.\n"
   ]
  },
  {
   "cell_type": "code",
   "execution_count": 1,
   "metadata": {},
   "outputs": [
    {
     "name": "stdout",
     "output_type": "stream",
     "text": [
      "    1\n",
      "   232\n",
      "  34543\n",
      " 4567654\n",
      "567898765\n"
     ]
    }
   ],
   "source": [
    "n=5\n",
    "i=1\n",
    "while i<=n:\n",
    "    space=1\n",
    "    while space<=n-i:\n",
    "        print(' ',end='')\n",
    "        space= space+1\n",
    "    p=i\n",
    "    j=1\n",
    "    while j<=i:\n",
    "        print(p,end='')\n",
    "        j=j+1\n",
    "        p=p+1\n",
    "    p=p-2\n",
    "    j=1\n",
    "    while j<i:\n",
    "        print(p,end='')\n",
    "        j=j+1\n",
    "        p=p-1\n",
    "    print()\n",
    "    i+=1"
   ]
  },
  {
   "cell_type": "markdown",
   "metadata": {},
   "source": [
    "Code : Diamond of stars\n",
    "Send Feedback\n",
    "Print the following pattern for the given number of rows.\n",
    "Note: N is always odd.\n",
    " "
   ]
  },
  {
   "cell_type": "code",
   "execution_count": 36,
   "metadata": {},
   "outputs": [
    {
     "name": "stdout",
     "output_type": "stream",
     "text": [
      " *******\n",
      "  *****\n",
      "   ***\n",
      "    *\n",
      "     \n"
     ]
    }
   ],
   "source": [
    "n=5\n",
    "i=1\n",
    "while i<=n:\n",
    "    space=1\n",
    "    while space<=i:\n",
    "        print(' ',end='')\n",
    "        space= space+1\n",
    "    p=1\n",
    "    j=1\n",
    "    while j<=n-i:\n",
    "        print(\"*\",end='')\n",
    "        j=j+1\n",
    "        p=p+1\n",
    "    p=n-i-1\n",
    "    while p>=1:\n",
    "        print(\"*\",end='')\n",
    "        p=p-1\n",
    "    print()\n",
    "    i+=1"
   ]
  },
  {
   "cell_type": "code",
   "execution_count": 44,
   "metadata": {},
   "outputs": [
    {
     "name": "stdout",
     "output_type": "stream",
     "text": [
      "  *\n",
      " ***\n",
      "*****\n",
      " ***\n",
      "  *\n",
      "   \n"
     ]
    }
   ],
   "source": [
    "n=5-5//2\n",
    "i=1\n",
    "while i<=n:\n",
    "    space=1\n",
    "    while space<=n-i:\n",
    "        print(' ',end='')\n",
    "        space= space+1\n",
    "    p=1\n",
    "    j=1\n",
    "    while j<=i:\n",
    "        print(\"*\",end='')\n",
    "        j=j+1\n",
    "        p=p+1\n",
    "    p=i-1\n",
    "    while p>=1:\n",
    "        print(\"*\",end='')\n",
    "        p=p-1\n",
    "    print()\n",
    "    i+=1\n",
    "\n",
    "\n",
    "i=1\n",
    "while i<=n:\n",
    "    space=1\n",
    "    while space<=i:\n",
    "        print(' ',end='')\n",
    "        space= space+1\n",
    "    p=1\n",
    "    j=1\n",
    "    while j<=n-i:\n",
    "        print(\"*\",end='')\n",
    "        j=j+1\n",
    "        p=p+1\n",
    "    p=n-i-1\n",
    "    while p>=1:\n",
    "        print(\"*\",end='')\n",
    "        p=p-1\n",
    "    print()\n",
    "    i+=1"
   ]
  },
  {
   "cell_type": "markdown",
   "metadata": {},
   "source": [
    "**Nth Fibonacci Number**\n",
    "\n",
    "Nth term of Fibonacci series F(n), where F(n) is a function, is calculated using the following formula -\n",
    "\n",
    "F(n) = F(n-1) + F(n-2), \n",
    "\n",
    "Where, F(1) = F(2) = 1"
   ]
  },
  {
   "cell_type": "code",
   "execution_count": 1,
   "metadata": {},
   "outputs": [
    {
     "name": "stdout",
     "output_type": "stream",
     "text": [
      "8\n"
     ]
    }
   ],
   "source": [
    "Number = 6\n",
    "\n",
    "i = 0\n",
    "First_Value = 1\n",
    "Second_Value = 1\n",
    "           \n",
    "# Find & Displaying\n",
    "if Number ==1:\n",
    "    print(1)\n",
    "else:\n",
    "    while(i <Number):\n",
    "        if(i <= 1):\n",
    "            Next = i\n",
    "        else:\n",
    "            Next = First_Value + Second_Value\n",
    "            First_Value = Second_Value\n",
    "            Second_Value = Next\n",
    "            # print(Next)\n",
    "        i = i + 1\n",
    "    print(Next)"
   ]
  },
  {
   "cell_type": "code",
   "execution_count": 18,
   "metadata": {},
   "outputs": [
    {
     "name": "stdout",
     "output_type": "stream",
     "text": [
      "1\n",
      "1\n",
      "2\n",
      "3\n",
      "5\n",
      "8\n",
      "13\n",
      "21\n",
      "34\n",
      "55\n"
     ]
    }
   ],
   "source": [
    "# printing top 10 fibonacci numbers from the sequence\n",
    "\n",
    "n = 10\n",
    "\n",
    "a = 0\n",
    "b = 1\n",
    "\n",
    "c=-1\n",
    "sum_even = 0\n",
    "for i in range(n):\n",
    "    c = a+b\n",
    "    a = b\n",
    "    b= c\n",
    "\n",
    "    print(a)\n",
    "    if a%2 ==0:\n",
    "        sum_even = sum_even+a\n",
    "\n",
    "    \n",
    "# print(sum_even)"
   ]
  },
  {
   "cell_type": "code",
   "execution_count": 22,
   "metadata": {},
   "outputs": [
    {
     "name": "stdout",
     "output_type": "stream",
     "text": [
      "1\n",
      "1\n",
      "2\n",
      "3\n",
      "5\n",
      "8\n",
      "13\n",
      "21\n",
      "34\n",
      "55\n",
      "89\n",
      "44\n"
     ]
    }
   ],
   "source": [
    "# print fibonacci number which values are less than or equal to given n\n",
    "\n",
    "n = 100\n",
    "\n",
    "a = 0\n",
    "b = 1\n",
    "\n",
    "c=-1\n",
    "sum_even = 0\n",
    "for i in range(n):\n",
    "    c = a+b\n",
    "    a = b\n",
    "    b= c\n",
    "\n",
    "    if a >n:\n",
    "        break\n",
    "\n",
    "    print(a)\n",
    "    if a%2 ==0:\n",
    "        sum_even = sum_even+a\n",
    "\n",
    "    \n",
    "print(sum_even)"
   ]
  },
  {
   "cell_type": "code",
   "execution_count": null,
   "metadata": {},
   "outputs": [],
   "source": []
  },
  {
   "cell_type": "code",
   "execution_count": 9,
   "metadata": {},
   "outputs": [
    {
     "name": "stdout",
     "output_type": "stream",
     "text": [
      "6\n",
      "4\n",
      "2\n"
     ]
    }
   ],
   "source": [
    "for c in range(6,1,-2):\n",
    "    print(c)\n"
   ]
  },
  {
   "cell_type": "code",
   "execution_count": 2,
   "metadata": {},
   "outputs": [
    {
     "name": "stdout",
     "output_type": "stream",
     "text": [
      "3\n",
      "6\n",
      "9\n",
      "12\n",
      "15\n",
      "18\n",
      "21\n",
      "24\n",
      "27\n",
      "30\n"
     ]
    }
   ],
   "source": [
    "a=int(input())\n",
    "b=int(input())\n",
    "if a%3==0:\n",
    "    s=a\n",
    "elif a%3==1:\n",
    "    s=a+2\n",
    "else:\n",
    "    s=a+1\n",
    "for i in range (s,b+1,3):\n",
    "    print(i)\n"
   ]
  },
  {
   "cell_type": "code",
   "execution_count": 1,
   "metadata": {},
   "outputs": [
    {
     "name": "stdout",
     "output_type": "stream",
     "text": [
      "   1\n",
      "  232\n",
      " 34543\n",
      "4567654\n"
     ]
    }
   ],
   "source": [
    "n = int(input(\"Enter the number\"))\n",
    "for i in range(1, n + 1, 1):\n",
    "    for s in range(n - i):\n",
    "        print(\" \", end=\"\")\n",
    "    for j in range(i, 2 * i, 1):\n",
    "        print(j, end=\"\")\n",
    "    for k in range(2*i - 2, i - 1, -1):\n",
    "        print(k, end=\"\")\n",
    "    print()"
   ]
  },
  {
   "cell_type": "code",
   "execution_count": null,
   "metadata": {},
   "outputs": [],
   "source": []
  },
  {
   "cell_type": "markdown",
   "metadata": {},
   "source": [
    "Sum or product\n",
    "Send Feedback\n",
    "Write a program that asks the user for a number N and a choice C. And then give them the possibility to choose between computing the sum and computing the product of all integers in the range 1 to N (both inclusive).\n",
    "If C is equal to -\n",
    " 1, then print the sum\n",
    " 2, then print the product\n",
    " Any other number, then print '-1' (without the quotes)"
   ]
  },
  {
   "cell_type": "code",
   "execution_count": 8,
   "metadata": {},
   "outputs": [
    {
     "name": "stdout",
     "output_type": "stream",
     "text": [
      "55\n"
     ]
    }
   ],
   "source": [
    "# print sum of 1 to n\n",
    "n = 10\n",
    "sum=0\n",
    "for i in range(1,n+1):\n",
    "    sum=sum+i\n",
    "print(sum)"
   ]
  },
  {
   "cell_type": "code",
   "execution_count": 7,
   "metadata": {},
   "outputs": [
    {
     "name": "stdout",
     "output_type": "stream",
     "text": [
      "3628800\n"
     ]
    }
   ],
   "source": [
    "# print product of 1 to n\n",
    "\n",
    "n = 10\n",
    "product=1\n",
    "for i in range(1,n+1):\n",
    "    product= product*i\n",
    "print(product)\n"
   ]
  },
  {
   "cell_type": "code",
   "execution_count": 20,
   "metadata": {},
   "outputs": [
    {
     "name": "stdout",
     "output_type": "stream",
     "text": [
      "55\n"
     ]
    }
   ],
   "source": [
    "n=int(input())\n",
    "c=int(input())\n",
    "\n",
    "if c==1:\n",
    "    sum=0\n",
    "    for i in range(1,n+1):\n",
    "       \n",
    "        sum=sum+i\n",
    "    print(sum)\n",
    "\n",
    "elif c==2:\n",
    "    product=1\n",
    "    for i in range(1,n+1):\n",
    "        product=product*i\n",
    "    print(product)\n",
    "else:\n",
    "    print(-1)"
   ]
  },
  {
   "cell_type": "markdown",
   "metadata": {},
   "source": [
    "Given a number N, find its square root. \n",
    "You need to find and print only the integral part of square root of N.\n",
    "For eg. if number given is 18, answer is 4."
   ]
  },
  {
   "cell_type": "code",
   "execution_count": null,
   "metadata": {},
   "outputs": [],
   "source": [
    "n=int(input())\n"
   ]
  },
  {
   "cell_type": "markdown",
   "metadata": {},
   "source": [
    "Terms of AP\n",
    "\n",
    "Write a program to print first x terms of the series 3N + 2 which are not multiples of 4."
   ]
  },
  {
   "cell_type": "code",
   "execution_count": 22,
   "metadata": {},
   "outputs": [
    {
     "name": "stdout",
     "output_type": "stream",
     "text": [
      "5 11 14 17 "
     ]
    }
   ],
   "source": [
    "n=4\n",
    "count=0\n",
    "for i in range(1,n+10,1):\n",
    "    \n",
    "    # print(count)\n",
    "    x=3*i+2\n",
    "    if(x)%4==0:\n",
    "        pass\n",
    "    else:\n",
    "        print(x,end=\" \")\n",
    "        count+=1\n",
    "        # print(\"count\", count)\n",
    "\n",
    "    if count==n:\n",
    "        break"
   ]
  },
  {
   "cell_type": "markdown",
   "metadata": {},
   "source": [
    "#### Fibonacci Member\n",
    "\n",
    "Given a number N, figure out if it is a member of fibonacci series or not. Return true if the number is member of fibonacci series else false.\n",
    "Fibonacci Series is defined by the recurrence"
   ]
  },
  {
   "cell_type": "code",
   "execution_count": 7,
   "metadata": {},
   "outputs": [
    {
     "name": "stdout",
     "output_type": "stream",
     "text": [
      "1\n",
      "1\n",
      "2\n",
      "3\n",
      "5\n",
      "8\n",
      "13\n",
      "10\n"
     ]
    }
   ],
   "source": [
    "# print fibonacci number which values are less than or equal to given n\n",
    "\n",
    "n = 20\n",
    "\n",
    "a = 0\n",
    "b = 1\n",
    "\n",
    "c=-1\n",
    "sum_even = 0\n",
    "for i in range(n):\n",
    "    c = a+b\n",
    "    a = b\n",
    "    b= c\n",
    "\n",
    "    if a >n:\n",
    "        break\n",
    "\n",
    "    print(a)\n",
    "    if a%2 ==0:\n",
    "        sum_even = sum_even+a\n",
    "\n",
    "    \n",
    "print(sum_even)"
   ]
  },
  {
   "cell_type": "markdown",
   "metadata": {},
   "source": [
    "#### Reverse Each Word\n",
    "\n",
    "Aadil has been provided with a sentence in the form of a string as a function parameter. The task is to implement a function so as to print the sentence such that each word in the sentence is reversed. "
   ]
  },
  {
   "cell_type": "code",
   "execution_count": 8,
   "metadata": {},
   "outputs": [],
   "source": [
    "string = 'Welcome to Coding Ninjas'\n"
   ]
  },
  {
   "cell_type": "code",
   "execution_count": 14,
   "metadata": {},
   "outputs": [
    {
     "data": {
      "text/plain": [
       "['Welcome', 'to', 'Coding', 'Ninjas']"
      ]
     },
     "execution_count": 14,
     "metadata": {},
     "output_type": "execute_result"
    }
   ],
   "source": [
    "# how to convert above sentence to words\n",
    "\n",
    "# list(string)\n",
    "words = string.split()\n",
    "words"
   ]
  },
  {
   "cell_type": "code",
   "execution_count": 18,
   "metadata": {},
   "outputs": [
    {
     "data": {
      "text/plain": [
       "4"
      ]
     },
     "execution_count": 18,
     "metadata": {},
     "output_type": "execute_result"
    }
   ],
   "source": [
    "len(words)"
   ]
  },
  {
   "cell_type": "code",
   "execution_count": 16,
   "metadata": {},
   "outputs": [
    {
     "data": {
      "text/plain": [
       "'Welcome'"
      ]
     },
     "execution_count": 16,
     "metadata": {},
     "output_type": "execute_result"
    }
   ],
   "source": [
    "w = words[0]\n",
    "w"
   ]
  },
  {
   "cell_type": "code",
   "execution_count": 17,
   "metadata": {},
   "outputs": [
    {
     "data": {
      "text/plain": [
       "'emocleW'"
      ]
     },
     "execution_count": 17,
     "metadata": {},
     "output_type": "execute_result"
    }
   ],
   "source": [
    "w[::-1]"
   ]
  },
  {
   "cell_type": "code",
   "execution_count": 33,
   "metadata": {},
   "outputs": [
    {
     "data": {
      "text/plain": [
       "'emocleW ot gnidoC sajniN'"
      ]
     },
     "execution_count": 33,
     "metadata": {},
     "output_type": "execute_result"
    }
   ],
   "source": [
    "for i in range(len(words)):\n",
    "    w = words[i]\n",
    "    rev_w= w[::-1]\n",
    "\n",
    "    words[i]= rev_w\n",
    "\n",
    "\" \".join(words)    "
   ]
  },
  {
   "cell_type": "code",
   "execution_count": null,
   "metadata": {},
   "outputs": [],
   "source": [
    "from sys import stdin\n",
    "\n",
    "\n",
    "def reverseEachWord(string) :\n",
    "\t# Your code goes here\n",
    "    words = string.split(' ')\n",
    "    \n",
    "    for i in range(len(words)):\n",
    "        w = words[i]\n",
    "        rev_w= w[::-1]\n",
    "\n",
    "        words[i]= rev_w\n",
    "\n",
    "    return \" \".join(words)"
   ]
  },
  {
   "cell_type": "code",
   "execution_count": 27,
   "metadata": {},
   "outputs": [
    {
     "name": "stdout",
     "output_type": "stream",
     "text": [
      "g-e-e-k-s\n"
     ]
    }
   ],
   "source": [
    "# Joining with empty separator\n",
    "list1 = ['g','e','e','k', 's']\n",
    "print(\"-\".join(list1))"
   ]
  },
  {
   "cell_type": "code",
   "execution_count": 30,
   "metadata": {},
   "outputs": [
    {
     "data": {
      "text/plain": [
       "['Welcome', 'to', 'Coding', 'Ninjas']"
      ]
     },
     "execution_count": 30,
     "metadata": {},
     "output_type": "execute_result"
    }
   ],
   "source": [
    "words"
   ]
  },
  {
   "cell_type": "code",
   "execution_count": 29,
   "metadata": {},
   "outputs": [
    {
     "name": "stdout",
     "output_type": "stream",
     "text": [
      "emocleW ot gnidoC sajniN\n"
     ]
    }
   ],
   "source": [
    "# Joining with empty separator\n",
    "list1 = ['emocleW', 'ot' ,'gnidoC', 'sajniN' ]\n",
    "print(\" \".join(list1))"
   ]
  },
  {
   "cell_type": "code",
   "execution_count": null,
   "metadata": {},
   "outputs": [],
   "source": [
    "def arrayEquilibriumIndex(arr, n) :\n",
    "    #Your code goes here\n",
    "    total_sum = sum(arr) \n",
    "    leftsum = 0\n",
    "    for i, num in enumerate(arr): \n",
    "          \n",
    "        # total_sum is now right sum \n",
    "        # for index i \n",
    "        total_sum -= num \n",
    "          \n",
    "        if leftsum == total_sum: \n",
    "            return i \n",
    "        leftsum += num \n",
    "       \n",
    "      # If no equilibrium index found,  \n",
    "      # then return -1 \n",
    "    return -1"
   ]
  },
  {
   "cell_type": "code",
   "execution_count": 2,
   "metadata": {},
   "outputs": [
    {
     "data": {
      "text/plain": [
       "'this is a str'"
      ]
     },
     "execution_count": 2,
     "metadata": {},
     "output_type": "execute_result"
    }
   ],
   "source": [
    "a=\"this is a str\"\n",
    "a[::1]"
   ]
  },
  {
   "cell_type": "code",
   "execution_count": 5,
   "metadata": {},
   "outputs": [
    {
     "name": "stdout",
     "output_type": "stream",
     "text": [
      "[0, 0, 0, 0, 0, 0, 0, 0, 0, 0]\n"
     ]
    }
   ],
   "source": [
    "b=[0 for i in range(10)]\n",
    "print(b)"
   ]
  },
  {
   "cell_type": "code",
   "execution_count": null,
   "metadata": {},
   "outputs": [],
   "source": []
  }
 ],
 "metadata": {
  "kernelspec": {
   "display_name": "Python 3.8.5 ('vaishali')",
   "language": "python",
   "name": "python3"
  },
  "language_info": {
   "codemirror_mode": {
    "name": "ipython",
    "version": 3
   },
   "file_extension": ".py",
   "mimetype": "text/x-python",
   "name": "python",
   "nbconvert_exporter": "python",
   "pygments_lexer": "ipython3",
   "version": "3.8.5"
  },
  "orig_nbformat": 4,
  "vscode": {
   "interpreter": {
    "hash": "c626c7f027fd81c21c9d33e27e9da6944415f92c80192dd5d04cdc4b243efcd0"
   }
  }
 },
 "nbformat": 4,
 "nbformat_minor": 2
}
