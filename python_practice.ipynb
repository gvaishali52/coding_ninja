{
 "cells": [
  {
   "cell_type": "code",
   "execution_count": 1,
   "metadata": {},
   "outputs": [
    {
     "name": "stdout",
     "output_type": "stream",
     "text": [
      "not 7\n"
     ]
    }
   ],
   "source": [
    "a=5\n",
    "if a!=7:\n",
    "    print(\"not 7\")\n",
    "else:\n",
    "    print(\"7\")"
   ]
  },
  {
   "cell_type": "code",
   "execution_count": 10,
   "metadata": {},
   "outputs": [
    {
     "name": "stdout",
     "output_type": "stream",
     "text": [
      "a is largest\n"
     ]
    }
   ],
   "source": [
    "a=10\n",
    "b=10\n",
    "c=5\n",
    "\n",
    "if a>=b and a>=c :\n",
    "    print(\"a is largest\")\n",
    "\n",
    "elif b>=a and b>= c:\n",
    "    print(\"b is largest\")\n",
    "\n",
    "else :\n",
    "    print(\"c is largest\")"
   ]
  },
  {
   "cell_type": "code",
   "execution_count": 6,
   "metadata": {},
   "outputs": [
    {
     "name": "stdout",
     "output_type": "stream",
     "text": [
      "a>20\n"
     ]
    }
   ],
   "source": [
    "a=25\n",
    "b=23\n",
    "\n",
    "if a>20:\n",
    "    print(\"a>20\")\n",
    "elif a>b:\n",
    "    print(\"a>b\")\n",
    "else :\n",
    "    print(\"b>a\")"
   ]
  },
  {
   "cell_type": "code",
   "execution_count": 7,
   "metadata": {},
   "outputs": [
    {
     "name": "stdout",
     "output_type": "stream",
     "text": [
      "a>20\n",
      "a>b\n"
     ]
    }
   ],
   "source": [
    "a=25\n",
    "b=23\n",
    "\n",
    "if a>20:\n",
    "    print(\"a>20\")\n",
    "if a>b:\n",
    "    print(\"a>b\")\n",
    "else :\n",
    "    print(\"b>a\")"
   ]
  },
  {
   "cell_type": "code",
   "execution_count": 11,
   "metadata": {},
   "outputs": [
    {
     "name": "stdout",
     "output_type": "stream",
     "text": [
      "B\n"
     ]
    }
   ],
   "source": [
    "if True or True:\n",
    "    if False and True or False:\n",
    "        print('A')\n",
    "    elif False and False or True and True:\n",
    "       print('B')\n",
    "    else:\n",
    "      print('C')\n",
    "else:\n",
    "     print('D')"
   ]
  },
  {
   "cell_type": "code",
   "execution_count": 2,
   "metadata": {},
   "outputs": [
    {
     "name": "stdout",
     "output_type": "stream",
     "text": [
      "1\n",
      "2\n",
      "3\n",
      "4\n",
      "5\n",
      "6\n",
      "7\n",
      "8\n",
      "9\n",
      "10\n"
     ]
    }
   ],
   "source": [
    "i=1\n",
    "while i<=10:\n",
    "    print(i)\n",
    "    i+=1"
   ]
  },
  {
   "cell_type": "code",
   "execution_count": 4,
   "metadata": {},
   "outputs": [
    {
     "name": "stdout",
     "output_type": "stream",
     "text": [
      "1\n",
      "4\n",
      "9\n",
      "16\n",
      "25\n",
      "36\n",
      "49\n",
      "64\n",
      "81\n",
      "100\n"
     ]
    }
   ],
   "source": [
    "i=1\n",
    "while i<=10:\n",
    "\n",
    "    print(i*i)\n",
    "    i+=1"
   ]
  },
  {
   "cell_type": "code",
   "execution_count": 7,
   "metadata": {},
   "outputs": [
    {
     "name": "stdout",
     "output_type": "stream",
     "text": [
      "1\n",
      "4\n",
      "9\n",
      "16\n",
      "25\n",
      "36\n",
      "49\n",
      "64\n",
      "81\n",
      "100\n"
     ]
    }
   ],
   "source": [
    "i=1\n",
    "while i<=10:\n",
    "    a=i*i\n",
    "    print(a)\n",
    "    i+=1"
   ]
  },
  {
   "cell_type": "code",
   "execution_count": 8,
   "metadata": {},
   "outputs": [
    {
     "name": "stdout",
     "output_type": "stream",
     "text": [
      "1\n",
      "1024\n",
      "59049\n",
      "1048576\n",
      "9765625\n",
      "60466176\n",
      "282475249\n",
      "1073741824\n",
      "3486784401\n",
      "10000000000\n"
     ]
    }
   ],
   "source": [
    "i=1\n",
    "while i<=10:\n",
    "\n",
    "    print(i**10)\n",
    "    i+=1"
   ]
  },
  {
   "cell_type": "code",
   "execution_count": 10,
   "metadata": {},
   "outputs": [
    {
     "name": "stdout",
     "output_type": "stream",
     "text": [
      "101\n",
      "5050\n"
     ]
    }
   ],
   "source": [
    "n = 100\n",
    "i=1\n",
    "sum=0\n",
    "while i<=n:\n",
    "    sum=sum+i\n",
    "    i+=1\n",
    "\n",
    "print(i)   \n",
    "print(sum)"
   ]
  },
  {
   "cell_type": "markdown",
   "metadata": {},
   "source": [
    "Given an integer n, find and print the sum of numbers from 1 to n.\n",
    "Note : Use while loop only."
   ]
  },
  {
   "cell_type": "code",
   "execution_count": 11,
   "metadata": {},
   "outputs": [
    {
     "name": "stdout",
     "output_type": "stream",
     "text": [
      "190\n"
     ]
    }
   ],
   "source": [
    "# Print output as specified in the question\n",
    "n=int(input())\n",
    "i=1\n",
    "sum=0\n",
    "while i<=n:\n",
    "    sum=sum+i\n",
    "    i+=1\n",
    "\n",
    "# print(i)   \n",
    "print(sum)"
   ]
  },
  {
   "cell_type": "markdown",
   "metadata": {},
   "source": [
    "Given a number N, print sum of all even numbers from 1 to N."
   ]
  },
  {
   "cell_type": "code",
   "execution_count": 12,
   "metadata": {},
   "outputs": [
    {
     "name": "stdout",
     "output_type": "stream",
     "text": [
      "42\n"
     ]
    }
   ],
   "source": [
    "n=int(input())\n",
    "i=1\n",
    "sum=0\n",
    "while i<=n:\n",
    "    if i%2==0:\n",
    "        sum=sum+i\n",
    "    i+=1\n",
    "\n",
    "# print(i)   \n",
    "print(sum)"
   ]
  },
  {
   "cell_type": "markdown",
   "metadata": {},
   "source": [
    "print 0 20 40 .. 100 using while loop.\n",
    "take n = 100 "
   ]
  },
  {
   "cell_type": "code",
   "execution_count": 1,
   "metadata": {},
   "outputs": [
    {
     "name": "stdout",
     "output_type": "stream",
     "text": [
      "0\n",
      "20\n",
      "40\n",
      "60\n",
      "80\n",
      "100\n"
     ]
    }
   ],
   "source": [
    "n = 100\n",
    "a= 0 \n",
    "while a<=n:\n",
    "    print(a)\n",
    "    \n",
    "    a+=20\n"
   ]
  },
  {
   "cell_type": "markdown",
   "metadata": {},
   "source": [
    "Given three values - Start Fahrenheit Value (S), End Fahrenheit value (E) and Step Size (W), you need to convert all Fahrenheit values from Start to End at the gap of W, into their corresponding Celsius values and print the table."
   ]
  },
  {
   "cell_type": "code",
   "execution_count": 9,
   "metadata": {},
   "outputs": [
    {
     "name": "stdout",
     "output_type": "stream",
     "text": [
      "0 -17\n",
      "20 -6\n",
      "40 4\n",
      "60 15\n",
      "80 26\n",
      "100 37\n"
     ]
    }
   ],
   "source": [
    "n = 100\n",
    "f= 0 \n",
    "while f<=n:\n",
    "\n",
    "    c=int(5*(f-32)/9)\n",
    "    print(f,c)\n",
    "    f+=20\n"
   ]
  },
  {
   "cell_type": "code",
   "execution_count": 5,
   "metadata": {},
   "outputs": [
    {
     "data": {
      "text/plain": [
       "1"
      ]
     },
     "execution_count": 5,
     "metadata": {},
     "output_type": "execute_result"
    }
   ],
   "source": [
    "3//2"
   ]
  },
  {
   "cell_type": "code",
   "execution_count": 6,
   "metadata": {},
   "outputs": [
    {
     "data": {
      "text/plain": [
       "2"
      ]
     },
     "execution_count": 6,
     "metadata": {},
     "output_type": "execute_result"
    }
   ],
   "source": [
    "5//2"
   ]
  },
  {
   "cell_type": "code",
   "execution_count": 7,
   "metadata": {},
   "outputs": [
    {
     "data": {
      "text/plain": [
       "-3"
      ]
     },
     "execution_count": 7,
     "metadata": {},
     "output_type": "execute_result"
    }
   ],
   "source": [
    "-5//2"
   ]
  },
  {
   "cell_type": "code",
   "execution_count": 10,
   "metadata": {},
   "outputs": [
    {
     "data": {
      "text/plain": [
       "18"
      ]
     },
     "execution_count": 10,
     "metadata": {},
     "output_type": "execute_result"
    }
   ],
   "source": [
    "round(17.77777)"
   ]
  },
  {
   "cell_type": "code",
   "execution_count": 12,
   "metadata": {},
   "outputs": [
    {
     "name": "stdout",
     "output_type": "stream",
     "text": [
      "2 -16\n",
      "3 -16\n"
     ]
    }
   ],
   "source": [
    "start = int(input())\n",
    "end = int(input())\n",
    "step = int(input())\n",
    "f= start\n",
    "while f<=end:\n",
    "\n",
    "    c=int(5*(f-32)/9)\n",
    "    print(f,c)\n",
    "    f+=step\n"
   ]
  },
  {
   "cell_type": "markdown",
   "metadata": {},
   "source": [
    "**Reverse of a number**\n",
    "\n",
    "Write a program to generate the reverse of a given number N. Print the corresponding reverse number.\n",
    "Note : If a number has trailing zeros, then its reverse will not include them. For e.g., reverse of 10400 will be 401 instead of 00401.\n"
   ]
  },
  {
   "cell_type": "code",
   "execution_count": 18,
   "metadata": {},
   "outputs": [
    {
     "name": "stdout",
     "output_type": "stream",
     "text": [
      "last digit 4\n",
      "except last digit 123\n",
      "last two digit 34\n",
      "except last two digit 12\n"
     ]
    }
   ],
   "source": [
    "print(\"last digit\", 1234%10) # \"to access last digit\"\n",
    "\n",
    "print(\"except last digit\", 1234//10)\n",
    "\n",
    "print(\"last two digit\", 1234%100)\n",
    "\n",
    "print(\"except last two digit\", 1234//100)\n",
    " \n"
   ]
  },
  {
   "cell_type": "code",
   "execution_count": 22,
   "metadata": {},
   "outputs": [
    {
     "name": "stdout",
     "output_type": "stream",
     "text": [
      "4321"
     ]
    }
   ],
   "source": [
    "n=1234\n",
    "# reverse = 0\n",
    "\n",
    "while n!=0:\n",
    "    last_digit=n%10\n",
    "    print(last_digit, end = \"\")\n",
    "    n=n//10\n"
   ]
  },
  {
   "cell_type": "code",
   "execution_count": 25,
   "metadata": {},
   "outputs": [
    {
     "name": "stdout",
     "output_type": "stream",
     "text": [
      "21"
     ]
    }
   ],
   "source": [
    "n=1200\n",
    "# reverse = 0\n",
    "\n",
    "while n!=0:\n",
    "    last_digit=n%10\n",
    "    if last_digit !=0 :\n",
    "        print(last_digit, end = \"\")\n",
    "    n=n//10\n"
   ]
  },
  {
   "cell_type": "code",
   "execution_count": 28,
   "metadata": {},
   "outputs": [
    {
     "name": "stdout",
     "output_type": "stream",
     "text": [
      "2001"
     ]
    }
   ],
   "source": [
    "n=10020\n",
    "# reverse = 0\n",
    "\n",
    "while n!=0:\n",
    "    last_digit=n%10\n",
    "    if last_digit !=0 :\n",
    "        print(last_digit, end = \"\")\n",
    "        n=n//10\n",
    "        break\n",
    "    n=n//10\n",
    "while n!=0:\n",
    "    last_digit=n%10\n",
    "    print(last_digit, end = \"\")\n",
    "    n=n//10"
   ]
  },
  {
   "cell_type": "code",
   "execution_count": 30,
   "metadata": {},
   "outputs": [
    {
     "name": "stdout",
     "output_type": "stream",
     "text": [
      "Reversed Number: 430021\n"
     ]
    }
   ],
   "source": [
    "num = 12003400\n",
    "reversed_num = 0\n",
    "\n",
    "while num != 0:\n",
    "    digit = num % 10\n",
    "    reversed_num = reversed_num * 10 + digit\n",
    "    num //= 10\n",
    "\n",
    "print(\"Reversed Number: \" + str(reversed_num))"
   ]
  },
  {
   "cell_type": "markdown",
   "metadata": {},
   "source": [
    "**Palindrome**\n",
    "\n",
    "Write a program to determine if given number is palindrome or not. Print true if it is palindrome, false otherwise.\n",
    "Palindrome are the numbers for which reverse is exactly same as the original one. For eg. 121"
   ]
  },
  {
   "cell_type": "code",
   "execution_count": 13,
   "metadata": {},
   "outputs": [
    {
     "name": "stdout",
     "output_type": "stream",
     "text": [
      "true\n"
     ]
    }
   ],
   "source": [
    "def checkPalindrome(num):\n",
    "#Implement Your Code Here\n",
    "    original_num = num\n",
    "    reversed_num = 0\n",
    "\n",
    "    while num != 0:\n",
    "        digit = num % 10\n",
    "        reversed_num = reversed_num * 10 + digit\n",
    "        num //= 10\n",
    "    if original_num == reversed_num:\n",
    "        return True\n",
    "    else:\n",
    "        return False\n",
    "\n",
    "\n",
    "num = 12233221\n",
    "isPalindrome = checkPalindrome(num)\n",
    "if(isPalindrome):\n",
    "\tprint('true')\n",
    "else:\n",
    "\tprint('false')\n"
   ]
  },
  {
   "cell_type": "markdown",
   "metadata": {},
   "source": [
    "**Sum of even & odd**\n",
    "\n",
    "Write a program to input an integer N and print the sum of all its even digits and sum of all its odd digits separately.\n",
    "Digits mean numbers, not the places! That is, if the given integer is \"13245\", even digits are 2 & 4 and odd digits are 1, 3 & 5."
   ]
  },
  {
   "cell_type": "code",
   "execution_count": 14,
   "metadata": {},
   "outputs": [
    {
     "name": "stdout",
     "output_type": "stream",
     "text": [
      "4   4\n"
     ]
    }
   ],
   "source": [
    "## Note : For printing multiple values in one line, put them inside print separated by space.\n",
    "## You can follow this syntax for printing values of two variables val1 and val2 separaetd by space -\n",
    "## print(val1, \" \", val2)\n",
    "n = int(input())\n",
    "\n",
    "even_sum = 0\n",
    "odd_sum = 0\n",
    "\n",
    "while (n!=0):\n",
    "    digit = n%10\n",
    "    \n",
    "    if digit%2 == 0:\n",
    "        even_sum += digit\n",
    "        \n",
    "    else:\n",
    "        odd_sum += digit\n",
    "        \n",
    "    n //=10\n",
    "    \n",
    "print(even_sum, \" \", odd_sum)\n",
    "\n"
   ]
  },
  {
   "cell_type": "markdown",
   "metadata": {},
   "source": [
    "Nth Fibonacci Number\n",
    "Send Feedback\n",
    "Nth term of Fibonacci series F(n), where F(n) is a function, is calculated using the following formula \n",
    "- F(n) = F(n-1) + F(n-2), \n",
    "    Where, F(1) = F(2) = 1\n",
    "Provided N you have to find out the Nth Fibonacci Number."
   ]
  },
  {
   "cell_type": "markdown",
   "metadata": {},
   "source": []
  },
  {
   "cell_type": "code",
   "execution_count": null,
   "metadata": {},
   "outputs": [],
   "source": []
  },
  {
   "cell_type": "markdown",
   "metadata": {},
   "source": [
    "Calculator\n",
    "Send Feedback\n",
    "Write a program that performs the tasks of a simple calculator. The program should first take an integer as input and then based on that integer perform the task as given below.\n",
    "1. If the input is 1, then 2 integers are taken from the user and their sum is printed.\n",
    "2. If the input is 2, then 2 integers are taken from the user and their difference(1st number - 2nd number) is printed.\n",
    "3. If the input is 3, then 2 integers are taken from the user and their product is printed.\n",
    "4. If the input is 4, then 2 integers are taken from the user and the quotient obtained (on dividing 1st number by 2nd number) is printed.\n",
    "5. If the input is 5, then 2 integers are taken from the user and their remainder(1st number mod 2nd number) is printed.\n",
    "6. If the input is 6, then the program exits.\n",
    "7. For any other input, then print \"Invalid Operation\".\n"
   ]
  },
  {
   "cell_type": "code",
   "execution_count": 24,
   "metadata": {},
   "outputs": [
    {
     "name": "stdout",
     "output_type": "stream",
     "text": [
      "3\n",
      "6\n",
      "6\n"
     ]
    }
   ],
   "source": [
    "# Write your code here\n",
    "op = int(input()) #2\n",
    "while op!=6:\n",
    "    \n",
    "    if op ==1:\n",
    "        a = int(input())\n",
    "        b = int(input())\n",
    "\n",
    "        sum = a+ b\n",
    "        print(sum)\n",
    "\n",
    "    elif op ==2:\n",
    "        a = int(input())\n",
    "        b = int(input())\n",
    "        print(a-b)\n",
    "\n",
    "    elif op ==3:\n",
    "        a = int(input())\n",
    "        b = int(input())\n",
    "        print(a*b)\n",
    "\n",
    "    elif op ==4:\n",
    "        a = int(input())\n",
    "        b = int(input())\n",
    "        print(a//b)\n",
    "\n",
    "    elif op == 5:\n",
    "        a = int(input())\n",
    "        b = int(input())\n",
    "        print(a%b)\n",
    "\n",
    "    else: \n",
    "        print(\"Invalid Operation\")\n",
    "        break\n",
    "    op = int(input())"
   ]
  },
  {
   "cell_type": "markdown",
   "metadata": {},
   "source": [
    "**Code : Square Pattern**\n",
    "\n",
    "Print the following pattern for the given N number of rows.\n",
    "\n",
    "Pattern for N = 4\n",
    "\n",
    "4444\n",
    "\n",
    "4444\n",
    "\n",
    "4444\n",
    "\n",
    "4444"
   ]
  },
  {
   "cell_type": "code",
   "execution_count": 37,
   "metadata": {},
   "outputs": [
    {
     "name": "stdout",
     "output_type": "stream",
     "text": [
      "7777777\n"
     ]
    }
   ],
   "source": [
    "n =7\n",
    "\n",
    "print(n*str(n))"
   ]
  },
  {
   "cell_type": "code",
   "execution_count": 39,
   "metadata": {},
   "outputs": [
    {
     "name": "stdout",
     "output_type": "stream",
     "text": [
      "4444\n",
      "4444\n",
      "4444\n",
      "4444\n"
     ]
    }
   ],
   "source": [
    "n = 4\n",
    "a = 1\n",
    "\n",
    "while a<=n:\n",
    "    print(n*str(n))\n",
    "    a = a+1\n"
   ]
  },
  {
   "cell_type": "code",
   "execution_count": 4,
   "metadata": {},
   "outputs": [
    {
     "name": "stdout",
     "output_type": "stream",
     "text": [
      "55555\n",
      "55555\n",
      "55555\n",
      "55555\n",
      "55555\n"
     ]
    }
   ],
   "source": [
    "## Read input as specified in the question\n",
    "## Print the required output in given format\n",
    "\n",
    "n =int(input())\n",
    "a = 1\n",
    "\n",
    "while a<=n:\n",
    "    j=1\n",
    "    while j<=n:\n",
    "        print(n,end=\"\")\n",
    "        j+=1\n",
    "    print()\n",
    "    a = a+1\n"
   ]
  },
  {
   "cell_type": "code",
   "execution_count": 5,
   "metadata": {},
   "outputs": [
    {
     "name": "stdout",
     "output_type": "stream",
     "text": [
      "11111\n",
      "22222\n",
      "33333\n",
      "44444\n",
      "55555\n"
     ]
    }
   ],
   "source": [
    "## Read input as specified in the question\n",
    "## Print the required output in given format\n",
    "\n",
    "n =int(input())\n",
    "a = 1\n",
    "\n",
    "while a<=n:\n",
    "    j=1\n",
    "    while j<=n:\n",
    "        print(a,end=\"\")\n",
    "        j+=1\n",
    "    print()\n",
    "    a = a+1\n"
   ]
  },
  {
   "cell_type": "code",
   "execution_count": null,
   "metadata": {},
   "outputs": [],
   "source": []
  }
 ],
 "metadata": {
  "interpreter": {
   "hash": "c626c7f027fd81c21c9d33e27e9da6944415f92c80192dd5d04cdc4b243efcd0"
  },
  "kernelspec": {
   "display_name": "Python 3.8.5 ('vaishali')",
   "language": "python",
   "name": "python3"
  },
  "language_info": {
   "codemirror_mode": {
    "name": "ipython",
    "version": 3
   },
   "file_extension": ".py",
   "mimetype": "text/x-python",
   "name": "python",
   "nbconvert_exporter": "python",
   "pygments_lexer": "ipython3",
   "version": "3.8.5"
  },
  "orig_nbformat": 4
 },
 "nbformat": 4,
 "nbformat_minor": 2
}
