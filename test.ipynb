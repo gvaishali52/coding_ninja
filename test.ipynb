{
 "cells": [
  {
   "cell_type": "code",
   "execution_count": 2,
   "metadata": {},
   "outputs": [
    {
     "data": {
      "text/plain": [
       "[2, 2, 3]"
      ]
     },
     "execution_count": 2,
     "metadata": {},
     "output_type": "execute_result"
    }
   ],
   "source": [
    "def increment(a):\n",
    "    a[0] = a[0]+1\n",
    "\n",
    "a = [1,2,3]\n",
    "increment(a)\n",
    "a"
   ]
  },
  {
   "cell_type": "code",
   "execution_count": 3,
   "metadata": {},
   "outputs": [
    {
     "data": {
      "text/plain": [
       "5"
      ]
     },
     "execution_count": 3,
     "metadata": {},
     "output_type": "execute_result"
    }
   ],
   "source": [
    "def increment(a):\n",
    "    a = 2\n",
    "\n",
    "a = 5\n",
    "increment(a)\n",
    "a"
   ]
  },
  {
   "cell_type": "markdown",
   "metadata": {},
   "source": [
    "Given a binary number as an integer N, convert it into decimal and print."
   ]
  },
  {
   "cell_type": "code",
   "execution_count": 4,
   "metadata": {},
   "outputs": [],
   "source": [
    "def binaryToDecimal(n):\n",
    "    return int(n,2)"
   ]
  },
  {
   "cell_type": "code",
   "execution_count": 5,
   "metadata": {},
   "outputs": [
    {
     "name": "stdout",
     "output_type": "stream",
     "text": [
      "5\n"
     ]
    }
   ],
   "source": [
    "n=int(input())\n",
    "e=str(n)\n",
    "i=0\n",
    "sum=0\n",
    "while n!=0:\n",
    "    dig=n%10\n",
    "    n=n//10\n",
    "    c=2**i\n",
    "    i=i+1\n",
    "    dec=dig*c\n",
    "    sum=sum+dec\n",
    "print(sum)"
   ]
  },
  {
   "cell_type": "code",
   "execution_count": 6,
   "metadata": {},
   "outputs": [
    {
     "name": "stdout",
     "output_type": "stream",
     "text": [
      "5\n"
     ]
    }
   ],
   "source": [
    "n=13\n",
    "e=str(n)\n",
    "i=0\n",
    "sum=0\n",
    "while n!=0:\n",
    "    dig=n%10\n",
    "    n=n//10\n",
    "    c=2**i\n",
    "    i=i+1\n",
    "    dec=dig*c\n",
    "    sum=sum+dec\n",
    "print(sum)"
   ]
  },
  {
   "cell_type": "code",
   "execution_count": 7,
   "metadata": {},
   "outputs": [
    {
     "name": "stdout",
     "output_type": "stream",
     "text": [
      "2\n"
     ]
    }
   ],
   "source": [
    "n=13\n",
    "e=str(n)\n",
    "i=0\n",
    "sum=0\n",
    "while n!=0:\n",
    "    dig=n%10\n",
    "    n=n//10\n",
    "    c=2**i\n",
    "    i=i+1\n",
    "    dec=dig*c\n",
    "    sum=sum+dec\n",
    "print(dec)"
   ]
  },
  {
   "cell_type": "code",
   "execution_count": null,
   "metadata": {},
   "outputs": [],
   "source": []
  }
 ],
 "metadata": {
  "kernelspec": {
   "display_name": "Python 3.10.4 64-bit",
   "language": "python",
   "name": "python3"
  },
  "language_info": {
   "codemirror_mode": {
    "name": "ipython",
    "version": 3
   },
   "file_extension": ".py",
   "mimetype": "text/x-python",
   "name": "python",
   "nbconvert_exporter": "python",
   "pygments_lexer": "ipython3",
   "version": "3.10.4"
  },
  "orig_nbformat": 4,
  "vscode": {
   "interpreter": {
    "hash": "7da3713980580affb8b3fc8f15d7f2043cd44068492e93519362f9b21c1e5673"
   }
  }
 },
 "nbformat": 4,
 "nbformat_minor": 2
}
