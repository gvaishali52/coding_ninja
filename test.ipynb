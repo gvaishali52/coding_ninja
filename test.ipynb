{
 "cells": [
  {
   "cell_type": "code",
   "execution_count": 2,
   "metadata": {},
   "outputs": [
    {
     "data": {
      "text/plain": [
       "[2, 2, 3]"
      ]
     },
     "execution_count": 2,
     "metadata": {},
     "output_type": "execute_result"
    }
   ],
   "source": [
    "def increment(a):\n",
    "    a[0] = a[0]+1\n",
    "\n",
    "a = [1,2,3]\n",
    "increment(a)\n",
    "a"
   ]
  },
  {
   "cell_type": "code",
   "execution_count": 3,
   "metadata": {},
   "outputs": [
    {
     "data": {
      "text/plain": [
       "5"
      ]
     },
     "execution_count": 3,
     "metadata": {},
     "output_type": "execute_result"
    }
   ],
   "source": [
    "def increment(a):\n",
    "    a = 2\n",
    "\n",
    "a = 5\n",
    "increment(a)\n",
    "a"
   ]
  },
  {
   "cell_type": "markdown",
   "metadata": {},
   "source": [
    "Given a binary number as an integer N, convert it into decimal and print."
   ]
  },
  {
   "cell_type": "code",
   "execution_count": 4,
   "metadata": {},
   "outputs": [],
   "source": [
    "def binaryToDecimal(n):\n",
    "    return int(n,2)"
   ]
  },
  {
   "cell_type": "code",
   "execution_count": 5,
   "metadata": {},
   "outputs": [
    {
     "name": "stdout",
     "output_type": "stream",
     "text": [
      "5\n"
     ]
    }
   ],
   "source": [
    "n=int(input())\n",
    "e=str(n)\n",
    "i=0\n",
    "sum=0\n",
    "while n!=0:\n",
    "    dig=n%10\n",
    "    n=n//10\n",
    "    c=2**i\n",
    "    i=i+1\n",
    "    dec=dig*c\n",
    "    sum=sum+dec\n",
    "print(sum)"
   ]
  },
  {
   "cell_type": "code",
   "execution_count": 6,
   "metadata": {},
   "outputs": [
    {
     "name": "stdout",
     "output_type": "stream",
     "text": [
      "5\n"
     ]
    }
   ],
   "source": [
    "n=13\n",
    "e=str(n)\n",
    "i=0\n",
    "sum=0\n",
    "while n!=0:\n",
    "    dig=n%10\n",
    "    n=n//10\n",
    "    c=2**i\n",
    "    i=i+1\n",
    "    dec=dig*c\n",
    "    sum=sum+dec\n",
    "print(sum)"
   ]
  },
  {
   "cell_type": "code",
   "execution_count": 7,
   "metadata": {},
   "outputs": [
    {
     "name": "stdout",
     "output_type": "stream",
     "text": [
      "2\n"
     ]
    }
   ],
   "source": [
    "n=13\n",
    "e=str(n)\n",
    "i=0\n",
    "sum=0\n",
    "while n!=0:\n",
    "    dig=n%10\n",
    "    n=n//10\n",
    "    c=2**i\n",
    "    i=i+1\n",
    "    dec=dig*c\n",
    "    sum=sum+dec\n",
    "print(dec)"
   ]
  },
  {
   "cell_type": "code",
   "execution_count": 9,
   "metadata": {},
   "outputs": [
    {
     "ename": "TypeError",
     "evalue": "int() can't convert non-string with explicit base",
     "output_type": "error",
     "traceback": [
      "\u001b[1;31m---------------------------------------------------------------------------\u001b[0m",
      "\u001b[1;31mTypeError\u001b[0m                                 Traceback (most recent call last)",
      "\u001b[1;32mc:\\Users\\sam\\Documents\\GitHub\\coding_ninja\\test.ipynb Cell 8'\u001b[0m in \u001b[0;36m<cell line: 1>\u001b[1;34m()\u001b[0m\n\u001b[1;32m----> <a href='vscode-notebook-cell:/c%3A/Users/sam/Documents/GitHub/coding_ninja/test.ipynb#ch0000007?line=0'>1</a>\u001b[0m binaryToDecimal(\u001b[39m1000\u001b[39;49m)\n",
      "\u001b[1;32mc:\\Users\\sam\\Documents\\GitHub\\coding_ninja\\test.ipynb Cell 4'\u001b[0m in \u001b[0;36mbinaryToDecimal\u001b[1;34m(n)\u001b[0m\n\u001b[0;32m      <a href='vscode-notebook-cell:/c%3A/Users/sam/Documents/GitHub/coding_ninja/test.ipynb#ch0000003?line=0'>1</a>\u001b[0m \u001b[39mdef\u001b[39;00m \u001b[39mbinaryToDecimal\u001b[39m(n):\n\u001b[1;32m----> <a href='vscode-notebook-cell:/c%3A/Users/sam/Documents/GitHub/coding_ninja/test.ipynb#ch0000003?line=1'>2</a>\u001b[0m     \u001b[39mreturn\u001b[39;00m \u001b[39mint\u001b[39;49m(n,\u001b[39m2\u001b[39;49m)\n",
      "\u001b[1;31mTypeError\u001b[0m: int() can't convert non-string with explicit base"
     ]
    }
   ],
   "source": [
    "binaryToDecimal(1000)"
   ]
  },
  {
   "cell_type": "code",
   "execution_count": null,
   "metadata": {},
   "outputs": [],
   "source": []
  }
 ],
 "metadata": {
  "kernelspec": {
   "display_name": "Python 3.8.5 ('vaishali')",
   "language": "python",
   "name": "python3"
  },
  "language_info": {
   "codemirror_mode": {
    "name": "ipython",
    "version": 3
   },
   "file_extension": ".py",
   "mimetype": "text/x-python",
   "name": "python",
   "nbconvert_exporter": "python",
   "pygments_lexer": "ipython3",
   "version": "3.8.5"
  },
  "orig_nbformat": 4,
  "vscode": {
   "interpreter": {
    "hash": "c626c7f027fd81c21c9d33e27e9da6944415f92c80192dd5d04cdc4b243efcd0"
   }
  }
 },
 "nbformat": 4,
 "nbformat_minor": 2
}
