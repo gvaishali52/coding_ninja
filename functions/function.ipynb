{
 "cells": [
  {
   "cell_type": "code",
   "execution_count": 51,
   "metadata": {},
   "outputs": [],
   "source": [
    "def fact(a):\n",
    "    a_fact = 1\n",
    "    for i in range(1, a + 1):\n",
    "        a_fact = a_fact * i\n",
    "    return a_fact"
   ]
  },
  {
   "cell_type": "markdown",
   "metadata": {},
   "source": []
  },
  {
   "cell_type": "code",
   "execution_count": null,
   "metadata": {},
   "outputs": [],
   "source": []
  },
  {
   "cell_type": "code",
   "execution_count": 52,
   "metadata": {},
   "outputs": [
    {
     "name": "stdout",
     "output_type": "stream",
     "text": [
      "1\n"
     ]
    }
   ],
   "source": [
    "n = int(input())\n",
    "r = int(input())\n",
    "n_fact = fact(n)\n",
    "r_fact = fact(r)\n",
    "n_r_fact = fact(n - r)\n",
    "ans = n_fact//(r_fact*n_r_fact)\n",
    "print(ans)"
   ]
  },
  {
   "cell_type": "markdown",
   "metadata": {},
   "source": [
    "code for nCr"
   ]
  },
  {
   "cell_type": "code",
   "execution_count": 53,
   "metadata": {},
   "outputs": [],
   "source": [
    "def fact(n):\n",
    "    count=1\n",
    "    for i in range(1,n+1):\n",
    "        count= count*i\n",
    "\n",
    "    return count\n",
    " "
   ]
  },
  {
   "cell_type": "code",
   "execution_count": 54,
   "metadata": {},
   "outputs": [
    {
     "name": "stdout",
     "output_type": "stream",
     "text": [
      "1\n",
      "2\n",
      "6\n",
      "24\n",
      "180\n"
     ]
    }
   ],
   "source": [
    "print(fact(1))\n",
    "print(fact(2))\n",
    "print(fact(3))\n",
    "print(fact(4))\n",
    "print(fact(10)//fact(8)*fact(2))"
   ]
  },
  {
   "cell_type": "code",
   "execution_count": 55,
   "metadata": {},
   "outputs": [],
   "source": [
    "def nCr(n,r):\n",
    "    n_fact=fact(n)\n",
    "    r_fact=fact(r)\n",
    "    n_r_fact=fact(n-r)\n",
    "    ncr = (n_fact)//((n_r_fact)*(r_fact))\n",
    "\n",
    "    return ncr "
   ]
  },
  {
   "cell_type": "code",
   "execution_count": 56,
   "metadata": {},
   "outputs": [
    {
     "data": {
      "text/plain": [
       "1"
      ]
     },
     "execution_count": 56,
     "metadata": {},
     "output_type": "execute_result"
    }
   ],
   "source": [
    "nCr(10,10)"
   ]
  },
  {
   "cell_type": "code",
   "execution_count": 57,
   "metadata": {},
   "outputs": [
    {
     "name": "stdout",
     "output_type": "stream",
     "text": [
      "4320\n"
     ]
    }
   ],
   "source": [
    "n=10\n",
    "r= 3   \n",
    "n_fact=fact(n)\n",
    "r_fact=fact(r)\n",
    "n_r_fact=fact(n-r)\n",
    "ncr= (n_fact)//(n_r_fact)*(r_fact)\n",
    "print(ncr)"
   ]
  },
  {
   "cell_type": "code",
   "execution_count": 58,
   "metadata": {},
   "outputs": [
    {
     "name": "stdout",
     "output_type": "stream",
     "text": [
      "3628800\n"
     ]
    }
   ],
   "source": [
    "print(n_fact)"
   ]
  },
  {
   "cell_type": "code",
   "execution_count": 59,
   "metadata": {},
   "outputs": [
    {
     "data": {
      "text/plain": [
       "5040"
      ]
     },
     "execution_count": 59,
     "metadata": {},
     "output_type": "execute_result"
    }
   ],
   "source": [
    "fact(7)"
   ]
  },
  {
   "cell_type": "code",
   "execution_count": 60,
   "metadata": {},
   "outputs": [
    {
     "data": {
      "text/plain": [
       "1680"
      ]
     },
     "execution_count": 60,
     "metadata": {},
     "output_type": "execute_result"
    }
   ],
   "source": [
    "fact(8)//fact(4)"
   ]
  },
  {
   "cell_type": "code",
   "execution_count": 61,
   "metadata": {},
   "outputs": [
    {
     "name": "stdout",
     "output_type": "stream",
     "text": [
      "started working on new pc\n"
     ]
    }
   ],
   "source": [
    "print(\"started working on new pc\")"
   ]
  },
  {
   "cell_type": "markdown",
   "metadata": {},
   "source": [
    "Given a number N, find its square root. You need to find and print only the integral part of square root of N"
   ]
  },
  {
   "cell_type": "code",
   "execution_count": 62,
   "metadata": {},
   "outputs": [
    {
     "name": "stdout",
     "output_type": "stream",
     "text": [
      "2\n"
     ]
    }
   ],
   "source": [
    "n=7\n",
    "for i in range (1,n//2+1):\n",
    "    if (i**2)<n:\n",
    "        pass\n",
    "    else:\n",
    "        break\n",
    "print(i-1)"
   ]
  },
  {
   "cell_type": "code",
   "execution_count": 63,
   "metadata": {},
   "outputs": [
    {
     "ename": "ValueError",
     "evalue": "invalid literal for int() with base 10: ''",
     "output_type": "error",
     "traceback": [
      "\u001b[1;31m---------------------------------------------------------------------------\u001b[0m",
      "\u001b[1;31mValueError\u001b[0m                                Traceback (most recent call last)",
      "\u001b[1;32mc:\\Users\\sgupt\\OneDrive\\Pictures\\Documents\\GitHub\\coding_ninja\\functions\\function.ipynb Cell 17\u001b[0m in \u001b[0;36m<cell line: 3>\u001b[1;34m()\u001b[0m\n\u001b[0;32m      <a href='vscode-notebook-cell:/c%3A/Users/sgupt/OneDrive/Pictures/Documents/GitHub/coding_ninja/functions/function.ipynb#X22sZmlsZQ%3D%3D?line=0'>1</a>\u001b[0m \u001b[39m## Read input as specified in the question.\u001b[39;00m\n\u001b[0;32m      <a href='vscode-notebook-cell:/c%3A/Users/sgupt/OneDrive/Pictures/Documents/GitHub/coding_ninja/functions/function.ipynb#X22sZmlsZQ%3D%3D?line=1'>2</a>\u001b[0m \u001b[39m## Print output as specified in the question.\u001b[39;00m\n\u001b[1;32m----> <a href='vscode-notebook-cell:/c%3A/Users/sgupt/OneDrive/Pictures/Documents/GitHub/coding_ninja/functions/function.ipynb#X22sZmlsZQ%3D%3D?line=2'>3</a>\u001b[0m n\u001b[39m=\u001b[39m\u001b[39mint\u001b[39;49m(\u001b[39minput\u001b[39;49m())\n\u001b[0;32m      <a href='vscode-notebook-cell:/c%3A/Users/sgupt/OneDrive/Pictures/Documents/GitHub/coding_ninja/functions/function.ipynb#X22sZmlsZQ%3D%3D?line=3'>4</a>\u001b[0m \u001b[39mfor\u001b[39;00m i \u001b[39min\u001b[39;00m \u001b[39mrange\u001b[39m (\u001b[39m1\u001b[39m,n):\n\u001b[0;32m      <a href='vscode-notebook-cell:/c%3A/Users/sgupt/OneDrive/Pictures/Documents/GitHub/coding_ninja/functions/function.ipynb#X22sZmlsZQ%3D%3D?line=4'>5</a>\u001b[0m     \u001b[39mif\u001b[39;00m (i\u001b[39m*\u001b[39m\u001b[39m*\u001b[39m\u001b[39m2\u001b[39m)\u001b[39m<\u001b[39m\u001b[39m=\u001b[39mn:\n",
      "\u001b[1;31mValueError\u001b[0m: invalid literal for int() with base 10: ''"
     ]
    }
   ],
   "source": [
    "## Read input as specified in the question.\n",
    "## Print output as specified in the question.\n",
    "n=int(input())\n",
    "for i in range (1,n):\n",
    "    if (i**2)<=n:\n",
    "        pass\n",
    "    else:\n",
    "        break\n",
    "print(i-1)"
   ]
  },
  {
   "cell_type": "code",
   "execution_count": null,
   "metadata": {},
   "outputs": [
    {
     "name": "stdout",
     "output_type": "stream",
     "text": [
      "2\n"
     ]
    }
   ],
   "source": [
    "n =int(input())\n",
    "\n",
    "print(int(n**0.5))"
   ]
  },
  {
   "cell_type": "code",
   "execution_count": null,
   "metadata": {},
   "outputs": [
    {
     "name": "stdout",
     "output_type": "stream",
     "text": [
      " I evoL uoY !uhsiaV\n"
     ]
    }
   ],
   "source": [
    "string = \"I Love You Vaishu!\"\n",
    "list_strings = string.split()\n",
    "a= []\n",
    "for i in list_strings:\n",
    "    a.append(i[::-1])\n",
    "c = ''\n",
    "for i in a:\n",
    "    c = c+' ' + i\n",
    "\n",
    "print(c)"
   ]
  },
  {
   "cell_type": "code",
   "execution_count": null,
   "metadata": {},
   "outputs": [
    {
     "name": "stdout",
     "output_type": "stream",
     "text": [
      "['My', 'name', 'is', 'Vaishali']\n",
      "['yM', 'eman', 'si', 'ilahsiaV']\n",
      " yM eman si ilahsiaV\n"
     ]
    }
   ],
   "source": [
    "# covert strings into list of strings\n",
    "string = \"My name is Vaishali\"\n",
    "list_strings = string.split()\n",
    "print(list_strings)\n",
    "\n",
    "# Reverse each element on list\n",
    "a= []\n",
    "for i in list_strings:\n",
    "    a.append(i[::-1])\n",
    "print(a)\n",
    "\n",
    "# convert list of strings in strings\n",
    "c = ''\n",
    "for i in a:\n",
    "    c = c+' ' + i\n",
    "\n",
    "print(c)"
   ]
  },
  {
   "cell_type": "code",
   "execution_count": null,
   "metadata": {},
   "outputs": [
    {
     "name": "stdout",
     "output_type": "stream",
     "text": [
      "['yM', 'eman', 'si', 'ilahsiaV']\n"
     ]
    }
   ],
   "source": [
    "# Reverse each element on list\n",
    "a= []\n",
    "for i in list_strings:\n",
    "    a.append(i[::-1])\n",
    "print(a)"
   ]
  },
  {
   "cell_type": "code",
   "execution_count": null,
   "metadata": {},
   "outputs": [
    {
     "name": "stdout",
     "output_type": "stream",
     "text": [
      " yM eman si ilahsiaV\n"
     ]
    }
   ],
   "source": [
    "# convert list of strings in strings\n",
    "c = ''\n",
    "for i in a:\n",
    "    c = c+' ' + i\n",
    "\n",
    "print(c)"
   ]
  },
  {
   "cell_type": "code",
   "execution_count": null,
   "metadata": {},
   "outputs": [
    {
     "name": "stdout",
     "output_type": "stream",
     "text": [
      "['yM', 'eman', 'si', 'ilahsiaV']\n"
     ]
    }
   ],
   "source": [
    "a= ['yM', 'eman', 'si', 'ilahsiaV']\n",
    "c=str(a)\n",
    "print(c)"
   ]
  },
  {
   "cell_type": "code",
   "execution_count": null,
   "metadata": {},
   "outputs": [
    {
     "name": "stdout",
     "output_type": "stream",
     "text": [
      "['My', 'name', 'is', 'Vaishali']\n",
      "['yM', 'eman', 'si', 'ilahsiaV']\n",
      " yM eman si ilahsiaV\n"
     ]
    }
   ],
   "source": [
    "# covert strings into list of strings\n",
    "string = \"My name is Vaishali\"\n",
    "list_strings = string.split()\n",
    "print(list_strings)\n",
    "\n",
    "# Reverse each element on list\n",
    "a= []\n",
    "for i in list_strings:\n",
    "    a.append(i[::-1])\n",
    "print(a)\n",
    "\n",
    "# convert list of strings in strings\n",
    "c = ''\n",
    "for i in a:\n",
    "    c = c+' ' + i\n",
    "\n",
    "print(c)"
   ]
  },
  {
   "cell_type": "code",
   "execution_count": null,
   "metadata": {},
   "outputs": [
    {
     "name": "stdout",
     "output_type": "stream",
     "text": [
      "1\n"
     ]
    }
   ],
   "source": [
    "n=5\n",
    "for i in range (1,n//2+1):\n",
    "    if (i**2)<n:\n",
    "        pass\n",
    "    else:\n",
    "        break\n",
    "print(i-1)"
   ]
  },
  {
   "cell_type": "code",
   "execution_count": null,
   "metadata": {},
   "outputs": [
    {
     "data": {
      "text/plain": [
       "['My', 'name', 'is', 'Vaishali']"
      ]
     },
     "execution_count": 47,
     "metadata": {},
     "output_type": "execute_result"
    }
   ],
   "source": [
    "string.split()"
   ]
  },
  {
   "cell_type": "code",
   "execution_count": null,
   "metadata": {},
   "outputs": [
    {
     "name": "stdout",
     "output_type": "stream",
     "text": [
      "I love vaishu\n"
     ]
    }
   ],
   "source": [
    "print(\"I love vaishu\")"
   ]
  },
  {
   "cell_type": "code",
   "execution_count": null,
   "metadata": {},
   "outputs": [
    {
     "name": "stdout",
     "output_type": "stream",
     "text": [
      "My\n",
      "name\n",
      "is\n",
      "Saurabh\n",
      "ok\n"
     ]
    }
   ],
   "source": [
    "sentence = \"My name is Saurabh\"\n",
    "[print(word) for word in sentence.split()]\n",
    "print('ok')"
   ]
  },
  {
   "cell_type": "code",
   "execution_count": null,
   "metadata": {},
   "outputs": [
    {
     "data": {
      "text/plain": [
       "['My', 'name', 'is', 'Saurabh']"
      ]
     },
     "execution_count": 50,
     "metadata": {},
     "output_type": "execute_result"
    }
   ],
   "source": [
    "sentence.split()"
   ]
  },
  {
   "cell_type": "code",
   "execution_count": null,
   "metadata": {},
   "outputs": [],
   "source": []
  }
 ],
 "metadata": {
  "kernelspec": {
   "display_name": "Python 3.8.5 ('vaishali')",
   "language": "python",
   "name": "python3"
  },
  "language_info": {
   "codemirror_mode": {
    "name": "ipython",
    "version": 3
   },
   "file_extension": ".py",
   "mimetype": "text/x-python",
   "name": "python",
   "nbconvert_exporter": "python",
   "pygments_lexer": "ipython3",
   "version": "3.8.5"
  },
  "orig_nbformat": 4,
  "vscode": {
   "interpreter": {
    "hash": "c626c7f027fd81c21c9d33e27e9da6944415f92c80192dd5d04cdc4b243efcd0"
   }
  }
 },
 "nbformat": 4,
 "nbformat_minor": 2
}
