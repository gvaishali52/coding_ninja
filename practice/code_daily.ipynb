{
 "cells": [
  {
   "cell_type": "markdown",
   "metadata": {},
   "source": [
    "Date: 1 July "
   ]
  },
  {
   "cell_type": "code",
   "execution_count": null,
   "metadata": {},
   "outputs": [],
   "source": [
    "n = int(input())\n",
    "count = 0\n",
    "for i in range (1,n+99999,1):\n",
    "    x = 3*i+2\n",
    "    if x%4 ==0:\n",
    "        pass\n",
    "    else: \n",
    "        print(x, end = ' ')\n",
    "        count +=1\n",
    "\n",
    "    if count ==n:\n",
    "        break"
   ]
  },
  {
   "cell_type": "code",
   "execution_count": null,
   "metadata": {},
   "outputs": [],
   "source": [
    "def ispalindrome(string):\n",
    "    rev = string[::-1]\n",
    "    if string == rev:\n",
    "        return True\n",
    "\n",
    "    else: return False\n",
    "\n",
    "string = input().strip()\n",
    "ans = ispalindrome(string)\n",
    "\n",
    "if ans==True:\n",
    "    print(True)\n",
    "\n",
    "else: \n",
    "    print(False)\n"
   ]
  },
  {
   "cell_type": "markdown",
   "metadata": {},
   "source": [
    "**2 July and 3 July**"
   ]
  },
  {
   "cell_type": "code",
   "execution_count": null,
   "metadata": {},
   "outputs": [],
   "source": [
    "n = 11\n",
    "c = int(input())\n",
    "\n",
    "if c ==1:\n",
    "    sum = 0\n",
    "    for i in range(1, n+1):\n",
    "        sum+=1\n",
    "    print(sum)\n",
    "\n",
    "elif c ==2:\n",
    "    product = 1\n",
    "    for i in range(1,n+1):\n",
    "        product*=i\n",
    "    \n",
    "    print(product)\n",
    "\n",
    "else:\n",
    "    print(1)"
   ]
  },
  {
   "cell_type": "code",
   "execution_count": null,
   "metadata": {},
   "outputs": [],
   "source": [
    "n = int(input())\n",
    "print(int(n**0.5))"
   ]
  },
  {
   "cell_type": "markdown",
   "metadata": {},
   "source": [
    "**4 July**"
   ]
  },
  {
   "cell_type": "code",
   "execution_count": null,
   "metadata": {},
   "outputs": [],
   "source": [
    "# binary to decimal\n",
    "n = 101\n",
    "i = 0\n",
    "\n",
    "sum = 0\n",
    "\n",
    "while n!=0:\n",
    "    dig = n%10\n",
    "    n = n//10\n",
    "    c = 2**i\n",
    "\n",
    "    dec = dig*c\n",
    "    sum = sum+dec\n",
    "    i+=1\n",
    "\n",
    "print(sum)"
   ]
  },
  {
   "cell_type": "markdown",
   "metadata": {},
   "source": [
    "**6 July**\n",
    "\n"
   ]
  },
  {
   "cell_type": "code",
   "execution_count": null,
   "metadata": {},
   "outputs": [],
   "source": [
    "n = int(input())\n",
    "\n",
    "if n==0:\n",
    "    print('Zero')\n",
    "\n",
    "else:\n",
    "    if n>0:\n",
    "        print('Positive')\n",
    "\n",
    "    else:\n",
    "        print(\"Negative\")"
   ]
  },
  {
   "cell_type": "code",
   "execution_count": null,
   "metadata": {},
   "outputs": [],
   "source": [
    "x1 = int(input())\n",
    "x2 = int(input())\n",
    "y1 = int(input())\n",
    "y2 = int(input())\n",
    "\n",
    "area = (x2-x1)*(y2-y1)\n",
    "print(area)"
   ]
  },
  {
   "cell_type": "markdown",
   "metadata": {},
   "source": [
    "**7 July**"
   ]
  },
  {
   "cell_type": "code",
   "execution_count": null,
   "metadata": {},
   "outputs": [],
   "source": [
    "n = int(input())\n",
    "i =1\n",
    "sum = 0\n",
    "while i<=n:\n",
    "    sum = sum+i\n",
    "    i = i+1\n",
    "\n",
    "print(sum)"
   ]
  },
  {
   "cell_type": "markdown",
   "metadata": {},
   "source": [
    "**8 June**"
   ]
  },
  {
   "cell_type": "markdown",
   "metadata": {},
   "source": [
    "#### Trailing zeroes in n!\n",
    "\n",
    "Find and return number of trailing 0s in n factorial without calculating n factorial."
   ]
  },
  {
   "cell_type": "code",
   "execution_count": null,
   "metadata": {},
   "outputs": [],
   "source": [
    "n = int(input())\n",
    "\n",
    "i=1\n",
    "trailing_zeroes = 0\n",
    "\n",
    "while(n//5**i >0):\n",
    "    \n",
    "    trailing_zeroes = trailing_zeroes+(n//5**i)\n",
    "    \n",
    "    i = i+1\n",
    "    \n",
    "print(trailing_zeroes)\n"
   ]
  },
  {
   "cell_type": "markdown",
   "metadata": {},
   "source": [
    "**10 June**"
   ]
  },
  {
   "cell_type": "markdown",
   "metadata": {},
   "source": [
    "Find sum of all the even valued fibonacci numbers which are less than of equal to N."
   ]
  },
  {
   "cell_type": "code",
   "execution_count": null,
   "metadata": {},
   "outputs": [],
   "source": [
    "# n = int(input())\n",
    "n = 43\n",
    "a = 0\n",
    "b = 1\n",
    "\n",
    "c =-1\n",
    "\n",
    "sum_even = 0\n",
    "\n",
    "for i in range(n):\n",
    "    c = a+b\n",
    "    a=b\n",
    "    b=c\n",
    "    if a>n:\n",
    "        break\n",
    "    if a%2==0:\n",
    "        sum_even = sum_even+a\n",
    "\n",
    "print(sum_even)"
   ]
  },
  {
   "cell_type": "code",
   "execution_count": null,
   "metadata": {},
   "outputs": [],
   "source": [
    "from collections import Counter\n",
    "test_str = 'saurabhsaurabh'\n",
    "Counter(test_str)"
   ]
  },
  {
   "cell_type": "code",
   "execution_count": null,
   "metadata": {},
   "outputs": [],
   "source": [
    "chars = list(set(test_str))\n",
    "print(chars)\n",
    "count = 0\n",
    "for char in chars:\n",
    "    temp_count = test_str.count(char)\n",
    "\n",
    "    if temp_count>count :\n",
    "        count = temp_count\n",
    "        result = char\n",
    "\n",
    "result"
   ]
  },
  {
   "cell_type": "code",
   "execution_count": null,
   "metadata": {},
   "outputs": [],
   "source": [
    "def highestOccuringChar(string) :\n",
    "\t#Your code goes here\n",
    "    chars = list(set(string))\n",
    "    count = 0\n",
    "    for char in chars:\n",
    "        temp_count = string.count(char)\n",
    "\n",
    "        if temp_count>count :\n",
    "            count = temp_count\n",
    "            result = char\n",
    "            \n",
    "    return result \n",
    "\n",
    "\n",
    "string = 'aabbb'\n",
    "highestOccuringChar(string)"
   ]
  },
  {
   "cell_type": "markdown",
   "metadata": {},
   "source": [
    "#### Strings\n",
    "\n",
    "- *Print Spiral*\n",
    "\n",
    "#### Functions\n",
    "- **Fibonacci Member**"
   ]
  },
  {
   "cell_type": "markdown",
   "metadata": {},
   "source": [
    "**16 July**"
   ]
  },
  {
   "cell_type": "markdown",
   "metadata": {},
   "source": [
    "# Find sum and multiplcation with 2 or more paramters"
   ]
  },
  {
   "cell_type": "code",
   "execution_count": null,
   "metadata": {},
   "outputs": [],
   "source": [
    "\n",
    "\n",
    "def sum_multiply(a,b, *more):\n",
    "    sum_value = a+b\n",
    "    m_value = a*b\n",
    "\n",
    "    for i in more:\n",
    "        sum_value = sum_value+i\n",
    "        m_value = m_value*i\n",
    "\n",
    "    return sum_value, m_value\n",
    "\n",
    "sum_multiply(1,2,3,4,5,6,7,8)"
   ]
  },
  {
   "cell_type": "markdown",
   "metadata": {},
   "source": [
    "**18 July**"
   ]
  },
  {
   "cell_type": "markdown",
   "metadata": {},
   "source": [
    "Total number of trailing zeroes in n!"
   ]
  },
  {
   "cell_type": "code",
   "execution_count": null,
   "metadata": {},
   "outputs": [],
   "source": [
    "# n =int(input())\n",
    "n = 100\n",
    "\n",
    "i = 1\n",
    "total_zeroes = 0\n",
    "\n",
    "while(n>5**i):\n",
    "    num_of_zeroes = n//5**i\n",
    "    total_zeroes += num_of_zeroes\n",
    "    i = i+1\n",
    "\n",
    "print(total_zeroes)"
   ]
  },
  {
   "cell_type": "code",
   "execution_count": null,
   "metadata": {},
   "outputs": [],
   "source": [
    "def sum_multiply(a,b, *more):\n",
    "    sum_value = a+b \n",
    "    m_value = a*b\n",
    "\n",
    "    for i in more:\n",
    "        sum_value = sum_value+i\n",
    "        m_value = m_value*i\n",
    "\n",
    "    return sum_value, m_value\n",
    "\n",
    "sum_multiply(1,2,3,4,5,6,7,8)"
   ]
  },
  {
   "cell_type": "markdown",
   "metadata": {},
   "source": [
    "**19 July**"
   ]
  },
  {
   "cell_type": "code",
   "execution_count": null,
   "metadata": {},
   "outputs": [],
   "source": [
    "a = [10,23,56,[78]]\n",
    "b = list(a)\n",
    "\n",
    "a[3][0] = 95\n",
    "a[1] = 34\n",
    "\n",
    "print(b)\n",
    "print(a)"
   ]
  },
  {
   "cell_type": "code",
   "execution_count": null,
   "metadata": {},
   "outputs": [],
   "source": [
    "r = [11,12,13,14]\n",
    "\n",
    "A = [[0,10,20],\n",
    "[30,40,50],\n",
    "[60,70,80]]"
   ]
  },
  {
   "cell_type": "code",
   "execution_count": null,
   "metadata": {},
   "outputs": [],
   "source": [
    "for row in A:\n",
    "    for col in row:\n",
    "        r.append(col+10)\n",
    "\n",
    "print(r)"
   ]
  },
  {
   "cell_type": "markdown",
   "metadata": {},
   "source": [
    "**21 July**\n"
   ]
  },
  {
   "cell_type": "code",
   "execution_count": null,
   "metadata": {},
   "outputs": [],
   "source": [
    "def sum_multiply(a,b, *more):\n",
    "    sum_value = a+b \n",
    "    m_value = a*b\n",
    "\n",
    "    for i in more:\n",
    "        sum_value = sum_value+i\n",
    "        m_value = m_value*i\n",
    "\n",
    "    return sum_value, m_value\n",
    "\n",
    "sum_multiply(1,2,3,4,5,6,7,8)"
   ]
  },
  {
   "cell_type": "markdown",
   "metadata": {},
   "source": [
    "# **23 June**"
   ]
  },
  {
   "cell_type": "code",
   "execution_count": null,
   "metadata": {},
   "outputs": [],
   "source": [
    "# print all substrings of given string\n",
    "\n",
    "def print_substring(string):\n",
    "    n = len(string)\n",
    "    for i in range(n):\n",
    "        for j in range(i, n):\n",
    "            for k in range(i, j+1):\n",
    "                print(string[k], end = ' ')\n",
    "\n",
    "\n",
    "s = \" hello\"\n",
    "print_substring(s)"
   ]
  },
  {
   "cell_type": "code",
   "execution_count": null,
   "metadata": {},
   "outputs": [],
   "source": [
    "def reverse(string):\n",
    "    words = string.split(' ')\n",
    "    for i in range(len(words)):\n",
    "        w = words[i]\n",
    "        rev_w = w[::-1]\n",
    "        words[i] = rev_w\n",
    "\n",
    "    return \" \".join(words)\n",
    "\n",
    "s = \"Hello Everyone this is my code of the day\"\n",
    "reverse(s)"
   ]
  },
  {
   "cell_type": "markdown",
   "metadata": {},
   "source": [
    "### 24 June\n",
    "First Square Pattern"
   ]
  },
  {
   "cell_type": "code",
   "execution_count": null,
   "metadata": {},
   "outputs": [],
   "source": [
    "n = 10\n",
    "a =1\n",
    "while a<=n:\n",
    "    j =1\n",
    "    while j<=n:\n",
    "        print(n, end = ' ')\n",
    "        j+=1\n",
    "\n",
    "    print()\n",
    "    a+=1"
   ]
  },
  {
   "cell_type": "markdown",
   "metadata": {},
   "source": [
    "### **25 June**"
   ]
  },
  {
   "cell_type": "code",
   "execution_count": null,
   "metadata": {},
   "outputs": [],
   "source": [
    "def swapalternative(arr, n):\n",
    "    for i in range(0,n,2):\n",
    "        temp = arr[i]\n",
    "        if temp!=arr[n-1]:\n",
    "            arr[i]=arr[i+1]\n",
    "            arr[i+1] = temp\n",
    "\n",
    "    return arr\n",
    "\n",
    "\n",
    "# arr = [1,2,3,4,5,6,7]\n",
    "arr = [1,2,3,4,5,6]\n",
    "n = len(arr)\n",
    "swapalternative(arr, n)"
   ]
  },
  {
   "cell_type": "code",
   "execution_count": 1,
   "metadata": {},
   "outputs": [
    {
     "name": "stdout",
     "output_type": "stream",
     "text": [
      "[10, 34, 56, [95]] [10, 34, 56, [95]]\n"
     ]
    }
   ],
   "source": [
    "a = [10,23,56,[78]]\n",
    "\n",
    "b = a\n",
    "\n",
    "a[3][0] = 95\n",
    "a[1] = 34\n",
    "\n",
    "print(a, b)"
   ]
  },
  {
   "cell_type": "markdown",
   "metadata": {},
   "source": [
    "### 29 June "
   ]
  },
  {
   "cell_type": "code",
   "execution_count": 1,
   "metadata": {},
   "outputs": [
    {
     "data": {
      "text/plain": [
       "(36, 40320)"
      ]
     },
     "execution_count": 1,
     "metadata": {},
     "output_type": "execute_result"
    }
   ],
   "source": [
    "def sum_multiply(a,b, *more):\n",
    "    sum_value = a+b\n",
    "    m_value = a*b\n",
    "\n",
    "    for i in more:\n",
    "        sum_value = sum_value+i\n",
    "        m_value = m_value*i\n",
    "\n",
    "    return sum_value, m_value\n",
    "\n",
    "sum_multiply(1,2,3,4,5,6,7,8)"
   ]
  },
  {
   "cell_type": "markdown",
   "metadata": {},
   "source": [
    "#### 7 August"
   ]
  },
  {
   "cell_type": "code",
   "execution_count": 3,
   "metadata": {},
   "outputs": [
    {
     "data": {
      "text/plain": [
       "{'abc', 'apple'}"
      ]
     },
     "execution_count": 3,
     "metadata": {},
     "output_type": "execute_result"
    }
   ],
   "source": [
    "a = {'apple', 'abc', 23}\n",
    "\n",
    "a.discard(23)\n",
    "a"
   ]
  },
  {
   "cell_type": "code",
   "execution_count": 5,
   "metadata": {},
   "outputs": [
    {
     "data": {
      "text/plain": [
       "{'abc', 'apple', 'temp'}"
      ]
     },
     "execution_count": 5,
     "metadata": {},
     "output_type": "execute_result"
    }
   ],
   "source": [
    "a.add('temp')\n",
    "a"
   ]
  },
  {
   "cell_type": "markdown",
   "metadata": {},
   "source": [
    "#### 9 August"
   ]
  },
  {
   "cell_type": "code",
   "execution_count": 1,
   "metadata": {},
   "outputs": [
    {
     "data": {
      "text/plain": [
       "2"
      ]
     },
     "execution_count": 1,
     "metadata": {},
     "output_type": "execute_result"
    }
   ],
   "source": [
    "a = {1:2, 2:4, 'list': [1,2,3]}\n",
    "a.get(1)"
   ]
  },
  {
   "cell_type": "code",
   "execution_count": 2,
   "metadata": {},
   "outputs": [
    {
     "data": {
      "text/plain": [
       "0"
      ]
     },
     "execution_count": 2,
     "metadata": {},
     "output_type": "execute_result"
    }
   ],
   "source": [
    "a.get('li', 0)"
   ]
  },
  {
   "cell_type": "code",
   "execution_count": 3,
   "metadata": {},
   "outputs": [
    {
     "data": {
      "text/plain": [
       "[1, 2, 3]"
      ]
     },
     "execution_count": 3,
     "metadata": {},
     "output_type": "execute_result"
    }
   ],
   "source": [
    "a.get('list', 0)"
   ]
  },
  {
   "cell_type": "code",
   "execution_count": 1,
   "metadata": {},
   "outputs": [
    {
     "name": "stdout",
     "output_type": "stream",
     "text": [
      "John\n",
      "36\n"
     ]
    }
   ],
   "source": [
    "class Person:\n",
    "  def __init__(self, name, age):\n",
    "    self.name = name\n",
    "    self.age = age\n",
    "\n",
    "p1 = Person(\"John\", 36)\n",
    "\n",
    "print(p1.name)\n",
    "print(p1.age)"
   ]
  },
  {
   "cell_type": "markdown",
   "metadata": {},
   "source": [
    "# Insert a function that prints a greeting, and execute it on the p1 object:"
   ]
  },
  {
   "cell_type": "code",
   "execution_count": 2,
   "metadata": {},
   "outputs": [
    {
     "name": "stdout",
     "output_type": "stream",
     "text": [
      "Hello my name is John\n"
     ]
    }
   ],
   "source": [
    "\n",
    "\n",
    "class Person:\n",
    "  def __init__(self, name, age):\n",
    "    self.name = name\n",
    "    self.age = age\n",
    "\n",
    "  def myfunc(self):\n",
    "    print(\"Hello my name is \" + self.name)\n",
    "\n",
    "p1 = Person(\"John\", 36)\n",
    "p1.myfunc()"
   ]
  },
  {
   "cell_type": "code",
   "execution_count": 3,
   "metadata": {},
   "outputs": [
    {
     "name": "stdout",
     "output_type": "stream",
     "text": [
      "The Godfather - Drama, Crime, \n",
      "The Shawshank Redemption - Drama, Crime, \n",
      "Puss in Boots: The Last Wish - Animation, Action, Adventure, Comedy, Family, Fantasy, \n",
      "The Godfather Part II - Drama, Crime, \n",
      "Schindler's List - Drama, History, War, \n",
      "12 Angry Men - Drama, \n",
      "The Green Mile - Fantasy, Drama, Crime, \n",
      "The Dark Knight - Drama, Action, Crime, Thriller, \n",
      "Pulp Fiction - Thriller, Crime, \n",
      "Forrest Gump - Comedy, Drama, Romance, \n"
     ]
    }
   ],
   "source": [
    "import requests\n",
    "## Write your code here\n",
    "apiKey = 'ffafe1f2b141d9a9fcae15771fe46db1'\n",
    "\n",
    "# find id of genres\n",
    "res = requests.get('https://api.themoviedb.org/3/genre/movie/list',params={'api_key':apiKey}) \n",
    "data=res.json()\n",
    "genres={}\n",
    "for i in data['genres']:\n",
    "    genres[i['id']]=i['name']\n",
    "genres\n",
    "\n",
    "\n",
    "res = requests.get('https://api.themoviedb.org/3/movie/top_rated',params={'api_key':apiKey,'region':'US'}) \n",
    "data=res.json()\n",
    "data['results']\n",
    "count=0\n",
    "for i in data['results']:\n",
    "    if i['original_language']=='en':\n",
    "        print(i['title'],end=' - ')\n",
    "        for j in i['genre_ids']:\n",
    "            print(genres[j],end=', ')\n",
    "        print()\n",
    "        count+=1\n",
    "    if count==10:\n",
    "        break"
   ]
  },
  {
   "cell_type": "code",
   "execution_count": 5,
   "metadata": {},
   "outputs": [
    {
     "ename": "KeyError",
     "evalue": "'genres'",
     "output_type": "error",
     "traceback": [
      "\u001b[1;31m---------------------------------------------------------------------------\u001b[0m",
      "\u001b[1;31mKeyError\u001b[0m                                  Traceback (most recent call last)",
      "\u001b[1;32mc:\\Users\\sgupt\\OneDrive\\Pictures\\Documents\\GitHub\\coding_ninja\\practice\\code_daily.ipynb Cell 58\u001b[0m in \u001b[0;36m<cell line: 1>\u001b[1;34m()\u001b[0m\n\u001b[1;32m----> <a href='vscode-notebook-cell:/c%3A/Users/sgupt/OneDrive/Pictures/Documents/GitHub/coding_ninja/practice/code_daily.ipynb#Y111sZmlsZQ%3D%3D?line=0'>1</a>\u001b[0m data[\u001b[39m'\u001b[39;49m\u001b[39mgenres\u001b[39;49m\u001b[39m'\u001b[39;49m]\n",
      "\u001b[1;31mKeyError\u001b[0m: 'genres'"
     ]
    }
   ],
   "source": [
    "data['genres']"
   ]
  },
  {
   "cell_type": "code",
   "execution_count": 6,
   "metadata": {},
   "outputs": [],
   "source": [
    "import requests\n",
    "\n",
    "api_key = '170e001dc38f22732dea592db0f5a5c0'\n",
    "lang = 'en-US'\n",
    "reg = 'US'\n",
    "\n",
    "r = requests.get(\"https://api.themoviedb.org/3/movie/top_rated\", \n",
    "                        params={'api_key':api_key, 'language' : lang, 'region' : reg})\n",
    "\n",
    "# r = requests.get(\"?api_key=\" + api_key + \"&query=Andhadhun\")\n",
    "\n",
    "a = r.json()['results']\n",
    "\n",
    "\n",
    "g = requests.get(\"https://api.themoviedb.org/3/genre/movie/list\", params = {'api_key' : api_key})\n",
    "\n",
    "gid = g.json()['genres']"
   ]
  },
  {
   "cell_type": "code",
   "execution_count": 7,
   "metadata": {},
   "outputs": [
    {
     "data": {
      "text/plain": [
       "[{'id': 28, 'name': 'Action'},\n",
       " {'id': 12, 'name': 'Adventure'},\n",
       " {'id': 16, 'name': 'Animation'},\n",
       " {'id': 35, 'name': 'Comedy'},\n",
       " {'id': 80, 'name': 'Crime'},\n",
       " {'id': 99, 'name': 'Documentary'},\n",
       " {'id': 18, 'name': 'Drama'},\n",
       " {'id': 10751, 'name': 'Family'},\n",
       " {'id': 14, 'name': 'Fantasy'},\n",
       " {'id': 36, 'name': 'History'},\n",
       " {'id': 27, 'name': 'Horror'},\n",
       " {'id': 10402, 'name': 'Music'},\n",
       " {'id': 9648, 'name': 'Mystery'},\n",
       " {'id': 10749, 'name': 'Romance'},\n",
       " {'id': 878, 'name': 'Science Fiction'},\n",
       " {'id': 10770, 'name': 'TV Movie'},\n",
       " {'id': 53, 'name': 'Thriller'},\n",
       " {'id': 10752, 'name': 'War'},\n",
       " {'id': 37, 'name': 'Western'}]"
      ]
     },
     "execution_count": 7,
     "metadata": {},
     "output_type": "execute_result"
    }
   ],
   "source": [
    "gid"
   ]
  },
  {
   "cell_type": "code",
   "execution_count": 8,
   "metadata": {},
   "outputs": [
    {
     "name": "stdout",
     "output_type": "stream",
     "text": [
      "The Godfather  -  Drama, Crime\n",
      "The Shawshank Redemption  -  Drama, Crime\n",
      "Puss in Boots: The Last Wish  -  Animation, Action, Adventure, Comedy, Family, Fantasy\n",
      "The Godfather Part II  -  Drama, Crime\n",
      "Schindler's List  -  Drama, History, War\n",
      "12 Angry Men  -  Drama\n",
      "The Green Mile  -  Fantasy, Drama, Crime\n",
      "The Dark Knight  -  Drama, Action, Crime, Thriller\n",
      "Pulp Fiction  -  Thriller, Crime\n",
      "Forrest Gump  -  Comedy, Drama, Romance\n"
     ]
    }
   ],
   "source": [
    "## Fetch the top rated english movies in the US region using the TMDb API. \n",
    "## From the result, print the first 10 movies which have original language as english. Also print their genres.\n",
    "\n",
    "import json\n",
    "import requests\n",
    "\n",
    "api_key = '170e001dc38f22732dea592db0f5a5c0'\n",
    "lang = 'en-US'\n",
    "reg = 'US'\n",
    "\n",
    "r = requests.get(\"https://api.themoviedb.org/3/movie/top_rated\", \n",
    "                        params={'api_key':api_key, 'language' : lang, 'region' : reg})\n",
    "\n",
    "# r = requests.get(\"?api_key=\" + api_key + \"&query=Andhadhun\")\n",
    "\n",
    "a = r.json()['results']\n",
    "\n",
    "\n",
    "g = requests.get(\"https://api.themoviedb.org/3/genre/movie/list\", params = {'api_key' : api_key})\n",
    "\n",
    "gid = g.json()['genres']\n",
    "\n",
    "d = {}\n",
    "\n",
    "for i in gid:\n",
    "    d[i['id']] = i['name']\n",
    "\n",
    "e = {}\n",
    "for i in a:\n",
    "    if i['original_language'] == 'en':\n",
    "        e[i['title']] = str([d[i['genre_ids'][k]] for k in range(len(i['genre_ids']))])\n",
    "\n",
    "for k in e:\n",
    "    e[k] = e[k].replace('[', \"\")\n",
    "    e[k] = e[k].replace(']', \"\")\n",
    "    e[k] = e[k].replace('\\'', \"\")\n",
    "\n",
    "c = 0\n",
    "for k, v in e.items():\n",
    "    print(k,' - ', v)\n",
    "    c= c+1\n",
    "    if c == 10:\n",
    "        break"
   ]
  },
  {
   "cell_type": "code",
   "execution_count": 11,
   "metadata": {},
   "outputs": [
    {
     "name": "stdout",
     "output_type": "stream",
     "text": [
      "400\n"
     ]
    }
   ],
   "source": [
    "import requests\n",
    "\n",
    "data = requests.get('https://api.openweathermap.org/data/2.5/weather', params = {'appid':'c7ac7cd7b653629ae29eb3d17d8c2bc0'})\n",
    "\n",
    "print(data.status_code)"
   ]
  },
  {
   "cell_type": "code",
   "execution_count": 15,
   "metadata": {},
   "outputs": [
    {
     "name": "stdout",
     "output_type": "stream",
     "text": [
      "Hyderabad\n",
      "Temperature: 301.38\n",
      "Weather Report: haze\n"
     ]
    }
   ],
   "source": [
    "import requests\n",
    "response = requests.get('https://api.openweathermap.org/data/2.5/weather',params={'q':'Hyderabad','appid':'fdbff6e3e848b6f6a760394f271379bc'})\n",
    "data=response.json()\n",
    "print(data['name'])\n",
    "print('Temperature:',data['main']['temp'])\n",
    "print('Weather Report:',data['weather'][0]['description'])"
   ]
  },
  {
   "cell_type": "code",
   "execution_count": null,
   "metadata": {},
   "outputs": [],
   "source": []
  },
  {
   "cell_type": "code",
   "execution_count": null,
   "metadata": {},
   "outputs": [],
   "source": []
  }
 ],
 "metadata": {
  "kernelspec": {
   "display_name": "Python 3.8.5 ('vaishali')",
   "language": "python",
   "name": "python3"
  },
  "language_info": {
   "codemirror_mode": {
    "name": "ipython",
    "version": 3
   },
   "file_extension": ".py",
   "mimetype": "text/x-python",
   "name": "python",
   "nbconvert_exporter": "python",
   "pygments_lexer": "ipython3",
   "version": "3.8.5"
  },
  "orig_nbformat": 4,
  "vscode": {
   "interpreter": {
    "hash": "c626c7f027fd81c21c9d33e27e9da6944415f92c80192dd5d04cdc4b243efcd0"
   }
  }
 },
 "nbformat": 4,
 "nbformat_minor": 2
}
