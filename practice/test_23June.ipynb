{
 "cells": [
  {
   "cell_type": "markdown",
   "metadata": {},
   "source": [
    "Q1.\n",
    "Find weighted average:\n",
    "\n",
    "input:\n",
    "\n",
    "sem1_marks = 67\n",
    "\n",
    "sem2_marks = 89\n",
    "\n",
    "sem3_marks = 45\n",
    "\n",
    "sem4_marks = 65\n",
    "\n",
    "formula:\n",
    "\n",
    "w_avg = (1xsem1_marks +2xsem2_marks +3xsem3_marks +4xsem4_marks )/(1+2+3+4) \n",
    "\n",
    "output:\n",
    "print(w_avg)"
   ]
  },
  {
   "cell_type": "code",
   "execution_count": 1,
   "metadata": {},
   "outputs": [
    {
     "name": "stdout",
     "output_type": "stream",
     "text": [
      "64.0\n"
     ]
    }
   ],
   "source": [
    "sem1_marks = 67\n",
    "\n",
    "sem2_marks = 89\n",
    "\n",
    "sem3_marks = 45\n",
    "\n",
    "sem4_marks = 65\n",
    "w_avg = ((1*sem1_marks) +(2*sem2_marks) +(3*sem3_marks) +(4*sem4_marks) )/(1+2+3+4)\n",
    "print(w_avg)\n"
   ]
  },
  {
   "cell_type": "code",
   "execution_count": null,
   "metadata": {},
   "outputs": [],
   "source": [
    "sem1_marks = 67\n",
    "\n",
    "sem2_marks = 89\n",
    "\n",
    "sem3_marks = 45\n",
    "\n",
    "sem4_marks = 65\n",
    "w_avg = ((1*sem1_marks) +(2*sem2_marks) +(3*sem3_marks) +(4*sem4_marks) )/(1+2+3+4)\n",
    "print(w_avg)\n"
   ]
  },
  {
   "cell_type": "markdown",
   "metadata": {},
   "source": [
    "Q2:\n",
    "Find GP. \n",
    "\n",
    "- first_term(a1) = 1,\n",
    "- common_ratio(r) = 2,\n",
    "- total_terms(n) = 10\n",
    "\n",
    "formula for nth term of GP: a1*r^(n-1)\n",
    "\n",
    "print from first term to nth term of the GP series"
   ]
  },
  {
   "cell_type": "code",
   "execution_count": 9,
   "metadata": {},
   "outputs": [
    {
     "name": "stdout",
     "output_type": "stream",
     "text": [
      "1 2 4 8 16 32 64 128 256 512 1024 "
     ]
    }
   ],
   "source": [
    "a1=1\n",
    "r=2\n",
    "n=10\n",
    "i=0\n",
    "while(i<=n):\n",
    "    gp=a1*(r**(i))\n",
    "    i=i+1\n",
    "    print(gp,end=\" \")"
   ]
  },
  {
   "cell_type": "markdown",
   "metadata": {},
   "source": [
    "Q3: Farenheit to Kelvin\n",
    "\n",
    "- input: F= 45\n",
    "- output: K= 280.372 (approx)\n",
    "\n",
    "Kelvin = Celsius + 273.15\n",
    "\n",
    "Hint: Convert F to C then K. You can refer you notebook if you don't remember the formula."
   ]
  },
  {
   "cell_type": "code",
   "execution_count": 11,
   "metadata": {},
   "outputs": [
    {
     "name": "stdout",
     "output_type": "stream",
     "text": [
      "280.3722222222222\n"
     ]
    }
   ],
   "source": [
    "f=45\n",
    "c=5*(f-32)/9\n",
    "k=c+273.15\n",
    "print(k)"
   ]
  },
  {
   "cell_type": "code",
   "execution_count": null,
   "metadata": {},
   "outputs": [],
   "source": []
  }
 ],
 "metadata": {
  "kernelspec": {
   "display_name": "Python 3.10.4 ('saurabh')",
   "language": "python",
   "name": "python3"
  },
  "language_info": {
   "codemirror_mode": {
    "name": "ipython",
    "version": 3
   },
   "file_extension": ".py",
   "mimetype": "text/x-python",
   "name": "python",
   "nbconvert_exporter": "python",
   "pygments_lexer": "ipython3",
   "version": "3.10.4"
  },
  "orig_nbformat": 4,
  "vscode": {
   "interpreter": {
    "hash": "15c9e7f3e4c79f058aa4ff0a9234015b2656b12cc7cead430c8d4992e190e17f"
   }
  }
 },
 "nbformat": 4,
 "nbformat_minor": 2
}
