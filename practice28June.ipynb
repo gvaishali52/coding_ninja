{
  "cells": [
    {
      "cell_type": "markdown",
      "metadata": {
        "colab_type": "text",
        "id": "view-in-github"
      },
      "source": [
        "<a href=\"https://colab.research.google.com/github/gvaishali52/coding_ninja/blob/main/practice28June.ipynb\" target=\"_parent\"><img src=\"https://colab.research.google.com/assets/colab-badge.svg\" alt=\"Open In Colab\"/></a>"
      ]
    },
    {
      "cell_type": "code",
      "execution_count": 3,
      "metadata": {
        "colab": {
          "base_uri": "https://localhost:8080/"
        },
        "id": "uOqFWi-rBOBM",
        "outputId": "e2cbaa64-438f-412c-b837-0670722dd03f"
      },
      "outputs": [
        {
          "name": "stdout",
          "output_type": "stream",
          "text": [
            "Hello\n"
          ]
        }
      ],
      "source": [
        "print(\"Hello\")"
      ]
    },
    {
      "cell_type": "code",
      "execution_count": 4,
      "metadata": {
        "colab": {
          "base_uri": "https://localhost:8080/",
          "height": 35
        },
        "id": "PHwRqp7oBSPG",
        "outputId": "6671b029-4ebd-494e-8e8e-7451f8334948"
      },
      "outputs": [
        {
          "data": {
            "text/plain": [
              "'unos si hbaruas'"
            ]
          },
          "execution_count": 4,
          "metadata": {},
          "output_type": "execute_result"
        }
      ],
      "source": [
        "def reverse(input_):\n",
        "  return input_[::-1]\n",
        "\n",
        "a = \"saurabh is sonu\"\n",
        "reverse(a)\n"
      ]
    },
    {
      "cell_type": "code",
      "execution_count": 8,
      "metadata": {
        "colab": {
          "base_uri": "https://localhost:8080/"
        },
        "id": "hZfpGZ12CWOB",
        "outputId": "0a1e59f1-96eb-4cce-9a6c-41df02e64004"
      },
      "outputs": [
        {
          "data": {
            "text/plain": [
              "['Hryvsvsbbdm', 'sndn', 'hdhd', 'hhdjd']"
            ]
          },
          "execution_count": 8,
          "metadata": {},
          "output_type": "execute_result"
        }
      ],
      "source": [
        "str = \"Hryvsvsbbdm  sndn  hdhd hhdjd    \"\n",
        "str.strip().split()"
      ]
    },
    {
      "cell_type": "code",
      "execution_count": null,
      "metadata": {},
      "outputs": [],
      "source": []
    }
  ],
  "metadata": {
    "colab": {
      "authorship_tag": "ABX9TyO34WnwYcixA5VrDVWTyJRC",
      "include_colab_link": true,
      "name": "practice28June.ipynb",
      "provenance": []
    },
    "kernelspec": {
      "display_name": "Python 3.8.5 ('vaishali')",
      "language": "python",
      "name": "python3"
    },
    "language_info": {
      "codemirror_mode": {
        "name": "ipython",
        "version": 3
      },
      "file_extension": ".py",
      "mimetype": "text/x-python",
      "name": "python",
      "nbconvert_exporter": "python",
      "pygments_lexer": "ipython3",
      "version": "3.8.5"
    },
    "vscode": {
      "interpreter": {
        "hash": "c626c7f027fd81c21c9d33e27e9da6944415f92c80192dd5d04cdc4b243efcd0"
      }
    }
  },
  "nbformat": 4,
  "nbformat_minor": 0
}
