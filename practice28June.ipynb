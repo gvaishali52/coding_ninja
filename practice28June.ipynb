{
  "nbformat": 4,
  "nbformat_minor": 0,
  "metadata": {
    "colab": {
      "name": "practice28June.ipynb",
      "provenance": [],
      "authorship_tag": "ABX9TyO34WnwYcixA5VrDVWTyJRC",
      "include_colab_link": true
    },
    "kernelspec": {
      "name": "python3",
      "display_name": "Python 3"
    },
    "language_info": {
      "name": "python"
    }
  },
  "cells": [
    {
      "cell_type": "markdown",
      "metadata": {
        "id": "view-in-github",
        "colab_type": "text"
      },
      "source": [
        "<a href=\"https://colab.research.google.com/github/gvaishali52/coding_ninja/blob/main/practice28June.ipynb\" target=\"_parent\"><img src=\"https://colab.research.google.com/assets/colab-badge.svg\" alt=\"Open In Colab\"/></a>"
      ]
    },
    {
      "cell_type": "code",
      "source": [
        "print(\"Hello\")"
      ],
      "metadata": {
        "colab": {
          "base_uri": "https://localhost:8080/"
        },
        "id": "uOqFWi-rBOBM",
        "outputId": "e2cbaa64-438f-412c-b837-0670722dd03f"
      },
      "execution_count": null,
      "outputs": [
        {
          "output_type": "stream",
          "name": "stdout",
          "text": [
            "Hello\n"
          ]
        }
      ]
    },
    {
      "cell_type": "code",
      "source": [
        "def reverse(input_):\n",
        "  return input_[::-1]\n",
        "\n",
        "a = \"saurabh is sonu\"\n",
        "reverse(a)\n"
      ],
      "metadata": {
        "id": "PHwRqp7oBSPG",
        "colab": {
          "base_uri": "https://localhost:8080/",
          "height": 35
        },
        "outputId": "6671b029-4ebd-494e-8e8e-7451f8334948"
      },
      "execution_count": null,
      "outputs": [
        {
          "output_type": "execute_result",
          "data": {
            "text/plain": [
              "'unos si hbaruas'"
            ],
            "application/vnd.google.colaboratory.intrinsic+json": {
              "type": "string"
            }
          },
          "metadata": {},
          "execution_count": 7
        }
      ]
    },
    {
      "cell_type": "code",
      "source": [
        "str = \"Hryvsvsbbdm  sndn  hdhd hhdjd \"\n",
        "str.split()"
      ],
      "metadata": {
        "id": "hZfpGZ12CWOB",
        "outputId": "0a1e59f1-96eb-4cce-9a6c-41df02e64004",
        "colab": {
          "base_uri": "https://localhost:8080/"
        }
      },
      "execution_count": 2,
      "outputs": [
        {
          "output_type": "execute_result",
          "data": {
            "text/plain": [
              "['Hryvsvsbbdm', 'sndn', 'hdhd', 'hhdjd']"
            ]
          },
          "metadata": {},
          "execution_count": 2
        }
      ]
    }
  ]
}