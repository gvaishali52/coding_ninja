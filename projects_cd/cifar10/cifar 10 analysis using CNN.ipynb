{
 "cells": [
  {
   "cell_type": "code",
   "execution_count": 1,
   "metadata": {},
   "outputs": [
    {
     "name": "stderr",
     "output_type": "stream",
     "text": [
      "Using TensorFlow backend.\n"
     ]
    }
   ],
   "source": [
    "import cifar10\n",
    "from keras.layers import Dense, Dropout, Flatten, Conv2D, MaxPooling2D\n",
    "from keras.models import Sequential\n",
    "import tensorflow as tf\n",
    "import keras"
   ]
  },
  {
   "cell_type": "code",
   "execution_count": 2,
   "metadata": {},
   "outputs": [],
   "source": [
    "cifar10.data_path = \"data/CIFAR-10/\""
   ]
  },
  {
   "cell_type": "code",
   "execution_count": 3,
   "metadata": {},
   "outputs": [
    {
     "name": "stdout",
     "output_type": "stream",
     "text": [
      "Data has apparently already been downloaded and unpacked.\n"
     ]
    }
   ],
   "source": [
    "cifar10.maybe_download_and_extract()"
   ]
  },
  {
   "cell_type": "code",
   "execution_count": 4,
   "metadata": {},
   "outputs": [
    {
     "name": "stdout",
     "output_type": "stream",
     "text": [
      "Loading data: data/CIFAR-10/cifar-10-batches-py/batches.meta\n"
     ]
    },
    {
     "data": {
      "text/plain": [
       "['airplane',\n",
       " 'automobile',\n",
       " 'bird',\n",
       " 'cat',\n",
       " 'deer',\n",
       " 'dog',\n",
       " 'frog',\n",
       " 'horse',\n",
       " 'ship',\n",
       " 'truck']"
      ]
     },
     "execution_count": 4,
     "metadata": {},
     "output_type": "execute_result"
    }
   ],
   "source": [
    "class_names = cifar10.load_class_names()\n",
    "class_names"
   ]
  },
  {
   "cell_type": "code",
   "execution_count": 5,
   "metadata": {},
   "outputs": [
    {
     "name": "stdout",
     "output_type": "stream",
     "text": [
      "Loading data: data/CIFAR-10/cifar-10-batches-py/data_batch_1\n",
      "Loading data: data/CIFAR-10/cifar-10-batches-py/data_batch_2\n",
      "Loading data: data/CIFAR-10/cifar-10-batches-py/data_batch_3\n",
      "Loading data: data/CIFAR-10/cifar-10-batches-py/data_batch_4\n",
      "Loading data: data/CIFAR-10/cifar-10-batches-py/data_batch_5\n",
      "Loading data: data/CIFAR-10/cifar-10-batches-py/test_batch\n"
     ]
    }
   ],
   "source": [
    "images_train, cls_train, labels_train = cifar10.load_training_data()\n",
    "images_test, cls_test, labels_test = cifar10.load_test_data()"
   ]
  },
  {
   "cell_type": "code",
   "execution_count": 6,
   "metadata": {},
   "outputs": [
    {
     "name": "stdout",
     "output_type": "stream",
     "text": [
      "images_train=  (50000, 32, 32, 3)\n",
      "class_train=  (50000,)\n",
      "label_train=  (50000, 10)\n"
     ]
    }
   ],
   "source": [
    "print(\"images_train= \", images_train.shape)\n",
    "print(\"class_train= \", cls_train.shape)\n",
    "print(\"label_train= \", labels_train.shape)"
   ]
  },
  {
   "cell_type": "code",
   "execution_count": 8,
   "metadata": {},
   "outputs": [],
   "source": [
    "x_train=images_train\n",
    "x_test=images_test\n",
    "y_train=cls_train\n",
    "y_test=cls_test\n",
    "y_train_categorial=labels_train\n",
    "y_test_categorial=labels_test"
   ]
  },
  {
   "cell_type": "code",
   "execution_count": 9,
   "metadata": {},
   "outputs": [],
   "source": [
    "batch_size=1000\n",
    "n_classes=10\n",
    "epochs=100"
   ]
  },
  {
   "cell_type": "code",
   "execution_count": 10,
   "metadata": {},
   "outputs": [
    {
     "name": "stdout",
     "output_type": "stream",
     "text": [
      "WARNING:tensorflow:From C:\\ProgramData\\Anaconda3\\lib\\site-packages\\keras\\backend\\tensorflow_backend.py:74: The name tf.get_default_graph is deprecated. Please use tf.compat.v1.get_default_graph instead.\n",
      "\n",
      "WARNING:tensorflow:From C:\\ProgramData\\Anaconda3\\lib\\site-packages\\keras\\backend\\tensorflow_backend.py:517: The name tf.placeholder is deprecated. Please use tf.compat.v1.placeholder instead.\n",
      "\n",
      "WARNING:tensorflow:From C:\\ProgramData\\Anaconda3\\lib\\site-packages\\keras\\backend\\tensorflow_backend.py:4138: The name tf.random_uniform is deprecated. Please use tf.random.uniform instead.\n",
      "\n",
      "WARNING:tensorflow:From C:\\ProgramData\\Anaconda3\\lib\\site-packages\\keras\\backend\\tensorflow_backend.py:3976: The name tf.nn.max_pool is deprecated. Please use tf.nn.max_pool2d instead.\n",
      "\n",
      "WARNING:tensorflow:From C:\\ProgramData\\Anaconda3\\lib\\site-packages\\keras\\backend\\tensorflow_backend.py:133: The name tf.placeholder_with_default is deprecated. Please use tf.compat.v1.placeholder_with_default instead.\n",
      "\n",
      "WARNING:tensorflow:From C:\\ProgramData\\Anaconda3\\lib\\site-packages\\keras\\backend\\tensorflow_backend.py:3445: calling dropout (from tensorflow.python.ops.nn_ops) with keep_prob is deprecated and will be removed in a future version.\n",
      "Instructions for updating:\n",
      "Please use `rate` instead of `keep_prob`. Rate should be set to `rate = 1 - keep_prob`.\n",
      "WARNING:tensorflow:From C:\\ProgramData\\Anaconda3\\lib\\site-packages\\keras\\backend\\tensorflow_backend.py:3217: where (from tensorflow.python.ops.array_ops) is deprecated and will be removed in a future version.\n",
      "Instructions for updating:\n",
      "Use tf.where in 2.0, which has the same broadcast rule as np.where\n"
     ]
    }
   ],
   "source": [
    "model=Sequential()\n",
    "model.add(Conv2D(32, kernel_size=(4, 4), strides=(1,1), padding='same', input_shape=(32, 32, 3), activation='relu'))\n",
    "model.add(MaxPooling2D(pool_size=(2, 2)))\n",
    "model.add(Dropout(0.1))\n",
    "\n",
    "model.add(Conv2D(32, kernel_size=(4, 4), strides=(1, 1), padding='same', activation='selu'))\n",
    "model.add(MaxPooling2D(pool_size=(2, 2)))\n",
    "model.add(Dropout(0.1))\n",
    "\n",
    "model.add(Flatten())\n",
    "model.add(Dense(16, activation='sigmoid'))\n",
    "\n",
    "model.add(Dense(n_classes, activation='softmax'))"
   ]
  },
  {
   "cell_type": "code",
   "execution_count": 11,
   "metadata": {},
   "outputs": [
    {
     "name": "stdout",
     "output_type": "stream",
     "text": [
      "WARNING:tensorflow:From C:\\ProgramData\\Anaconda3\\lib\\site-packages\\keras\\optimizers.py:790: The name tf.train.Optimizer is deprecated. Please use tf.compat.v1.train.Optimizer instead.\n",
      "\n",
      "WARNING:tensorflow:From C:\\ProgramData\\Anaconda3\\lib\\site-packages\\keras\\backend\\tensorflow_backend.py:3295: The name tf.log is deprecated. Please use tf.math.log instead.\n",
      "\n"
     ]
    }
   ],
   "source": [
    "model.compile(loss='categorical_crossentropy', optimizer=keras.optimizers.SGD(lr=0.8), metrics=['accuracy'])"
   ]
  },
  {
   "cell_type": "code",
   "execution_count": 14,
   "metadata": {
    "scrolled": true
   },
   "outputs": [
    {
     "name": "stdout",
     "output_type": "stream",
     "text": [
      "Epoch 1/100\n",
      "50000/50000 [==============================] - 2s 46us/step - loss: 0.8064 - acc: 0.7214\n",
      "Epoch 2/100\n",
      "50000/50000 [==============================] - 2s 45us/step - loss: 0.8036 - acc: 0.7241\n",
      "Epoch 3/100\n",
      "50000/50000 [==============================] - 2s 45us/step - loss: 0.8081 - acc: 0.7196\n",
      "Epoch 4/100\n",
      "50000/50000 [==============================] - 2s 45us/step - loss: 0.7910 - acc: 0.7269\n",
      "Epoch 5/100\n",
      "50000/50000 [==============================] - 2s 45us/step - loss: 0.7827 - acc: 0.7295\n",
      "Epoch 6/100\n",
      "50000/50000 [==============================] - 2s 45us/step - loss: 0.7945 - acc: 0.7270: 1s - loss:\n",
      "Epoch 7/100\n",
      "50000/50000 [==============================] - 2s 45us/step - loss: 0.7879 - acc: 0.7291\n",
      "Epoch 8/100\n",
      "50000/50000 [==============================] - 2s 45us/step - loss: 0.7895 - acc: 0.7275\n",
      "Epoch 9/100\n",
      "50000/50000 [==============================] - 2s 45us/step - loss: 0.8043 - acc: 0.7215\n",
      "Epoch 10/100\n",
      "50000/50000 [==============================] - 2s 45us/step - loss: 0.7959 - acc: 0.7219\n",
      "Epoch 11/100\n",
      "50000/50000 [==============================] - 2s 45us/step - loss: 0.7930 - acc: 0.7260\n",
      "Epoch 12/100\n",
      "50000/50000 [==============================] - 2s 45us/step - loss: 0.7948 - acc: 0.7256\n",
      "Epoch 13/100\n",
      "50000/50000 [==============================] - 2s 45us/step - loss: 0.7960 - acc: 0.7245\n",
      "Epoch 14/100\n",
      "50000/50000 [==============================] - 2s 45us/step - loss: 0.7665 - acc: 0.7335\n",
      "Epoch 15/100\n",
      "50000/50000 [==============================] - 2s 45us/step - loss: 0.8340 - acc: 0.7131\n",
      "Epoch 16/100\n",
      "50000/50000 [==============================] - 2s 45us/step - loss: 0.7857 - acc: 0.7270\n",
      "Epoch 17/100\n",
      "50000/50000 [==============================] - 2s 45us/step - loss: 0.7840 - acc: 0.7295\n",
      "Epoch 18/100\n",
      "50000/50000 [==============================] - 2s 45us/step - loss: 0.7840 - acc: 0.7307\n",
      "Epoch 19/100\n",
      "50000/50000 [==============================] - 2s 45us/step - loss: 0.7646 - acc: 0.7342\n",
      "Epoch 20/100\n",
      "50000/50000 [==============================] - 2s 45us/step - loss: 0.7702 - acc: 0.7344\n",
      "Epoch 21/100\n",
      "50000/50000 [==============================] - 2s 45us/step - loss: 0.7632 - acc: 0.7367\n",
      "Epoch 22/100\n",
      "50000/50000 [==============================] - 2s 45us/step - loss: 0.7651 - acc: 0.7339\n",
      "Epoch 23/100\n",
      "50000/50000 [==============================] - 2s 46us/step - loss: 0.7644 - acc: 0.7362\n",
      "Epoch 24/100\n",
      "50000/50000 [==============================] - 2s 46us/step - loss: 0.7749 - acc: 0.7324\n",
      "Epoch 25/100\n",
      "50000/50000 [==============================] - 2s 46us/step - loss: 0.7655 - acc: 0.7358\n",
      "Epoch 26/100\n",
      "50000/50000 [==============================] - 2s 46us/step - loss: 0.7681 - acc: 0.7351\n",
      "Epoch 27/100\n",
      "50000/50000 [==============================] - 2s 45us/step - loss: 0.7600 - acc: 0.7379\n",
      "Epoch 28/100\n",
      "50000/50000 [==============================] - 2s 45us/step - loss: 0.7526 - acc: 0.7388\n",
      "Epoch 29/100\n",
      "50000/50000 [==============================] - 2s 45us/step - loss: 0.7849 - acc: 0.7293\n",
      "Epoch 30/100\n",
      "50000/50000 [==============================] - 2s 45us/step - loss: 0.7830 - acc: 0.7287\n",
      "Epoch 31/100\n",
      "50000/50000 [==============================] - 2s 45us/step - loss: 0.7686 - acc: 0.7345\n",
      "Epoch 32/100\n",
      "50000/50000 [==============================] - 2s 46us/step - loss: 0.7670 - acc: 0.7338\n",
      "Epoch 33/100\n",
      "50000/50000 [==============================] - 2s 45us/step - loss: 0.7714 - acc: 0.7328\n",
      "Epoch 34/100\n",
      "50000/50000 [==============================] - 2s 45us/step - loss: 0.7512 - acc: 0.7394\n",
      "Epoch 35/100\n",
      "50000/50000 [==============================] - 2s 45us/step - loss: 0.7605 - acc: 0.7352\n",
      "Epoch 36/100\n",
      "50000/50000 [==============================] - 2s 45us/step - loss: 0.7508 - acc: 0.7406\n",
      "Epoch 37/100\n",
      "50000/50000 [==============================] - 2s 45us/step - loss: 0.7566 - acc: 0.7410\n",
      "Epoch 38/100\n",
      "50000/50000 [==============================] - 2s 45us/step - loss: 0.7641 - acc: 0.7351\n",
      "Epoch 39/100\n",
      "50000/50000 [==============================] - 2s 46us/step - loss: 0.7576 - acc: 0.7378\n",
      "Epoch 40/100\n",
      "50000/50000 [==============================] - 2s 45us/step - loss: 0.7517 - acc: 0.7402\n",
      "Epoch 41/100\n",
      "50000/50000 [==============================] - 2s 46us/step - loss: 0.7426 - acc: 0.7431\n",
      "Epoch 42/100\n",
      "50000/50000 [==============================] - 2s 45us/step - loss: 0.7636 - acc: 0.7385\n",
      "Epoch 43/100\n",
      "50000/50000 [==============================] - 2s 45us/step - loss: 0.7507 - acc: 0.7408\n",
      "Epoch 44/100\n",
      "50000/50000 [==============================] - 2s 46us/step - loss: 0.7434 - acc: 0.7442\n",
      "Epoch 45/100\n",
      "50000/50000 [==============================] - 2s 45us/step - loss: 0.7496 - acc: 0.7400\n",
      "Epoch 46/100\n",
      "50000/50000 [==============================] - 2s 46us/step - loss: 0.7327 - acc: 0.7470\n",
      "Epoch 47/100\n",
      "50000/50000 [==============================] - 2s 46us/step - loss: 0.7549 - acc: 0.7394\n",
      "Epoch 48/100\n",
      "50000/50000 [==============================] - 2s 45us/step - loss: 0.7436 - acc: 0.7447\n",
      "Epoch 49/100\n",
      "50000/50000 [==============================] - 2s 45us/step - loss: 0.7394 - acc: 0.7434\n",
      "Epoch 50/100\n",
      "50000/50000 [==============================] - 2s 46us/step - loss: 0.7419 - acc: 0.7431\n",
      "Epoch 51/100\n",
      "50000/50000 [==============================] - 2s 46us/step - loss: 0.7551 - acc: 0.7395\n",
      "Epoch 52/100\n",
      "50000/50000 [==============================] - 2s 45us/step - loss: 0.7466 - acc: 0.7422\n",
      "Epoch 53/100\n",
      "50000/50000 [==============================] - 2s 46us/step - loss: 0.7928 - acc: 0.7268\n",
      "Epoch 54/100\n",
      "50000/50000 [==============================] - 2s 46us/step - loss: 0.7405 - acc: 0.7436\n",
      "Epoch 55/100\n",
      "50000/50000 [==============================] - 2s 46us/step - loss: 0.7277 - acc: 0.7492\n",
      "Epoch 56/100\n",
      "50000/50000 [==============================] - 2s 46us/step - loss: 0.7462 - acc: 0.7416\n",
      "Epoch 57/100\n",
      "50000/50000 [==============================] - 2s 45us/step - loss: 0.7409 - acc: 0.7431\n",
      "Epoch 58/100\n",
      "50000/50000 [==============================] - 2s 45us/step - loss: 0.7453 - acc: 0.7419\n",
      "Epoch 59/100\n",
      "50000/50000 [==============================] - 2s 46us/step - loss: 0.7322 - acc: 0.7464\n",
      "Epoch 60/100\n",
      "50000/50000 [==============================] - 2s 45us/step - loss: 0.7325 - acc: 0.7466\n",
      "Epoch 61/100\n",
      "50000/50000 [==============================] - 2s 46us/step - loss: 0.7381 - acc: 0.7458\n",
      "Epoch 62/100\n",
      "50000/50000 [==============================] - 2s 45us/step - loss: 0.7276 - acc: 0.7490\n",
      "Epoch 63/100\n",
      "50000/50000 [==============================] - 2s 46us/step - loss: 0.7293 - acc: 0.7460\n",
      "Epoch 64/100\n",
      "50000/50000 [==============================] - 2s 46us/step - loss: 0.7319 - acc: 0.7458\n",
      "Epoch 65/100\n",
      "50000/50000 [==============================] - 2s 49us/step - loss: 0.7359 - acc: 0.7450\n",
      "Epoch 66/100\n",
      "50000/50000 [==============================] - 2s 49us/step - loss: 0.7403 - acc: 0.7437\n",
      "Epoch 67/100\n",
      "50000/50000 [==============================] - 2s 48us/step - loss: 0.7257 - acc: 0.7483\n",
      "Epoch 68/100\n",
      "50000/50000 [==============================] - 2s 48us/step - loss: 0.7332 - acc: 0.7471\n",
      "Epoch 69/100\n",
      "50000/50000 [==============================] - 2s 48us/step - loss: 0.7338 - acc: 0.7449\n",
      "Epoch 70/100\n",
      "50000/50000 [==============================] - 2s 47us/step - loss: 0.7383 - acc: 0.7435\n",
      "Epoch 71/100\n",
      "50000/50000 [==============================] - 2s 46us/step - loss: 0.7249 - acc: 0.7498\n",
      "Epoch 72/100\n",
      "50000/50000 [==============================] - 2s 46us/step - loss: 0.7293 - acc: 0.7490\n",
      "Epoch 73/100\n",
      "50000/50000 [==============================] - 2s 46us/step - loss: 0.7264 - acc: 0.7502\n",
      "Epoch 74/100\n",
      "50000/50000 [==============================] - 2s 46us/step - loss: 0.7196 - acc: 0.7519\n",
      "Epoch 75/100\n",
      "50000/50000 [==============================] - 2s 46us/step - loss: 0.7260 - acc: 0.7482\n",
      "Epoch 76/100\n",
      "50000/50000 [==============================] - 2s 45us/step - loss: 0.7316 - acc: 0.7466\n",
      "Epoch 77/100\n",
      "50000/50000 [==============================] - 2s 45us/step - loss: 0.7345 - acc: 0.7484\n",
      "Epoch 78/100\n",
      "50000/50000 [==============================] - 2s 46us/step - loss: 0.7292 - acc: 0.7479\n",
      "Epoch 79/100\n",
      "50000/50000 [==============================] - 2s 45us/step - loss: 0.7207 - acc: 0.7522\n",
      "Epoch 80/100\n",
      "50000/50000 [==============================] - 2s 45us/step - loss: 0.8086 - acc: 0.7210\n",
      "Epoch 81/100\n"
     ]
    },
    {
     "name": "stdout",
     "output_type": "stream",
     "text": [
      "50000/50000 [==============================] - 2s 45us/step - loss: 0.7149 - acc: 0.7527\n",
      "Epoch 82/100\n",
      "50000/50000 [==============================] - 2s 46us/step - loss: 0.7166 - acc: 0.7510\n",
      "Epoch 83/100\n",
      "50000/50000 [==============================] - 2s 45us/step - loss: 0.7398 - acc: 0.7437\n",
      "Epoch 84/100\n",
      "50000/50000 [==============================] - 2s 45us/step - loss: 0.7219 - acc: 0.7524\n",
      "Epoch 85/100\n",
      "50000/50000 [==============================] - 2s 45us/step - loss: 0.7257 - acc: 0.7494\n",
      "Epoch 86/100\n",
      "50000/50000 [==============================] - 2s 45us/step - loss: 0.7168 - acc: 0.7526\n",
      "Epoch 87/100\n",
      "50000/50000 [==============================] - 2s 45us/step - loss: 0.7189 - acc: 0.7519\n",
      "Epoch 88/100\n",
      "50000/50000 [==============================] - 2s 45us/step - loss: 0.7197 - acc: 0.7529\n",
      "Epoch 89/100\n",
      "50000/50000 [==============================] - 2s 45us/step - loss: 0.7207 - acc: 0.7514\n",
      "Epoch 90/100\n",
      "50000/50000 [==============================] - 2s 45us/step - loss: 0.7250 - acc: 0.7506\n",
      "Epoch 91/100\n",
      "50000/50000 [==============================] - 2s 45us/step - loss: 0.7148 - acc: 0.7511\n",
      "Epoch 92/100\n",
      "50000/50000 [==============================] - 2s 45us/step - loss: 0.7153 - acc: 0.7520\n",
      "Epoch 93/100\n",
      "50000/50000 [==============================] - 2s 45us/step - loss: 0.7100 - acc: 0.7547\n",
      "Epoch 94/100\n",
      "50000/50000 [==============================] - 2s 45us/step - loss: 0.7132 - acc: 0.7525\n",
      "Epoch 95/100\n",
      "50000/50000 [==============================] - 2s 46us/step - loss: 0.7183 - acc: 0.7506\n",
      "Epoch 96/100\n",
      "50000/50000 [==============================] - 2s 46us/step - loss: 0.7155 - acc: 0.7525\n",
      "Epoch 97/100\n",
      "50000/50000 [==============================] - 2s 46us/step - loss: 0.7289 - acc: 0.7495\n",
      "Epoch 98/100\n",
      "50000/50000 [==============================] - 2s 46us/step - loss: 0.7092 - acc: 0.7554\n",
      "Epoch 99/100\n",
      "50000/50000 [==============================] - 2s 46us/step - loss: 0.7126 - acc: 0.7547\n",
      "Epoch 100/100\n",
      "50000/50000 [==============================] - 2s 46us/step - loss: 0.7115 - acc: 0.7543\n"
     ]
    },
    {
     "data": {
      "text/plain": [
       "<keras.callbacks.History at 0x2c6884119c8>"
      ]
     },
     "execution_count": 14,
     "metadata": {},
     "output_type": "execute_result"
    }
   ],
   "source": [
    "model.fit(x_train, y_train_categorial, epochs=100, batch_size=batch_size)"
   ]
  },
  {
   "cell_type": "code",
   "execution_count": null,
   "metadata": {},
   "outputs": [],
   "source": [
    "# some best neural network architectures are VGG net, Resnet, Google’s Inception network.\n",
    "# definitely try them out."
   ]
  },
  {
   "cell_type": "code",
   "execution_count": 20,
   "metadata": {},
   "outputs": [
    {
     "name": "stdout",
     "output_type": "stream",
     "text": [
      "10000/10000 [==============================] - 1s 55us/step\n"
     ]
    },
    {
     "data": {
      "text/plain": [
       "[1.0246850322723389, 0.6713]"
      ]
     },
     "execution_count": 20,
     "metadata": {},
     "output_type": "execute_result"
    }
   ],
   "source": [
    "model.evaluate(x_test, y_test_categorial)"
   ]
  },
  {
   "cell_type": "code",
   "execution_count": 23,
   "metadata": {},
   "outputs": [
    {
     "name": "stderr",
     "output_type": "stream",
     "text": [
      "C:\\ProgramData\\Anaconda3\\lib\\site-packages\\keras\\engine\\training_utils.py:369: RuntimeWarning: invalid value encountered in floor_divide\n",
      "  num_batches = (size + batch_size - 1) // batch_size  # round up\n"
     ]
    },
    {
     "ename": "TypeError",
     "evalue": "only integer scalar arrays can be converted to a scalar index",
     "output_type": "error",
     "traceback": [
      "\u001b[1;31m---------------------------------------------------------------------------\u001b[0m",
      "\u001b[1;31mTypeError\u001b[0m                                 Traceback (most recent call last)",
      "\u001b[1;32m<ipython-input-23-aa52a6059ccd>\u001b[0m in \u001b[0;36m<module>\u001b[1;34m\u001b[0m\n\u001b[1;32m----> 1\u001b[1;33m \u001b[0mmodel\u001b[0m\u001b[1;33m.\u001b[0m\u001b[0mpredict_proba\u001b[0m\u001b[1;33m(\u001b[0m\u001b[0mx_test\u001b[0m\u001b[1;33m,\u001b[0m \u001b[0my_test_categorial\u001b[0m\u001b[1;33m)\u001b[0m\u001b[1;33m\u001b[0m\u001b[1;33m\u001b[0m\u001b[0m\n\u001b[0m",
      "\u001b[1;32mC:\\ProgramData\\Anaconda3\\lib\\site-packages\\keras\\engine\\sequential.py\u001b[0m in \u001b[0;36mpredict_proba\u001b[1;34m(self, x, batch_size, verbose)\u001b[0m\n\u001b[0;32m    243\u001b[0m             \u001b[0mA\u001b[0m \u001b[0mNumpy\u001b[0m \u001b[0marray\u001b[0m \u001b[0mof\u001b[0m \u001b[0mprobability\u001b[0m \u001b[0mpredictions\u001b[0m\u001b[1;33m.\u001b[0m\u001b[1;33m\u001b[0m\u001b[1;33m\u001b[0m\u001b[0m\n\u001b[0;32m    244\u001b[0m         \"\"\"\n\u001b[1;32m--> 245\u001b[1;33m         \u001b[0mpreds\u001b[0m \u001b[1;33m=\u001b[0m \u001b[0mself\u001b[0m\u001b[1;33m.\u001b[0m\u001b[0mpredict\u001b[0m\u001b[1;33m(\u001b[0m\u001b[0mx\u001b[0m\u001b[1;33m,\u001b[0m \u001b[0mbatch_size\u001b[0m\u001b[1;33m,\u001b[0m \u001b[0mverbose\u001b[0m\u001b[1;33m)\u001b[0m\u001b[1;33m\u001b[0m\u001b[1;33m\u001b[0m\u001b[0m\n\u001b[0m\u001b[0;32m    246\u001b[0m         \u001b[1;32mif\u001b[0m \u001b[0mpreds\u001b[0m\u001b[1;33m.\u001b[0m\u001b[0mmin\u001b[0m\u001b[1;33m(\u001b[0m\u001b[1;33m)\u001b[0m \u001b[1;33m<\u001b[0m \u001b[1;36m0.\u001b[0m \u001b[1;32mor\u001b[0m \u001b[0mpreds\u001b[0m\u001b[1;33m.\u001b[0m\u001b[0mmax\u001b[0m\u001b[1;33m(\u001b[0m\u001b[1;33m)\u001b[0m \u001b[1;33m>\u001b[0m \u001b[1;36m1.\u001b[0m\u001b[1;33m:\u001b[0m\u001b[1;33m\u001b[0m\u001b[1;33m\u001b[0m\u001b[0m\n\u001b[0;32m    247\u001b[0m             warnings.warn('Network returning invalid probability values. '\n",
      "\u001b[1;32mC:\\ProgramData\\Anaconda3\\lib\\site-packages\\keras\\engine\\training.py\u001b[0m in \u001b[0;36mpredict\u001b[1;34m(self, x, batch_size, verbose, steps)\u001b[0m\n\u001b[0;32m   1167\u001b[0m                                             \u001b[0mbatch_size\u001b[0m\u001b[1;33m=\u001b[0m\u001b[0mbatch_size\u001b[0m\u001b[1;33m,\u001b[0m\u001b[1;33m\u001b[0m\u001b[1;33m\u001b[0m\u001b[0m\n\u001b[0;32m   1168\u001b[0m                                             \u001b[0mverbose\u001b[0m\u001b[1;33m=\u001b[0m\u001b[0mverbose\u001b[0m\u001b[1;33m,\u001b[0m\u001b[1;33m\u001b[0m\u001b[1;33m\u001b[0m\u001b[0m\n\u001b[1;32m-> 1169\u001b[1;33m                                             steps=steps)\n\u001b[0m\u001b[0;32m   1170\u001b[0m \u001b[1;33m\u001b[0m\u001b[0m\n\u001b[0;32m   1171\u001b[0m     def train_on_batch(self, x, y,\n",
      "\u001b[1;32mC:\\ProgramData\\Anaconda3\\lib\\site-packages\\keras\\engine\\training_arrays.py\u001b[0m in \u001b[0;36mpredict_loop\u001b[1;34m(model, f, ins, batch_size, verbose, steps)\u001b[0m\n\u001b[0;32m    280\u001b[0m         \u001b[1;31m# Sample-based predictions.\u001b[0m\u001b[1;33m\u001b[0m\u001b[1;33m\u001b[0m\u001b[1;33m\u001b[0m\u001b[0m\n\u001b[0;32m    281\u001b[0m         \u001b[0mouts\u001b[0m \u001b[1;33m=\u001b[0m \u001b[1;33m[\u001b[0m\u001b[1;33m]\u001b[0m\u001b[1;33m\u001b[0m\u001b[1;33m\u001b[0m\u001b[0m\n\u001b[1;32m--> 282\u001b[1;33m         \u001b[0mbatches\u001b[0m \u001b[1;33m=\u001b[0m \u001b[0mmake_batches\u001b[0m\u001b[1;33m(\u001b[0m\u001b[0mnum_samples\u001b[0m\u001b[1;33m,\u001b[0m \u001b[0mbatch_size\u001b[0m\u001b[1;33m)\u001b[0m\u001b[1;33m\u001b[0m\u001b[1;33m\u001b[0m\u001b[0m\n\u001b[0m\u001b[0;32m    283\u001b[0m         \u001b[0mindex_array\u001b[0m \u001b[1;33m=\u001b[0m \u001b[0mnp\u001b[0m\u001b[1;33m.\u001b[0m\u001b[0marange\u001b[0m\u001b[1;33m(\u001b[0m\u001b[0mnum_samples\u001b[0m\u001b[1;33m)\u001b[0m\u001b[1;33m\u001b[0m\u001b[1;33m\u001b[0m\u001b[0m\n\u001b[0;32m    284\u001b[0m         \u001b[1;32mfor\u001b[0m \u001b[0mbatch_index\u001b[0m\u001b[1;33m,\u001b[0m \u001b[1;33m(\u001b[0m\u001b[0mbatch_start\u001b[0m\u001b[1;33m,\u001b[0m \u001b[0mbatch_end\u001b[0m\u001b[1;33m)\u001b[0m \u001b[1;32min\u001b[0m \u001b[0menumerate\u001b[0m\u001b[1;33m(\u001b[0m\u001b[0mbatches\u001b[0m\u001b[1;33m)\u001b[0m\u001b[1;33m:\u001b[0m\u001b[1;33m\u001b[0m\u001b[1;33m\u001b[0m\u001b[0m\n",
      "\u001b[1;32mC:\\ProgramData\\Anaconda3\\lib\\site-packages\\keras\\engine\\training_utils.py\u001b[0m in \u001b[0;36mmake_batches\u001b[1;34m(size, batch_size)\u001b[0m\n\u001b[0;32m    369\u001b[0m     \u001b[0mnum_batches\u001b[0m \u001b[1;33m=\u001b[0m \u001b[1;33m(\u001b[0m\u001b[0msize\u001b[0m \u001b[1;33m+\u001b[0m \u001b[0mbatch_size\u001b[0m \u001b[1;33m-\u001b[0m \u001b[1;36m1\u001b[0m\u001b[1;33m)\u001b[0m \u001b[1;33m//\u001b[0m \u001b[0mbatch_size\u001b[0m  \u001b[1;31m# round up\u001b[0m\u001b[1;33m\u001b[0m\u001b[1;33m\u001b[0m\u001b[0m\n\u001b[0;32m    370\u001b[0m     return [(i * batch_size, min(size, (i + 1) * batch_size))\n\u001b[1;32m--> 371\u001b[1;33m             for i in range(num_batches)]\n\u001b[0m\u001b[0;32m    372\u001b[0m \u001b[1;33m\u001b[0m\u001b[0m\n\u001b[0;32m    373\u001b[0m \u001b[1;33m\u001b[0m\u001b[0m\n",
      "\u001b[1;31mTypeError\u001b[0m: only integer scalar arrays can be converted to a scalar index"
     ]
    }
   ],
   "source": [
    "model.predict_proba(x_test, y_test_categorial)"
   ]
  }
 ],
 "metadata": {
  "kernelspec": {
   "display_name": "Python 3",
   "language": "python",
   "name": "python3"
  },
  "language_info": {
   "codemirror_mode": {
    "name": "ipython",
    "version": 3
   },
   "file_extension": ".py",
   "mimetype": "text/x-python",
   "name": "python",
   "nbconvert_exporter": "python",
   "pygments_lexer": "ipython3",
   "version": "3.7.4"
  }
 },
 "nbformat": 4,
 "nbformat_minor": 2
}
