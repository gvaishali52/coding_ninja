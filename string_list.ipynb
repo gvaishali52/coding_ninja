{
 "cells": [
  {
   "cell_type": "code",
   "execution_count": null,
   "metadata": {},
   "outputs": [],
   "source": [
    "s = \"abcd\"\n",
    "print(s + 12)"
   ]
  },
  {
   "cell_type": "code",
   "execution_count": null,
   "metadata": {},
   "outputs": [],
   "source": [
    "s = \"abcd\"\n",
    "print(s + str(12))"
   ]
  },
  {
   "cell_type": "code",
   "execution_count": null,
   "metadata": {},
   "outputs": [],
   "source": [
    "s = \"abcd\"\n",
    "a = s.upper()\n",
    "print(s)  \n",
    "print(a)                  "
   ]
  },
  {
   "cell_type": "code",
   "execution_count": null,
   "metadata": {},
   "outputs": [],
   "source": [
    "s[2]"
   ]
  },
  {
   "cell_type": "code",
   "execution_count": null,
   "metadata": {},
   "outputs": [],
   "source": [
    "a = \"this is subbu.Subbu loves shona.\"\n",
    "a.split(\".\")"
   ]
  },
  {
   "cell_type": "code",
   "execution_count": null,
   "metadata": {},
   "outputs": [],
   "source": [
    "print(a)"
   ]
  },
  {
   "cell_type": "code",
   "execution_count": null,
   "metadata": {},
   "outputs": [],
   "source": [
    "a = \"this\"\n",
    "for i in a:\n",
    "    print(i)"
   ]
  },
  {
   "cell_type": "code",
   "execution_count": null,
   "metadata": {},
   "outputs": [],
   "source": [
    "a = 'I am going to Shirdi.'\n",
    "print(a)\n",
    "c = a.replace(\"Shirdi\", \"Water Park\")\n",
    "print(c)"
   ]
  },
  {
   "cell_type": "code",
   "execution_count": null,
   "metadata": {},
   "outputs": [],
   "source": [
    "a = 'I am going to Shirdi.'\n",
    "a.find('i')"
   ]
  },
  {
   "cell_type": "markdown",
   "metadata": {},
   "source": [
    "### Check Palindrome\n",
    "\n",
    "Given a string, determine if it is a palindrome, considering only alphanumeric characters.\n",
    "\n",
    "**Palindrome**: A palindrome is a word, number, phrase, or other sequences of characters which read the same backwards and forwards."
   ]
  },
  {
   "cell_type": "code",
   "execution_count": 1,
   "metadata": {},
   "outputs": [
    {
     "name": "stdout",
     "output_type": "stream",
     "text": [
      "true\n"
     ]
    }
   ],
   "source": [
    "\n",
    "from sys import stdin\n",
    "\n",
    "def isPalindrome(string) :\n",
    "\t# Your code goes here\n",
    "    rev_string = string[::-1]\n",
    "    if string== rev_string:\n",
    "        return True\n",
    "    else:\n",
    "        return False\n",
    "\n",
    "\n",
    "\n",
    "\n",
    "\t\n",
    "\n",
    "\n",
    "#main\n",
    "string = \"malayalam\"\n",
    "ans = isPalindrome(string)\n",
    "\n",
    "if ans :\n",
    "    print('true')\n",
    "else :\n",
    "    print('false')\n",
    "\n"
   ]
  },
  {
   "cell_type": "markdown",
   "metadata": {},
   "source": [
    "Print all substrings\n",
    "Send Feedback\n",
    "For a given input string(str), write a function to print all the possible substrings.\n",
    "Substring\n",
    "A substring is a contiguous sequence of characters within a string. \n",
    "Example: \"cod\" is a substring of \"coding\". Whereas, \"cdng\" is not as the characters taken are not contiguous"
   ]
  },
  {
   "cell_type": "code",
   "execution_count": 4,
   "metadata": {},
   "outputs": [
    {
     "name": "stdout",
     "output_type": "stream",
     "text": [
      "a\n",
      "ab\n",
      "abc\n",
      "b\n",
      "bc\n",
      "c\n"
     ]
    }
   ],
   "source": [
    "\n",
    "from sys import stdin\n",
    "\n",
    "\n",
    "def printSubstrings(string) :\n",
    "\t# Your code goes here\n",
    "    for i in range(0,len(string)):\n",
    "        for j in range(i,len(string)):\n",
    "            print(string[i:j+1])\n",
    "\n",
    "\n",
    "\t\n",
    "\n",
    "#main\n",
    "string = \"abc\"\n",
    "printSubstrings(string)"
   ]
  },
  {
   "cell_type": "code",
   "execution_count": 6,
   "metadata": {},
   "outputs": [
    {
     "data": {
      "text/plain": [
       "['h', 'e', 'l', 'l', 'o']"
      ]
     },
     "execution_count": 6,
     "metadata": {},
     "output_type": "execute_result"
    }
   ],
   "source": [
    "list(\"hello\")"
   ]
  },
  {
   "cell_type": "code",
   "execution_count": 7,
   "metadata": {},
   "outputs": [
    {
     "name": "stdout",
     "output_type": "stream",
     "text": [
      "[11, 12, 13, 14, 10, 20, 30, 40, 50, 60, 70, 80, 90]\n"
     ]
    }
   ],
   "source": [
    "r = [11, 12, 13, 14]\n",
    "A = [[0, 10, 20],\n",
    "     [30, 40, 50],\n",
    "     [60, 70, 80]]\n",
    "for row in A:\n",
    "    for col in row:\n",
    "        r.append(col+10)\n",
    "print(r)"
   ]
  },
  {
   "cell_type": "code",
   "execution_count": 5,
   "metadata": {},
   "outputs": [
    {
     "name": "stdout",
     "output_type": "stream",
     "text": [
      "1\n",
      "3\n"
     ]
    },
    {
     "data": {
      "text/plain": [
       "[2, 1, 3]"
      ]
     },
     "execution_count": 5,
     "metadata": {},
     "output_type": "execute_result"
    }
   ],
   "source": [
    "n = 3\n",
    "arr = [1, 2, 3] \n",
    "\n",
    "def swapAlternate(arr, n) :\n",
    "    #Your code goes here\n",
    "    \n",
    "    for i in range(0,n,2):\n",
    "        temp = arr[i]\n",
    "        print(temp)\n",
    "        if temp != arr[n-1]:\n",
    "            arr[i] = arr[i+1]\n",
    "            arr[i+1]= temp\n",
    "    return arr\n",
    "swapAlternate(arr, n)"
   ]
  },
  {
   "cell_type": "code",
   "execution_count": null,
   "metadata": {},
   "outputs": [],
   "source": []
  }
 ],
 "metadata": {
  "interpreter": {
   "hash": "c626c7f027fd81c21c9d33e27e9da6944415f92c80192dd5d04cdc4b243efcd0"
  },
  "kernelspec": {
   "display_name": "Python 3.8.5 ('vaishali')",
   "language": "python",
   "name": "python3"
  },
  "language_info": {
   "codemirror_mode": {
    "name": "ipython",
    "version": 3
   },
   "file_extension": ".py",
   "mimetype": "text/x-python",
   "name": "python",
   "nbconvert_exporter": "python",
   "pygments_lexer": "ipython3",
   "version": "3.8.5"
  },
  "orig_nbformat": 4
 },
 "nbformat": 4,
 "nbformat_minor": 2
}
