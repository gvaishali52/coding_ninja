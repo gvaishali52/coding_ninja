{
 "cells": [
  {
   "cell_type": "code",
   "execution_count": null,
   "metadata": {},
   "outputs": [],
   "source": [
    "s = \"abcd\"\n",
    "print(s + 12)"
   ]
  },
  {
   "cell_type": "code",
   "execution_count": null,
   "metadata": {},
   "outputs": [],
   "source": [
    "s = \"abcd\"\n",
    "print(s + str(12))"
   ]
  },
  {
   "cell_type": "code",
   "execution_count": null,
   "metadata": {},
   "outputs": [],
   "source": [
    "s = \"abcd\"\n",
    "a = s.upper()\n",
    "print(s)  \n",
    "print(a)                  "
   ]
  },
  {
   "cell_type": "code",
   "execution_count": null,
   "metadata": {},
   "outputs": [],
   "source": [
    "s[2]"
   ]
  },
  {
   "cell_type": "code",
   "execution_count": null,
   "metadata": {},
   "outputs": [],
   "source": [
    "a = \"this is subbu.Subbu loves shona.\"\n",
    "a.split(\".\")"
   ]
  },
  {
   "cell_type": "code",
   "execution_count": null,
   "metadata": {},
   "outputs": [],
   "source": [
    "print(a)"
   ]
  },
  {
   "cell_type": "code",
   "execution_count": null,
   "metadata": {},
   "outputs": [],
   "source": [
    "a = \"this\"\n",
    "for i in a:\n",
    "    print(i)"
   ]
  },
  {
   "cell_type": "code",
   "execution_count": null,
   "metadata": {},
   "outputs": [],
   "source": [
    "a = 'I am going to Shirdi.'\n",
    "print(a)\n",
    "c = a.replace(\"Shirdi\", \"Water Park\")\n",
    "print(c)"
   ]
  },
  {
   "cell_type": "code",
   "execution_count": null,
   "metadata": {},
   "outputs": [],
   "source": [
    "a = 'I am going to Shirdi.'\n",
    "a.find('i')"
   ]
  },
  {
   "cell_type": "markdown",
   "metadata": {},
   "source": [
    "### Check Palindrome\n",
    "\n",
    "Given a string, determine if it is a palindrome, considering only alphanumeric characters.\n",
    "\n",
    "**Palindrome**: A palindrome is a word, number, phrase, or other sequences of characters which read the same backwards and forwards."
   ]
  },
  {
   "cell_type": "code",
   "execution_count": null,
   "metadata": {},
   "outputs": [],
   "source": [
    "\n",
    "from sys import stdin\n",
    "\n",
    "def isPalindrome(string) :\n",
    "\t# Your code goes here\n",
    "    rev_string = string[::-1]\n",
    "    if string== rev_string:\n",
    "        return True\n",
    "    else:\n",
    "        return False\n",
    "\n",
    "\n",
    "\n",
    "\n",
    "\t\n",
    "\n",
    "\n",
    "#main\n",
    "string = \"malayalam\"\n",
    "ans = isPalindrome(string)\n",
    "\n",
    "if ans :\n",
    "    print('true')\n",
    "else :\n",
    "    print('false')\n",
    "\n"
   ]
  },
  {
   "cell_type": "markdown",
   "metadata": {},
   "source": [
    "Print all substrings\n",
    "Send Feedback\n",
    "For a given input string(str), write a function to print all the possible substrings.\n",
    "Substring\n",
    "A substring is a contiguous sequence of characters within a string. \n",
    "Example: \"cod\" is a substring of \"coding\". Whereas, \"cdng\" is not as the characters taken are not contiguous"
   ]
  },
  {
   "cell_type": "code",
   "execution_count": null,
   "metadata": {},
   "outputs": [],
   "source": [
    "\n",
    "from sys import stdin\n",
    "\n",
    "\n",
    "def printSubstrings(string) :\n",
    "\t# Your code goes here\n",
    "    for i in range(0,len(string)):\n",
    "        for j in range(i,len(string)):\n",
    "            print(string[i:j+1])\n",
    "\n",
    "\n",
    "\t\n",
    "\n",
    "#main\n",
    "string = \"abc\"\n",
    "printSubstrings(string)"
   ]
  },
  {
   "cell_type": "code",
   "execution_count": null,
   "metadata": {},
   "outputs": [],
   "source": [
    "list(\"hello\")"
   ]
  },
  {
   "cell_type": "code",
   "execution_count": null,
   "metadata": {},
   "outputs": [],
   "source": [
    "r = [11, 12, 13, 14]\n",
    "A = [[0, 10, 20],\n",
    "     [30, 40, 50],\n",
    "     [60, 70, 80]]\n",
    "for row in A:\n",
    "    for col in row:\n",
    "        r.append(col+10)\n",
    "print(r)"
   ]
  },
  {
   "cell_type": "code",
   "execution_count": null,
   "metadata": {},
   "outputs": [],
   "source": [
    "n = 3\n",
    "arr = [1, 2, 3] \n",
    "\n",
    "def swapAlternate(arr, n) :\n",
    "    #Your code goes here\n",
    "    \n",
    "    for i in range(0,n,2):\n",
    "        temp = arr[i]\n",
    "        print(temp)\n",
    "        if temp != arr[n-1]:\n",
    "            arr[i] = arr[i+1]\n",
    "            arr[i+1]= temp\n",
    "    return arr\n",
    "swapAlternate(arr, n)"
   ]
  },
  {
   "cell_type": "code",
   "execution_count": null,
   "metadata": {},
   "outputs": [],
   "source": [
    "i=1\n",
    "while i<5:\n",
    "    if i == 7:\n",
    "        break\n",
    "    print(i,end=\" \")\n",
    "    i = i + 1\n",
    "else:\n",
    "    print(\"Else is also printed\")"
   ]
  },
  {
   "cell_type": "code",
   "execution_count": null,
   "metadata": {},
   "outputs": [],
   "source": [
    "i=1\n",
    "#while i<5:\n",
    "    if i==3:\n",
    "        continue\n",
    "    print(i,end=\" \")\n",
    "    i = i + 1"
   ]
  },
  {
   "cell_type": "code",
   "execution_count": null,
   "metadata": {},
   "outputs": [],
   "source": [
    "i=1\n",
    "while i<3:\n",
    "    j=0\n",
    "    while j<5:\n",
    "        j = j +1\n",
    "        if j==3:\n",
    "            continue\n",
    "        print(j,end=\" \")\n",
    "    i = i +1"
   ]
  },
  {
   "cell_type": "markdown",
   "metadata": {},
   "source": [
    "4 5 3 2 6 \n",
    "7 5 3 8 9"
   ]
  },
  {
   "cell_type": "code",
   "execution_count": null,
   "metadata": {},
   "outputs": [],
   "source": [
    "a =[[4,5,3,2,6],\n",
    "    [7,5,3,8,9]]\n",
    "a\n",
    "\n"
   ]
  },
  {
   "cell_type": "code",
   "execution_count": null,
   "metadata": {},
   "outputs": [],
   "source": [
    "print(a[0])\n",
    "print(a[1])"
   ]
  },
  {
   "cell_type": "code",
   "execution_count": null,
   "metadata": {},
   "outputs": [],
   "source": [
    "# output = []\n",
    "for i in range(len(a)):\n",
    "    #print(i)\n",
    "    #print(a[i])\n",
    "    # sum func is valid only for 1D list\n",
    "    print(sum(a[i]),end=\" \")\n",
    "    #output.append(sum(a[i]))\n",
    "\n",
    "# print(output)\n",
    "\n",
    "# sum(a)"
   ]
  },
  {
   "cell_type": "code",
   "execution_count": null,
   "metadata": {},
   "outputs": [],
   "source": [
    "# rows\n",
    "len(a)"
   ]
  },
  {
   "cell_type": "code",
   "execution_count": null,
   "metadata": {},
   "outputs": [],
   "source": [
    "# columns\n",
    "len(a[0])"
   ]
  },
  {
   "cell_type": "markdown",
   "metadata": {},
   "source": [
    "**Wave Print**\n",
    "\n",
    "For a given two-dimensional integer array/list of size (N x M), print the array/list in a sine wave order, i.e, print the first column top to bottom, next column bottom to top and so on."
   ]
  },
  {
   "cell_type": "code",
   "execution_count": null,
   "metadata": {},
   "outputs": [],
   "source": [
    "# printing the sequence of row,column.\n",
    "\n",
    "ncol=4\n",
    "nrow=3\n",
    "arr = [[1,2,3,4],[5,6,7,8],[9,10,11,12]]\n",
    "for i in range(ncol):\n",
    "    if i%2==0:\n",
    "        for j in range(0,nrow,1):\n",
    "            print(arr[j][i], end=\" \")\n",
    "\n",
    "    else:\n",
    "        for j in range(nrow-1,-1,-1):\n",
    "             print(arr[j][i],end=\" \")\n"
   ]
  },
  {
   "cell_type": "markdown",
   "metadata": {},
   "source": [
    "Given a decimal number (integer N), convert it into binary and print.\n",
    "The binary number should be in the form of an integer."
   ]
  },
  {
   "cell_type": "code",
   "execution_count": null,
   "metadata": {},
   "outputs": [],
   "source": [
    "n=int(input())\n",
    "op=[]\n",
    "x=n%2\n",
    "\n"
   ]
  },
  {
   "cell_type": "code",
   "execution_count": null,
   "metadata": {},
   "outputs": [],
   "source": [
    "input()"
   ]
  },
  {
   "cell_type": "markdown",
   "metadata": {},
   "source": [
    "#### Reverse Each Word\n",
    "\n",
    "Aadil has been provided with a sentence in the form of a string as a function parameter. The task is to implement a function so as to print the sentence such that each word in the sentence is reversed."
   ]
  },
  {
   "cell_type": "code",
   "execution_count": null,
   "metadata": {},
   "outputs": [],
   "source": [
    "\n",
    "from sys import stdin\n",
    "\n",
    "\n",
    "def reverseEachWord(string) :\n",
    "\t# Your code goes here\n",
    "    string\n",
    "\n",
    "    return 1\n",
    "\n",
    "string = 'Welcome to Coding Ninjas'\n",
    "reverseEachWord(string)"
   ]
  },
  {
   "cell_type": "code",
   "execution_count": null,
   "metadata": {},
   "outputs": [],
   "source": [
    "from sys import stdin\n",
    "\n",
    "\n",
    "def reverseEachWord(string) :\n",
    "\t# Your code goes here\n",
    "    \n",
    "    words = string.split()\n",
    "    for i in range(len(words)):\n",
    "        words[i] = words[i][::-1] \n",
    "\n",
    "    reverse_words_string = \" \".join(words)       \n",
    "    return reverse_words_string\n",
    "\n",
    "#main\n",
    "string = 'Welcome to Coding Ninjas'\n",
    "\n",
    "ans = reverseEachWord(string)\n",
    "\n",
    "print(ans)\n"
   ]
  },
  {
   "cell_type": "markdown",
   "metadata": {},
   "source": [
    "#### Array equilibrium index\n",
    "\n",
    "For a given array/list(ARR) of size 'N,' find and return the 'Equilibrium Index' of the array/list.\n",
    "Equilibrium Index of an array/list is an index 'i' such that the sum of elements at indices [0 to (i - 1)] is equal to the sum of elements at indices [(i + 1) to (N-1)]. One thing to note here is, the item at the index 'i' is not included in either part.\n",
    "If more than one equilibrium indices are present, then the index appearing first in left to right fashion should be returned. Negative one(-1) if no such index is present."
   ]
  },
  {
   "cell_type": "code",
   "execution_count": null,
   "metadata": {},
   "outputs": [],
   "source": [
    "arr = [2, 3, 10, -10, 4, 2, 9]"
   ]
  },
  {
   "cell_type": "code",
   "execution_count": null,
   "metadata": {},
   "outputs": [],
   "source": [
    "sum(arr)"
   ]
  },
  {
   "cell_type": "code",
   "execution_count": null,
   "metadata": {},
   "outputs": [],
   "source": [
    "from sys import stdin\n",
    "\n",
    "def arrayEquilibriumIndex(arr, n) :\n",
    "    #Your code goes here\n",
    "    for i in range(len(arr)):\n",
    "        left_arr = arr[0:i]\n",
    "\n",
    "        right_arr = arr[i:]\n",
    "\n",
    "        left_sum = sum(left_arr)\n",
    "        right_sum = sum(right_arr)- arr[i]\n",
    "\n",
    "        if left_sum==right_sum:\n",
    "            return i\n",
    "    return -1\n",
    "\n",
    "arr = [2, 3, 10, -10, 4, 2, 9]\n",
    "n = 7\n",
    "\n",
    "arrayEquilibriumIndex(arr, n)"
   ]
  },
  {
   "cell_type": "code",
   "execution_count": null,
   "metadata": {},
   "outputs": [],
   "source": [
    "arr"
   ]
  },
  {
   "cell_type": "code",
   "execution_count": null,
   "metadata": {},
   "outputs": [],
   "source": [
    "for i in range(len(arr)):\n",
    "    left_arr = arr[0:i]\n",
    "\n",
    "    right_arr = arr[i:]\n",
    "\n",
    "    left_sum = sum(left_arr)\n",
    "    right_sum = sum(right_arr)- arr[i]\n",
    "\n",
    "    if left_sum==right_sum:\n",
    "        print(i)"
   ]
  },
  {
   "cell_type": "markdown",
   "metadata": {},
   "source": [
    "#### Remove Consecutive Duplicates\n",
    "\n",
    "For a given string(str), remove all the consecutive duplicate characters.\n",
    "Example:\n",
    "Input String: \"aaaa\"\n",
    "Expected Output: \"a\"\n",
    "\n",
    "Input String: \"aabbbcc\"\n",
    "Expected Output: \"abc\""
   ]
  },
  {
   "cell_type": "code",
   "execution_count": null,
   "metadata": {},
   "outputs": [],
   "source": [
    "from sys import stdin\n",
    "\n",
    "def removeConsecutiveDuplicates(string) :\n",
    "\t# Your code goes here\n",
    "\n",
    "    pass\n",
    "\n",
    "\n",
    "\n",
    "\n",
    "string = 'aaabbc'"
   ]
  },
  {
   "cell_type": "code",
   "execution_count": null,
   "metadata": {},
   "outputs": [],
   "source": [
    "string = 'aaabbc'\n",
    "string"
   ]
  },
  {
   "cell_type": "code",
   "execution_count": null,
   "metadata": {},
   "outputs": [],
   "source": [
    "set(string)"
   ]
  },
  {
   "cell_type": "code",
   "execution_count": null,
   "metadata": {},
   "outputs": [],
   "source": [
    "''.join(set(string))"
   ]
  },
  {
   "cell_type": "code",
   "execution_count": null,
   "metadata": {},
   "outputs": [],
   "source": [
    "string = 'aabbbcc'\n",
    "temp = string[0]\n",
    "\n",
    "for i in range(len(string)):\n",
    "    # print(string[i])\n",
    "\n",
    "    if temp[-1] == string[i]:\n",
    "        pass\n",
    "\n",
    "    else:\n",
    "        temp = temp+string[i]\n",
    "        print(temp)\n"
   ]
  },
  {
   "cell_type": "markdown",
   "metadata": {},
   "source": [
    "#### Arrange Numbers in the Array\n",
    "\n",
    "You have been given an empty array(ARR) and its size N. The only input taken from the user will be N and you need not worry about the array.\n",
    "Your task is to populate the array using the integer values in the range 1 to N(both inclusive) in the order - 1,3,5,.......,6,4,2."
   ]
  },
  {
   "cell_type": "code",
   "execution_count": null,
   "metadata": {},
   "outputs": [],
   "source": [
    "from sys import stdin\n",
    "\n",
    "def arrange(arr, n) :\n",
    "    #Your code goes here\n",
    "    odd_list = list(range(1,n,2))\n",
    "\n",
    "    if n%2 ==0:\n",
    "        even_list = list(range(n-2,1,-2))\n",
    "\n",
    "    else:\n",
    "        even_list = list(range(n-1,1,-2))\n",
    "\n",
    "    arr = odd_list+[n]+even_list\n",
    "    arr = list(arr)\n",
    "    return arr\n",
    "arr = []\n",
    "n = 11\n",
    "arrange(arr, n)"
   ]
  },
  {
   "cell_type": "code",
   "execution_count": null,
   "metadata": {},
   "outputs": [],
   "source": [
    "n =6"
   ]
  },
  {
   "cell_type": "code",
   "execution_count": null,
   "metadata": {},
   "outputs": [],
   "source": [
    "odd = []\n",
    "even = []\n",
    "\n"
   ]
  },
  {
   "cell_type": "code",
   "execution_count": null,
   "metadata": {},
   "outputs": [],
   "source": [
    "n=9\n",
    "a = list(range(1,n+1,2))\n",
    "a"
   ]
  },
  {
   "cell_type": "code",
   "execution_count": null,
   "metadata": {},
   "outputs": [],
   "source": [
    "b = list(range(n-1,1,-2))\n",
    "b   "
   ]
  },
  {
   "cell_type": "code",
   "execution_count": null,
   "metadata": {},
   "outputs": [],
   "source": [
    "a+b"
   ]
  },
  {
   "cell_type": "markdown",
   "metadata": {},
   "source": [
    "#### Leaders in array\n",
    "\n",
    "Given an integer array A of size n. Find and print all the leaders present in the input array. An array element A[i] is called Leader, if all the elements following it (i.e. present at its right) are less than or equal to A[i].\n",
    "Print all the leader elements separated by space and in the same order they are present in the input array"
   ]
  },
  {
   "cell_type": "code",
   "execution_count": null,
   "metadata": {},
   "outputs": [],
   "source": [
    "n = 6\n",
    "arr = list(map(int,'3 12 34 2 0 -1'.strip().split()))\n",
    "\n",
    "arr"
   ]
  },
  {
   "cell_type": "code",
   "execution_count": null,
   "metadata": {},
   "outputs": [],
   "source": [
    "ans = []\n",
    "for i in range(0, n):\n",
    "\n",
    "    for j in range(i+1, n):\n",
    "        if arr[i]< arr[j]:\n",
    "            break\n",
    "    else:\n",
    "        ans.append(str(arr[i]))\n",
    "\n",
    "ans"
   ]
  },
  {
   "cell_type": "code",
   "execution_count": null,
   "metadata": {},
   "outputs": [],
   "source": []
  },
  {
   "cell_type": "code",
   "execution_count": null,
   "metadata": {},
   "outputs": [],
   "source": []
  },
  {
   "cell_type": "code",
   "execution_count": null,
   "metadata": {},
   "outputs": [],
   "source": []
  },
  {
   "cell_type": "code",
   "execution_count": null,
   "metadata": {},
   "outputs": [],
   "source": [
    "def findLeaders(elements, n):\n",
    "    # List to return.\n",
    "    answer = []     \n",
    "\n",
    "    for i in range(n):\n",
    "        for j in range(i+1, n):\n",
    "            # If outer loop picked element is less than inner loop element.\n",
    "            if(elements[i] < elements[j]):\n",
    "                break\n",
    "        else:\n",
    "            answer.append(str(elements[i]))\n",
    "\n",
    "    # print(type(answer))\n",
    "    print(\" \".join(answer))\n",
    "\n",
    "# n =len(elements)\n",
    "# elements = list(map(int, input().strip().split(\" \")))\n",
    "elements = list(map(int, \"\"\"13 17 5 4 6\"\"\".strip().split()))\n",
    "n =len(elements)\n",
    "\n",
    "a = findLeaders(elements, n)"
   ]
  },
  {
   "cell_type": "markdown",
   "metadata": {},
   "source": [
    "#### Highest Occuring Character\n",
    "\n",
    "For a given a string(str), find and return the highest occurring character.\n",
    "\n",
    "Example:\n",
    "\n",
    "Input String: \"abcdeapapqarr\"\n",
    "\n",
    "Expected Output: 'a'\n",
    "\n",
    "Since 'a' has appeared four times in the string which happens to be the highest frequency character, the answer would be 'a'.\n",
    "\n",
    "If there are two characters in the input string with the same frequency, return the character which comes first.\n",
    "\n",
    "Consider:\n",
    "\n",
    "Assume all the characters in the given string to be in lowercase always."
   ]
  },
  {
   "cell_type": "code",
   "execution_count": null,
   "metadata": {},
   "outputs": [],
   "source": [
    "def highestOccuringChar(string) :\n",
    "\t#Your code goes here\n",
    "\n",
    "    # find unique characters in the string by typecasting into set\n",
    "    unique_chars = set(string)\n",
    "\n",
    "    # reason to initialise count\n",
    "    count = -999999\n",
    "\n",
    "    for char in unique_chars:\n",
    "        temp_count = string.count(char)\n",
    "\n",
    "        if temp_count>count:\n",
    "            count = temp_count\n",
    "            ans= char\n",
    "                \n",
    "    return ans\n",
    "\n",
    "string = 'bbccccccaaaaaaa'\n",
    "highestOccuringChar(string)"
   ]
  },
  {
   "cell_type": "code",
   "execution_count": null,
   "metadata": {},
   "outputs": [],
   "source": [
    "text = \"aaabb\"\n",
    "\n",
    "text.count('i')"
   ]
  },
  {
   "cell_type": "code",
   "execution_count": null,
   "metadata": {},
   "outputs": [],
   "source": [
    "\n",
    "unique_chars = set('bbcccaaaaaaaxuyadsz')\n",
    "unique_chars"
   ]
  },
  {
   "cell_type": "code",
   "execution_count": null,
   "metadata": {},
   "outputs": [],
   "source": [
    "for char in unique_chars:\n",
    "    print(char)"
   ]
  },
  {
   "cell_type": "code",
   "execution_count": null,
   "metadata": {},
   "outputs": [],
   "source": [
    "string = \"abcdeapapqarr\"\n",
    "unique_chars = set(string)\n",
    "\n",
    "count = 0\n",
    "\n",
    "for char in unique_chars:\n",
    "    # print(char)\n",
    "    temp_count = string.count(char)\n",
    "\n",
    "    # print('iteration', temp_count)\n",
    "\n",
    "    if temp_count>count:\n",
    "        count = temp_count\n",
    "        ans= char\n",
    "\n",
    "\n",
    "print(count)\n",
    "print(ans)"
   ]
  },
  {
   "cell_type": "markdown",
   "metadata": {},
   "source": [
    "#### Maximise the sum\n",
    "\n",
    "Given 2 sorted arrays (in increasing order), find a path through the intersections that produces maximum sum and return the maximum sum.\n",
    "\n",
    "That is, we can switch from one array to another array only at common elements.\n",
    "\n",
    "If no intersection element is present, we need to take sum of all elements from the array with greater sum."
   ]
  },
  {
   "cell_type": "code",
   "execution_count": null,
   "metadata": {},
   "outputs": [],
   "source": [
    "def maxPathSum(ar1, ar2, m, n):\n",
    " \n",
    "    # initialize indexes for ar1[] and ar2[]\n",
    "    i, j = 0, 0\n",
    " \n",
    "    # Initialize result and current sum through ar1[] and ar2[]\n",
    "    result, sum1, sum2 = 0, 0, 0\n",
    " \n",
    "    # Below 3 loops are similar to merge in merge sort\n",
    "    while (i < m and j < n):\n",
    " \n",
    "        # Add elements of ar1[] to sum1\n",
    "        if ar1[i] < ar2[j]:\n",
    "            sum1 += ar1[i]\n",
    "            i += 1\n",
    " \n",
    "        # Add elements of ar2[] to sum2\n",
    "        elif ar1[i] > ar2[j]:\n",
    "            sum2 += ar2[j]\n",
    "            j += 1\n",
    " \n",
    "        else:   # we reached a common point\n",
    " \n",
    "            # Take the maximum of two sums and add to result\n",
    "            result += max(sum1, sum2) +ar1[i]\n",
    "            #update sum1 and sum2 to be considered fresh for next elements\n",
    "            sum1 = 0\n",
    "            sum2 = 0\n",
    "            #update i and j to move to next element in each array\n",
    "            i +=1\n",
    "            j +=1\n",
    " \n",
    "           \n",
    " \n",
    "    # Add remaining elements of ar1[]\n",
    "    while i < m:\n",
    "        sum1 += ar1[i]\n",
    "        i += 1\n",
    "    # Add remaining elements of b[]\n",
    "    while j < n:\n",
    "        sum2 += ar2[j]\n",
    "        j += 1\n",
    " \n",
    "    # Add maximum of two sums of remaining elements\n",
    "    result += max(sum1, sum2)\n",
    " \n",
    "    return result\n",
    " \n",
    " \n",
    "# Driver code\n",
    "m = int(input())\n",
    "ar1 = input().strip().split(' ')\n",
    "# print(ar1)\n",
    "n = int(input())\n",
    "ar2 = input().split(' ')\n",
    " \n",
    "# Driver code\n",
    "ar1 = [2, 3, 7, 10, 12, 15, 30, 34]\n",
    "ar2 = [1, 5, 7, 8, 10, 15, 16, 19]\n",
    "m = len(ar1)\n",
    "n = len(ar2)\n",
    " \n",
    "# Function call\n",
    "maxPathSum(ar1, ar2, m, n)\n",
    " "
   ]
  },
  {
   "cell_type": "code",
   "execution_count": null,
   "metadata": {},
   "outputs": [],
   "source": [
    "ar1 = input().split(' ')"
   ]
  },
  {
   "cell_type": "code",
   "execution_count": null,
   "metadata": {},
   "outputs": [],
   "source": [
    "# Solution given\n",
    "\n",
    "\n"
   ]
  },
  {
   "cell_type": "markdown",
   "metadata": {},
   "source": [
    "#### Largest Row or Column\n",
    "\n",
    "For a given two-dimensional integer array/list of size (N x M), you need to find out which row or column has the largest sum(sum of all the elements in a row/column) amongst all the rows and columns."
   ]
  },
  {
   "cell_type": "code",
   "execution_count": 1,
   "metadata": {},
   "outputs": [
    {
     "name": "stdout",
     "output_type": "stream",
     "text": [
      "column 2 25\n"
     ]
    }
   ],
   "source": [
    "def findLargest(arr, nRows, mCols):\n",
    "    #Your code goes here\n",
    "\n",
    "    if nRows == mCols == 0:\n",
    "        print('row', 0,  -2**31)\n",
    "        return\n",
    "    \t\n",
    "    # find row max\n",
    "    row_max = -99999\n",
    "    for n in range(0,nRows):\n",
    "        if row_max < sum(arr[n]):\n",
    "\n",
    "            row_max = sum(arr[n])\n",
    "            row_index = n\n",
    "\n",
    "    # find col max\n",
    "    col_max = -99999\n",
    "    for n in range(mCols):\n",
    "        sum_col = 0\n",
    "        for i in range(nRows):\n",
    "            sum_col = sum_col+ arr[i][n]\n",
    "\n",
    "        if col_max < sum_col:\n",
    "            col_max = sum_col\n",
    "            col_index = n\n",
    "\n",
    "            \n",
    "    \n",
    "    if row_max>= col_max:\n",
    "        print('row', row_index, row_max)\n",
    "\n",
    "    else:\n",
    "        print('column', col_index, col_max)\n",
    "        \n",
    "    return\n",
    "\n",
    "\n",
    "arr = [[3, 1, 9],\n",
    "       [1 ,1,7],\n",
    "       [2, 1 ,9]]\n",
    "\n",
    "\n",
    "nRows = len(arr)\n",
    "mCols = len(arr[0])\n",
    "\n",
    "findLargest(arr, nRows, mCols)"
   ]
  },
  {
   "cell_type": "code",
   "execution_count": null,
   "metadata": {},
   "outputs": [],
   "source": [
    "arr = [[3, 1, 9],\n",
    "       [1 ,1,7],\n",
    "       [2, 1 ,9]]"
   ]
  },
  {
   "cell_type": "code",
   "execution_count": null,
   "metadata": {},
   "outputs": [],
   "source": [
    "sum(arr[0])"
   ]
  },
  {
   "cell_type": "code",
   "execution_count": null,
   "metadata": {},
   "outputs": [],
   "source": [
    "arr"
   ]
  },
  {
   "cell_type": "code",
   "execution_count": null,
   "metadata": {},
   "outputs": [],
   "source": [
    "# row wise values\n",
    "r0 = arr[0]\n",
    "r1 = arr[1]\n",
    "r2 = arr[2]"
   ]
  },
  {
   "cell_type": "code",
   "execution_count": null,
   "metadata": {},
   "outputs": [],
   "source": [
    "# perform it in a loop extract row values\n",
    "\n",
    "nRows = 3\n",
    "row_sum = 0\n",
    "for n in range(0,nRows-1):\n",
    "    if sum(arr[n])> sum(arr[n+1]):\n",
    "        row_sum = sum(arr[n])\n",
    "    else:\n",
    "        row_sum =sum(arr[n+1])\n",
    "\n",
    "row_sum"
   ]
  },
  {
   "cell_type": "code",
   "execution_count": null,
   "metadata": {},
   "outputs": [],
   "source": [
    "nRows = 3\n",
    "row_sum = 0\n",
    "for n in range(0,nRows):\n",
    "    if row_sum <sum(arr[n]):\n",
    "        row_sum = sum(arr[n])\n",
    "row_sum\n",
    "\n"
   ]
  },
  {
   "cell_type": "code",
   "execution_count": null,
   "metadata": {},
   "outputs": [],
   "source": [
    "r0,r1,r2"
   ]
  },
  {
   "cell_type": "code",
   "execution_count": null,
   "metadata": {},
   "outputs": [],
   "source": [
    "# find sum of rows\n",
    "\n",
    "sum_r0 = sum(r0)\n",
    "sum_r1 = sum(r1)\n",
    "sum_r2 = sum(r2)"
   ]
  },
  {
   "cell_type": "code",
   "execution_count": null,
   "metadata": {},
   "outputs": [],
   "source": [
    "sum_r2"
   ]
  },
  {
   "cell_type": "code",
   "execution_count": null,
   "metadata": {},
   "outputs": [],
   "source": []
  },
  {
   "cell_type": "code",
   "execution_count": null,
   "metadata": {},
   "outputs": [],
   "source": [
    "arr"
   ]
  },
  {
   "cell_type": "code",
   "execution_count": null,
   "metadata": {},
   "outputs": [],
   "source": [
    "# columns wise values\n",
    "\n",
    "c0 = arr[0][0], arr[1][0], arr[2][0]\n",
    "c1 = arr[0][1], arr[1][1], arr[2][1]\n",
    "c2 = arr[0][2], arr[1][2], arr[2][2]"
   ]
  },
  {
   "cell_type": "code",
   "execution_count": null,
   "metadata": {},
   "outputs": [],
   "source": [
    "arr"
   ]
  },
  {
   "cell_type": "code",
   "execution_count": null,
   "metadata": {},
   "outputs": [],
   "source": [
    "mCols = 3\n",
    "nRows = 3\n",
    "\n",
    "col_sum = 0\n",
    "for i in range(0, mCols):\n",
    "    sum = 0\n",
    "    for j in range(0,nRows):\n",
    "        sum = arr[j][i]+sum\n",
    "\n",
    "    if col_sum < sum:\n",
    "        col_sum = sum\n",
    "\n",
    "print(col_sum)"
   ]
  },
  {
   "cell_type": "code",
   "execution_count": null,
   "metadata": {},
   "outputs": [],
   "source": [
    "c0, c1,c2"
   ]
  },
  {
   "cell_type": "code",
   "execution_count": null,
   "metadata": {},
   "outputs": [],
   "source": [
    "arr"
   ]
  },
  {
   "cell_type": "markdown",
   "metadata": {},
   "source": [
    "#### Print Spiral\n",
    "\n",
    "For a given two-dimensional integer array/list of size (N x M), print it in a spiral form. That is, you need to print in the order followed for every iteration:\n",
    "\n",
    "    a. First row(left to right)\n",
    "    b. Last column(top to bottom)\n",
    "    c. Last row(right to left)\n",
    "    d. First column(bottom to top)\n",
    "Mind that every element will be printed only once."
   ]
  },
  {
   "cell_type": "code",
   "execution_count": null,
   "metadata": {},
   "outputs": [],
   "source": [
    "from sys import stdin\n",
    "\n",
    "def spiralPrint(mat, nRows, mCols):\n",
    "    #Your code goes here\n",
    "\n",
    "\n",
    "\n",
    "\n",
    "\n",
    "\n",
    "\n",
    "\n",
    "\n",
    "\n",
    "\n",
    "\n",
    "\n",
    "\n",
    "\n",
    "\n",
    "\n",
    "\n",
    "\n",
    "\n",
    "\n",
    "\n",
    "\n",
    "\n",
    "\n",
    "\n",
    "\n",
    "\n",
    "\n",
    "#Taking Input Using Fast I/O\n",
    "def take2DInput() :\n",
    "    li = stdin.readline().rstrip().split(\" \")\n",
    "    nRows = int(li[0])\n",
    "    mCols = int(li[1])\n",
    "    \n",
    "    if nRows == 0 :\n",
    "        return list(), 0, 0\n",
    "    \n",
    "    mat = [list(map(int, input().strip().split(\" \"))) for row in range(nRows)]\n",
    "    return mat, nRows, mCols\n",
    "\n",
    "\n",
    "#main\n",
    "t = int(stdin.readline().rstrip())\n",
    "\n",
    "while t > 0 :\n",
    "\n",
    "    mat, nRows, mCols = take2DInput()\n",
    "    spiralPrint(mat, nRows, mCols)\n",
    "    print()\n",
    "\n",
    "    t -= 1\n"
   ]
  },
  {
   "cell_type": "code",
   "execution_count": null,
   "metadata": {},
   "outputs": [],
   "source": [
    "def spiralPrint(mat, nRows, mCols):\n",
    "    #Your code goes here\n",
    " \n",
    "    # base case\n",
    "    if not mat or not len(mat):\n",
    "        return\n",
    " \n",
    "    top = left = 0\n",
    "    bottom = nRows - 1\n",
    "    right = mCols - 1\n",
    " \n",
    "    while True:\n",
    "        if left > right:\n",
    "            break\n",
    " \n",
    "        # print top row\n",
    "        for i in range(left, right + 1):\n",
    "            print(mat[top][i], end=' ')\n",
    "        top = top + 1\n",
    " \n",
    "        if top > bottom:\n",
    "            break\n",
    " \n",
    "        # print right column\n",
    "        for i in range(top, bottom + 1):\n",
    "            print(mat[i][right], end=' ')\n",
    "        right = right - 1\n",
    " \n",
    "        if left > right:\n",
    "            break\n",
    " \n",
    "        # print bottom row\n",
    "        for i in range(right, left - 1, -1):\n",
    "            print(mat[bottom][i], end=' ')\n",
    "        bottom = bottom - 1\n",
    " \n",
    "        if top > bottom:\n",
    "            break\n",
    " \n",
    "        # print left column\n",
    "        for i in range(bottom, top - 1, -1):\n",
    "            print(mat[i][left], end=' ')\n",
    "        left = left + 1\n",
    "\n",
    "    return 1\n",
    "\n",
    "\n",
    "\n",
    "mat = [[1 ,2 ,3, 4 ],\n",
    "        [5, 6, 7, 8], \n",
    "        [9 ,10, 11, 12 ],\n",
    "        [13, 14 ,15, 16]]\n",
    "nRows = len(mat)\n",
    "mCols = len(mat[0])\n",
    "spiralPrint(mat, nRows, mCols)"
   ]
  },
  {
   "cell_type": "code",
   "execution_count": null,
   "metadata": {},
   "outputs": [],
   "source": [
    "mat = [[1 ,2 ,3, 4 ],\n",
    "        [5, 6, 7, 8], \n",
    "        [13, 14 ,15, 16]]\n",
    "\n",
    "\n",
    "len(mat), len(mat[0])"
   ]
  },
  {
   "cell_type": "code",
   "execution_count": null,
   "metadata": {},
   "outputs": [],
   "source": []
  },
  {
   "cell_type": "code",
   "execution_count": null,
   "metadata": {},
   "outputs": [],
   "source": [
    "mat[0][0], mat[0][1], mat[0][2], mat[0][3]"
   ]
  },
  {
   "cell_type": "code",
   "execution_count": null,
   "metadata": {},
   "outputs": [],
   "source": [
    "mat[1][3], mat[2][3]"
   ]
  },
  {
   "cell_type": "code",
   "execution_count": null,
   "metadata": {},
   "outputs": [],
   "source": [
    "mat[3][3], mat[3][2], mat[3][1], mat[3][0]"
   ]
  },
  {
   "cell_type": "code",
   "execution_count": null,
   "metadata": {},
   "outputs": [],
   "source": []
  },
  {
   "cell_type": "code",
   "execution_count": null,
   "metadata": {},
   "outputs": [],
   "source": []
  },
  {
   "cell_type": "markdown",
   "metadata": {},
   "source": []
  },
  {
   "cell_type": "code",
   "execution_count": null,
   "metadata": {},
   "outputs": [],
   "source": []
  },
  {
   "cell_type": "code",
   "execution_count": null,
   "metadata": {},
   "outputs": [],
   "source": []
  },
  {
   "cell_type": "code",
   "execution_count": null,
   "metadata": {},
   "outputs": [],
   "source": []
  },
  {
   "cell_type": "code",
   "execution_count": null,
   "metadata": {},
   "outputs": [],
   "source": []
  }
 ],
 "metadata": {
  "interpreter": {
   "hash": "c626c7f027fd81c21c9d33e27e9da6944415f92c80192dd5d04cdc4b243efcd0"
  },
  "kernelspec": {
   "display_name": "Python 3.8.5 ('vaishali')",
   "language": "python",
   "name": "python3"
  },
  "language_info": {
   "codemirror_mode": {
    "name": "ipython",
    "version": 3
   },
   "file_extension": ".py",
   "mimetype": "text/x-python",
   "name": "python",
   "nbconvert_exporter": "python",
   "pygments_lexer": "ipython3",
   "version": "3.8.5"
  },
  "orig_nbformat": 4
 },
 "nbformat": 4,
 "nbformat_minor": 2
}
