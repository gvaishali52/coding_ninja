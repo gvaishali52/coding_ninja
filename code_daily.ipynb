{
 "cells": [
  {
   "cell_type": "markdown",
   "metadata": {},
   "source": [
    "Date: 1 July "
   ]
  },
  {
   "cell_type": "code",
   "execution_count": null,
   "metadata": {},
   "outputs": [],
   "source": [
    "n = int(input())\n",
    "count = 0\n",
    "for i in range (1,n+99999,1):\n",
    "    x = 3*i+2\n",
    "    if x%4 ==0:\n",
    "        pass\n",
    "    else: \n",
    "        print(x, end = ' ')\n",
    "        count +=1\n",
    "\n",
    "    if count ==n:\n",
    "        break"
   ]
  },
  {
   "cell_type": "code",
   "execution_count": null,
   "metadata": {},
   "outputs": [],
   "source": [
    "def ispalindrome(string):\n",
    "    rev = string[::-1]\n",
    "    if string == rev:\n",
    "        return True\n",
    "\n",
    "    else: return False\n",
    "\n",
    "string = input().strip()\n",
    "ans = ispalindrome(string)\n",
    "\n",
    "if ans==True:\n",
    "    print(True)\n",
    "\n",
    "else: \n",
    "    print(False)\n"
   ]
  },
  {
   "cell_type": "markdown",
   "metadata": {},
   "source": [
    "**2 July and 3 July**"
   ]
  },
  {
   "cell_type": "code",
   "execution_count": null,
   "metadata": {},
   "outputs": [],
   "source": [
    "n = 11\n",
    "c = int(input())\n",
    "\n",
    "if c ==1:\n",
    "    sum = 0\n",
    "    for i in range(1, n+1):\n",
    "        sum+=1\n",
    "    print(sum)\n",
    "\n",
    "elif c ==2:\n",
    "    product = 1\n",
    "    for i in range(1,n+1):\n",
    "        product*=i\n",
    "    \n",
    "    print(product)\n",
    "\n",
    "else:\n",
    "    print(1)"
   ]
  },
  {
   "cell_type": "code",
   "execution_count": null,
   "metadata": {},
   "outputs": [],
   "source": [
    "n = int(input())\n",
    "print(int(n**0.5))"
   ]
  },
  {
   "cell_type": "markdown",
   "metadata": {},
   "source": [
    "**4 July**"
   ]
  },
  {
   "cell_type": "code",
   "execution_count": null,
   "metadata": {},
   "outputs": [],
   "source": [
    "# binary to decimal\n",
    "n = 101\n",
    "i = 0\n",
    "\n",
    "sum = 0\n",
    "\n",
    "while n!=0:\n",
    "    dig = n%10\n",
    "    n = n//10\n",
    "    c = 2**i\n",
    "\n",
    "    dec = dig*c\n",
    "    sum = sum+dec\n",
    "    i+=1\n",
    "\n",
    "print(sum)"
   ]
  },
  {
   "cell_type": "markdown",
   "metadata": {},
   "source": [
    "**6 July**\n",
    "\n"
   ]
  },
  {
   "cell_type": "code",
   "execution_count": null,
   "metadata": {},
   "outputs": [],
   "source": [
    "n = int(input())\n",
    "\n",
    "if n==0:\n",
    "    print('Zero')\n",
    "\n",
    "else:\n",
    "    if n>0:\n",
    "        print('Positive')\n",
    "\n",
    "    else:\n",
    "        print(\"Negative\")"
   ]
  },
  {
   "cell_type": "code",
   "execution_count": null,
   "metadata": {},
   "outputs": [],
   "source": [
    "x1 = int(input())\n",
    "x2 = int(input())\n",
    "y1 = int(input())\n",
    "y2 = int(input())\n",
    "\n",
    "area = (x2-x1)*(y2-y1)\n",
    "print(area)"
   ]
  },
  {
   "cell_type": "markdown",
   "metadata": {},
   "source": [
    "**7 July**"
   ]
  },
  {
   "cell_type": "code",
   "execution_count": null,
   "metadata": {},
   "outputs": [],
   "source": [
    "n = int(input())\n",
    "i =1\n",
    "sum = 0\n",
    "while i<=n:\n",
    "    sum = sum+i\n",
    "    i = i+1\n",
    "\n",
    "print(sum)"
   ]
  },
  {
   "cell_type": "markdown",
   "metadata": {},
   "source": [
    "**8 June**"
   ]
  },
  {
   "cell_type": "markdown",
   "metadata": {},
   "source": [
    "#### Trailing zeroes in n!\n",
    "\n",
    "Find and return number of trailing 0s in n factorial without calculating n factorial."
   ]
  },
  {
   "cell_type": "code",
   "execution_count": null,
   "metadata": {},
   "outputs": [],
   "source": [
    "n = int(input())\n",
    "\n",
    "i=1\n",
    "trailing_zeroes = 0\n",
    "\n",
    "while(n//5**i >0):\n",
    "    \n",
    "    trailing_zeroes = trailing_zeroes+(n//5**i)\n",
    "    \n",
    "    i = i+1\n",
    "    \n",
    "print(trailing_zeroes)\n"
   ]
  },
  {
   "cell_type": "markdown",
   "metadata": {},
   "source": [
    "**10 June**"
   ]
  },
  {
   "cell_type": "markdown",
   "metadata": {},
   "source": [
    "Find sum of all the even valued fibonacci numbers which are less than of equal to N."
   ]
  },
  {
   "cell_type": "code",
   "execution_count": null,
   "metadata": {},
   "outputs": [],
   "source": [
    "# n = int(input())\n",
    "n = 43\n",
    "a = 0\n",
    "b = 1\n",
    "\n",
    "c =-1\n",
    "\n",
    "sum_even = 0\n",
    "\n",
    "for i in range(n):\n",
    "    c = a+b\n",
    "    a=b\n",
    "    b=c\n",
    "    if a>n:\n",
    "        break\n",
    "    if a%2==0:\n",
    "        sum_even = sum_even+a\n",
    "\n",
    "print(sum_even)"
   ]
  },
  {
   "cell_type": "code",
   "execution_count": null,
   "metadata": {},
   "outputs": [],
   "source": [
    "from collections import Counter\n",
    "test_str = 'saurabhsaurabh'\n",
    "Counter(test_str)"
   ]
  },
  {
   "cell_type": "code",
   "execution_count": null,
   "metadata": {},
   "outputs": [],
   "source": [
    "chars = list(set(test_str))\n",
    "print(chars)\n",
    "count = 0\n",
    "for char in chars:\n",
    "    temp_count = test_str.count(char)\n",
    "\n",
    "    if temp_count>count :\n",
    "        count = temp_count\n",
    "        result = char\n",
    "\n",
    "result"
   ]
  },
  {
   "cell_type": "code",
   "execution_count": null,
   "metadata": {},
   "outputs": [],
   "source": [
    "def highestOccuringChar(string) :\n",
    "\t#Your code goes here\n",
    "    chars = list(set(string))\n",
    "    count = 0\n",
    "    for char in chars:\n",
    "        temp_count = string.count(char)\n",
    "\n",
    "        if temp_count>count :\n",
    "            count = temp_count\n",
    "            result = char\n",
    "            \n",
    "    return result \n",
    "\n",
    "\n",
    "string = 'aabbb'\n",
    "highestOccuringChar(string)"
   ]
  },
  {
   "cell_type": "markdown",
   "metadata": {},
   "source": [
    "#### Strings\n",
    "\n",
    "- *Print Spiral*\n",
    "\n",
    "#### Functions\n",
    "- **Fibonacci Member**"
   ]
  },
  {
   "cell_type": "markdown",
   "metadata": {},
   "source": [
    "**16 July**"
   ]
  },
  {
   "cell_type": "markdown",
   "metadata": {},
   "source": [
    "# Find sum and multiplcation with 2 or more paramters"
   ]
  },
  {
   "cell_type": "code",
   "execution_count": null,
   "metadata": {},
   "outputs": [],
   "source": [
    "\n",
    "\n",
    "def sum_multiply(a,b, *more):\n",
    "    sum_value = a+b\n",
    "    m_value = a*b\n",
    "\n",
    "    for i in more:\n",
    "        sum_value = sum_value+i\n",
    "        m_value = m_value*i\n",
    "\n",
    "    return sum_value, m_value\n",
    "\n",
    "sum_multiply(1,2,3,4,5,6,7,8)"
   ]
  },
  {
   "cell_type": "markdown",
   "metadata": {},
   "source": [
    "**18 July**"
   ]
  },
  {
   "cell_type": "markdown",
   "metadata": {},
   "source": [
    "Total number of trailing zeroes in n!"
   ]
  },
  {
   "cell_type": "code",
   "execution_count": null,
   "metadata": {},
   "outputs": [],
   "source": [
    "# n =int(input())\n",
    "n = 100\n",
    "\n",
    "i = 1\n",
    "total_zeroes = 0\n",
    "\n",
    "while(n>5**i):\n",
    "    num_of_zeroes = n//5**i\n",
    "    total_zeroes += num_of_zeroes\n",
    "    i = i+1\n",
    "\n",
    "print(total_zeroes)"
   ]
  },
  {
   "cell_type": "code",
   "execution_count": null,
   "metadata": {},
   "outputs": [],
   "source": [
    "def sum_multiply(a,b, *more):\n",
    "    sum_value = a+b \n",
    "    m_value = a*b\n",
    "\n",
    "    for i in more:\n",
    "        sum_value = sum_value+i\n",
    "        m_value = m_value*i\n",
    "\n",
    "    return sum_value, m_value\n",
    "\n",
    "sum_multiply(1,2,3,4,5,6,7,8)"
   ]
  },
  {
   "cell_type": "markdown",
   "metadata": {},
   "source": [
    "**19 July**"
   ]
  },
  {
   "cell_type": "code",
   "execution_count": null,
   "metadata": {},
   "outputs": [],
   "source": [
    "a = [10,23,56,[78]]\n",
    "b = list(a)\n",
    "\n",
    "a[3][0] = 95\n",
    "a[1] = 34\n",
    "\n",
    "print(b)\n",
    "print(a)"
   ]
  },
  {
   "cell_type": "code",
   "execution_count": null,
   "metadata": {},
   "outputs": [],
   "source": [
    "r = [11,12,13,14]\n",
    "\n",
    "A = [[0,10,20],\n",
    "[30,40,50],\n",
    "[60,70,80]]"
   ]
  },
  {
   "cell_type": "code",
   "execution_count": null,
   "metadata": {},
   "outputs": [],
   "source": [
    "for row in A:\n",
    "    for col in row:\n",
    "        r.append(col+10)\n",
    "\n",
    "print(r)"
   ]
  },
  {
   "cell_type": "markdown",
   "metadata": {},
   "source": [
    "**21 July**\n"
   ]
  },
  {
   "cell_type": "code",
   "execution_count": null,
   "metadata": {},
   "outputs": [],
   "source": [
    "def sum_multiply(a,b, *more):\n",
    "    sum_value = a+b \n",
    "    m_value = a*b\n",
    "\n",
    "    for i in more:\n",
    "        sum_value = sum_value+i\n",
    "        m_value = m_value*i\n",
    "\n",
    "    return sum_value, m_value\n",
    "\n",
    "sum_multiply(1,2,3,4,5,6,7,8)"
   ]
  },
  {
   "cell_type": "markdown",
   "metadata": {},
   "source": [
    "# **23 June**"
   ]
  },
  {
   "cell_type": "code",
   "execution_count": null,
   "metadata": {},
   "outputs": [],
   "source": [
    "# print all substrings of given string\n",
    "\n",
    "def print_substring(string):\n",
    "    n = len(string)\n",
    "    for i in range(n):\n",
    "        for j in range(i, n):\n",
    "            for k in range(i, j+1):\n",
    "                print(string[k], end = ' ')\n",
    "\n",
    "\n",
    "s = \" hello\"\n",
    "print_substring(s)"
   ]
  },
  {
   "cell_type": "code",
   "execution_count": null,
   "metadata": {},
   "outputs": [],
   "source": [
    "def reverse(string):\n",
    "    words = string.split(' ')\n",
    "    for i in range(len(words)):\n",
    "        w = words[i]\n",
    "        rev_w = w[::-1]\n",
    "        words[i] = rev_w\n",
    "\n",
    "    return \" \".join(words)\n",
    "\n",
    "s = \"Hello Everyone this is my code of the day\"\n",
    "reverse(s)"
   ]
  },
  {
   "cell_type": "markdown",
   "metadata": {},
   "source": [
    "### 24 June\n",
    "First Square Pattern"
   ]
  },
  {
   "cell_type": "code",
   "execution_count": null,
   "metadata": {},
   "outputs": [],
   "source": [
    "n = 10\n",
    "a =1\n",
    "while a<=n:\n",
    "    j =1\n",
    "    while j<=n:\n",
    "        print(n, end = ' ')\n",
    "        j+=1\n",
    "\n",
    "    print()\n",
    "    a+=1"
   ]
  },
  {
   "cell_type": "markdown",
   "metadata": {},
   "source": [
    "### **25 June**"
   ]
  },
  {
   "cell_type": "code",
   "execution_count": null,
   "metadata": {},
   "outputs": [],
   "source": [
    "def swapalternative(arr, n):\n",
    "    for i in range(0,n,2):\n",
    "        temp = arr[i]\n",
    "        if temp!=arr[n-1]:\n",
    "            arr[i]=arr[i+1]\n",
    "            arr[i+1] = temp\n",
    "\n",
    "    return arr\n",
    "\n",
    "\n",
    "# arr = [1,2,3,4,5,6,7]\n",
    "arr = [1,2,3,4,5,6]\n",
    "n = len(arr)\n",
    "swapalternative(arr, n)"
   ]
  },
  {
   "cell_type": "code",
   "execution_count": 1,
   "metadata": {},
   "outputs": [
    {
     "name": "stdout",
     "output_type": "stream",
     "text": [
      "[10, 34, 56, [95]] [10, 34, 56, [95]]\n"
     ]
    }
   ],
   "source": [
    "a = [10,23,56,[78]]\n",
    "\n",
    "b = a\n",
    "\n",
    "a[3][0] = 95\n",
    "a[1] = 34\n",
    "\n",
    "print(a, b)"
   ]
  },
  {
   "cell_type": "code",
   "execution_count": null,
   "metadata": {},
   "outputs": [],
   "source": []
  },
  {
   "cell_type": "code",
   "execution_count": null,
   "metadata": {},
   "outputs": [],
   "source": []
  }
 ],
 "metadata": {
  "kernelspec": {
   "display_name": "Python 3.8.5 ('vaishali')",
   "language": "python",
   "name": "python3"
  },
  "language_info": {
   "codemirror_mode": {
    "name": "ipython",
    "version": 3
   },
   "file_extension": ".py",
   "mimetype": "text/x-python",
   "name": "python",
   "nbconvert_exporter": "python",
   "pygments_lexer": "ipython3",
   "version": "3.8.5"
  },
  "orig_nbformat": 4,
  "vscode": {
   "interpreter": {
    "hash": "c626c7f027fd81c21c9d33e27e9da6944415f92c80192dd5d04cdc4b243efcd0"
   }
  }
 },
 "nbformat": 4,
 "nbformat_minor": 2
}
