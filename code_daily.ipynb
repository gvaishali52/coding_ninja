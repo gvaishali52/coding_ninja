{
 "cells": [
  {
   "cell_type": "markdown",
   "metadata": {},
   "source": [
    "Date: 1 July "
   ]
  },
  {
   "cell_type": "code",
   "execution_count": 1,
   "metadata": {},
   "outputs": [
    {
     "name": "stdout",
     "output_type": "stream",
     "text": [
      "5 11 14 17 23 26 29 35 38 41 47 50 53 59 62 65 71 74 "
     ]
    }
   ],
   "source": [
    "n = int(input())\n",
    "count = 0\n",
    "for i in range (1,n+99999,1):\n",
    "    x = 3*i+2\n",
    "    if x%4 ==0:\n",
    "        pass\n",
    "    else: \n",
    "        print(x, end = ' ')\n",
    "        count +=1\n",
    "\n",
    "    if count ==n:\n",
    "        break"
   ]
  },
  {
   "cell_type": "code",
   "execution_count": 4,
   "metadata": {},
   "outputs": [
    {
     "name": "stdout",
     "output_type": "stream",
     "text": [
      "True\n"
     ]
    }
   ],
   "source": [
    "def ispalindrome(string):\n",
    "    rev = string[::-1]\n",
    "    if string == rev:\n",
    "        return True\n",
    "\n",
    "    else: return False\n",
    "\n",
    "string = input().strip()\n",
    "ans = ispalindrome(string)\n",
    "\n",
    "if ans==True:\n",
    "    print(True)\n",
    "\n",
    "else: \n",
    "    print(False)\n"
   ]
  },
  {
   "cell_type": "markdown",
   "metadata": {},
   "source": [
    "**2 July**"
   ]
  },
  {
   "cell_type": "code",
   "execution_count": 5,
   "metadata": {},
   "outputs": [
    {
     "name": "stdout",
     "output_type": "stream",
     "text": [
      "39916800\n"
     ]
    }
   ],
   "source": [
    "n = 11\n",
    "c = int(input())\n",
    "\n",
    "if c ==1:\n",
    "    sum = 0\n",
    "    for i in range(1, n+1):\n",
    "        sum+=1\n",
    "    print(sum)\n",
    "\n",
    "elif c ==2:\n",
    "    product = 1\n",
    "    for i in range(1,n+1):\n",
    "        product*=i\n",
    "    \n",
    "    print(product)\n",
    "\n",
    "else:\n",
    "    print(1)"
   ]
  },
  {
   "cell_type": "code",
   "execution_count": 6,
   "metadata": {},
   "outputs": [
    {
     "name": "stdout",
     "output_type": "stream",
     "text": [
      "7\n"
     ]
    }
   ],
   "source": [
    "n = int(input())\n",
    "print(int(n**0.5))"
   ]
  },
  {
   "cell_type": "code",
   "execution_count": null,
   "metadata": {},
   "outputs": [],
   "source": []
  }
 ],
 "metadata": {
  "kernelspec": {
   "display_name": "Python 3.8.5 ('vaishali')",
   "language": "python",
   "name": "python3"
  },
  "language_info": {
   "codemirror_mode": {
    "name": "ipython",
    "version": 3
   },
   "file_extension": ".py",
   "mimetype": "text/x-python",
   "name": "python",
   "nbconvert_exporter": "python",
   "pygments_lexer": "ipython3",
   "version": "3.8.5"
  },
  "orig_nbformat": 4,
  "vscode": {
   "interpreter": {
    "hash": "c626c7f027fd81c21c9d33e27e9da6944415f92c80192dd5d04cdc4b243efcd0"
   }
  }
 },
 "nbformat": 4,
 "nbformat_minor": 2
}
