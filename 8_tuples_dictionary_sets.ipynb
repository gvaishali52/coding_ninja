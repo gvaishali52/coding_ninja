{
 "cells": [
  {
   "cell_type": "markdown",
   "metadata": {},
   "source": [
    "#### Highest frequency number\n",
    "\n",
    "You are given an array of integers that contain numbers in random order. Write a program to find and return the number which occurs the maximum times in the given input.\n",
    "\n",
    "If two or more elements contend for the maximum frequency, return the element which occurs in the array first."
   ]
  },
  {
   "cell_type": "code",
   "execution_count": 27,
   "metadata": {},
   "outputs": [
    {
     "name": "stdout",
     "output_type": "stream",
     "text": [
      "{'2': 2, '4': 5, '3': 5}\n",
      "5 4\n"
     ]
    }
   ],
   "source": [
    "from sys import stdin\n",
    "def maxfreq(arr):\n",
    "    #Write your code here\n",
    "    d = {}\n",
    "    for i in arr:\n",
    "        d[i] = d.get(i, 0)+1\n",
    "    print(d)\n",
    "    _max = -999999\n",
    "    for k,v in d.items():\n",
    "        if _max< v:\n",
    "            _max = v\n",
    "            key_value = k\n",
    "\n",
    "    print(_max, key_value)\n",
    "    # for i in arr:\n",
    "    #     if \n",
    "\n",
    "\n",
    "\n",
    "arr = '2 2 4 4 4 4 4 3 3 3 3 3'.split()\n",
    "maxfreq(arr)"
   ]
  },
  {
   "cell_type": "code",
   "execution_count": 5,
   "metadata": {},
   "outputs": [
    {
     "data": {
      "text/plain": [
       "['6', '11', '1', '2', '12']"
      ]
     },
     "execution_count": 5,
     "metadata": {},
     "output_type": "execute_result"
    }
   ],
   "source": []
  },
  {
   "cell_type": "code",
   "execution_count": 19,
   "metadata": {},
   "outputs": [
    {
     "data": {
      "text/plain": [
       "[6, 11, 1, 2, 12]"
      ]
     },
     "execution_count": 19,
     "metadata": {},
     "output_type": "execute_result"
    }
   ],
   "source": [
    "# find the maximum value from a list of integers\n",
    "arr = [6, 11, 1, 2, 12]\n",
    "arr"
   ]
  },
  {
   "cell_type": "code",
   "execution_count": 20,
   "metadata": {},
   "outputs": [
    {
     "data": {
      "text/plain": [
       "12"
      ]
     },
     "execution_count": 20,
     "metadata": {},
     "output_type": "execute_result"
    }
   ],
   "source": [
    "max_ = -999999999 # initialize with minimum value\n",
    "\n",
    "for i in arr:\n",
    "    if max_ <i:\n",
    "        max_ =i\n",
    "\n",
    "max_\n"
   ]
  },
  {
   "cell_type": "code",
   "execution_count": 29,
   "metadata": {},
   "outputs": [
    {
     "data": {
      "text/plain": [
       "'4'"
      ]
     },
     "execution_count": 29,
     "metadata": {},
     "output_type": "execute_result"
    }
   ],
   "source": [
    "from sys import stdin\n",
    "def maxfreq(arr):\n",
    "\tn = len(arr)\n",
    "\t\n",
    "\t# Declare 4 variables as 'maxFrequency', 'currentFrequency', 'maxElement', 'currentElement' and initialize them with 0\n",
    "\tmaxFrequency = 0\n",
    "\tmaxElement = 0\n",
    "\tcurrentElement = 0\n",
    "\tcurrentFrequency = 0\n",
    "\n",
    "\tfor i in range(n):\n",
    "\t\t\n",
    "\t\t# Set currentElement as arr[i] and currentFrequency to 0\n",
    "\t\tcurrentElement = arr[i]\n",
    "\t\tcurrentFrequency = 0\n",
    "\t\t\n",
    "\t\t# Loop to calculate the frequency of the currentElement\n",
    "\n",
    "\t\tfor j in range(i, n):\n",
    "\t\t\tif(currentElement == arr[j]):\n",
    "\t\t\t\tcurrentFrequency += 1\n",
    "\t\t\t\t\n",
    "\t\t# If our currentFrequency is greater than maxFrequency\n",
    "\t\tif(currentFrequency > maxFrequency):\n",
    "\t\t\t\n",
    "\t\t\t# Update maxFrequency and 'maxElement' with 'currentFrequency' and 'currentFrequency' respectively.\n",
    "\t\t\tmaxFrequency = currentFrequency\n",
    "\t\t\tmaxElement = currentElement\n",
    "\t\t\t\n",
    "\treturn maxElement\n",
    "\n",
    "arr = '2 2 4 4 4 4 4 3 3 3 3 3'.split()\n",
    "maxfreq(arr)\n"
   ]
  },
  {
   "cell_type": "code",
   "execution_count": null,
   "metadata": {},
   "outputs": [],
   "source": []
  }
 ],
 "metadata": {
  "kernelspec": {
   "display_name": "Python 3.8.5 ('vaishali')",
   "language": "python",
   "name": "python3"
  },
  "language_info": {
   "codemirror_mode": {
    "name": "ipython",
    "version": 3
   },
   "file_extension": ".py",
   "mimetype": "text/x-python",
   "name": "python",
   "nbconvert_exporter": "python",
   "pygments_lexer": "ipython3",
   "version": "3.8.5"
  },
  "orig_nbformat": 4,
  "vscode": {
   "interpreter": {
    "hash": "c626c7f027fd81c21c9d33e27e9da6944415f92c80192dd5d04cdc4b243efcd0"
   }
  }
 },
 "nbformat": 4,
 "nbformat_minor": 2
}
