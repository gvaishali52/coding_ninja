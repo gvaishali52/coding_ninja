{
 "cells": [
  {
   "cell_type": "markdown",
   "metadata": {},
   "source": [
    "#### Highest frequency number\n",
    "\n",
    "You are given an array of integers that contain numbers in random order. Write a program to find and return the number which occurs the maximum times in the given input.\n",
    "\n",
    "If two or more elements contend for the maximum frequency, return the element which occurs in the array first."
   ]
  },
  {
   "cell_type": "code",
   "execution_count": 6,
   "metadata": {},
   "outputs": [
    {
     "name": "stdout",
     "output_type": "stream",
     "text": [
      "{'2': 1}\n",
      "{'2': 2}\n",
      "{'2': 2, '4': 1}\n",
      "{'2': 2, '4': 2}\n",
      "{'2': 2, '4': 3}\n",
      "{'2': 2, '4': 3, '3': 1}\n",
      "{'2': 2, '4': 3, '3': 1, '5': 1}\n",
      "{'2': 2, '4': 3, '3': 1, '5': 2}\n",
      "{'2': 2, '4': 4, '3': 1, '5': 2}\n",
      "{'2': 2, '4': 5, '3': 1, '5': 2}\n",
      "{'2': 2, '4': 5, '3': 2, '5': 2}\n",
      "{'2': 2, '4': 5, '3': 3, '5': 2}\n",
      "{'2': 2, '4': 5, '3': 4, '5': 2}\n",
      "{'2': 2, '4': 5, '3': 5, '5': 2}\n",
      "{'2': 2, '4': 5, '3': 5, '5': 2}\n",
      "dict_values([2, 5, 5, 2]) 5\n"
     ]
    },
    {
     "data": {
      "text/plain": [
       "'4'"
      ]
     },
     "execution_count": 6,
     "metadata": {},
     "output_type": "execute_result"
    }
   ],
   "source": [
    "from sys import stdin\n",
    "def maxfreq(arr):\n",
    "\n",
    "    # find element freq\n",
    "    dict = {}\n",
    "    for i in arr:\n",
    "        dict[i] = dict.get(i, 0) + 1\n",
    "        print(dict)\n",
    "\n",
    "    print(dict)\n",
    "\n",
    "    all_values = dict.values()\n",
    "    max_value = max(all_values)\n",
    "\n",
    "    print(all_values,max_value)\n",
    "\n",
    "\n",
    "    for i in arr:\n",
    "        if dict[i] == max_value:\n",
    "            return i\n",
    "        else:\n",
    "            pass\n",
    "\n",
    "\n",
    "\n",
    "arr = '2 2 4 4 4 3 5 5 4 4 3 3 3 3'.split()\n",
    "d = maxfreq(arr)\n",
    "d"
   ]
  },
  {
   "cell_type": "markdown",
   "metadata": {},
   "source": [
    "#### Maximum Distance\n",
    "\n",
    "Given an array that might contain duplicate elements, find the maximum possible distance between occurrences of two repeating elements i.e. elements having same value. If there are no duplicate elements in the array, return 0."
   ]
  },
  {
   "cell_type": "code",
   "execution_count": null,
   "metadata": {},
   "outputs": [],
   "source": []
  },
  {
   "cell_type": "markdown",
   "metadata": {},
   "source": [
    "#### Make Unique Array\n",
    "\n",
    "Find number of elements to be removed to make an array of all distinct elements."
   ]
  },
  {
   "cell_type": "code",
   "execution_count": 2,
   "metadata": {},
   "outputs": [
    {
     "name": "stdout",
     "output_type": "stream",
     "text": [
      "{'3', '2', '5', '4'}\n",
      "10\n",
      "None\n"
     ]
    }
   ],
   "source": [
    "def duplicateCount(arr):\n",
    "    # Please add your code here\n",
    "    arr_2=set(arr)\n",
    "    print(arr_2)\n",
    "    print(len(arr)-len(arr_2))\n",
    "    \n",
    "    pass\n",
    "\n",
    "# Main\n",
    "# n=int(input())\n",
    "arr='2 2 4 4 4 3 5 5 4 4 3 3 3 3'.split()\n",
    "print(duplicateCount(arr))"
   ]
  },
  {
   "cell_type": "markdown",
   "metadata": {},
   "source": [
    "#### First non repeating character\n",
    "\n",
    "In a given string, find the first non-repeating character .You are given a string, that can contain repeating characters. Your task is to return the first character in this string that does not repeat. i.e., occurs exactly once. The string will contain characters only from English alphabet set, i.e., ('A' - 'Z') and ('a' - 'z'). If there is no non-repeating character print the first character of string."
   ]
  },
  {
   "cell_type": "code",
   "execution_count": 8,
   "metadata": {},
   "outputs": [
    {
     "name": "stdout",
     "output_type": "stream",
     "text": [
      "{'a': 2, 'D': 1, 'c': 2, 'd': 1, 'h': 1}\n",
      "dict_values([2, 1, 2, 1, 1])\n",
      "D\n"
     ]
    }
   ],
   "source": [
    "def nonRepeatingChar(string):\n",
    "    # Please add your code here\n",
    "    # find element freq\n",
    "    dict = {}\n",
    "    for i in string:\n",
    "        dict[i] = dict.get(i, 0) + 1\n",
    "\n",
    "    # print(dict)\n",
    "        \n",
    "    all_values = dict.values()\n",
    "    # print(all_values)\n",
    "\n",
    "    for i in string:\n",
    "        if dict[i] == 1:\n",
    "            return i\n",
    "        else:\n",
    "            pass\n",
    "\n",
    "# Main\n",
    "string = 'aDcadhc'\n",
    "print(nonRepeatingChar(string))"
   ]
  },
  {
   "cell_type": "markdown",
   "metadata": {},
   "source": [
    "#### Different Names\n",
    "\n",
    "In Little Flowers Public School, there are many students with same first names. You are given a task to find the students with same names. You will be given a string comprising of all the names of students and you have to tell the name and count of those students having same. If all the names are unique, print -1 instead.\n",
    "\n",
    "Note: We don't have to mention names whose frequency is 1."
   ]
  },
  {
   "cell_type": "code",
   "execution_count": 15,
   "metadata": {},
   "outputs": [
    {
     "name": "stdout",
     "output_type": "stream",
     "text": [
      "harshit 2\n",
      "Ayush 3\n",
      "Iti 2\n"
     ]
    }
   ],
   "source": [
    "def differentNames(l):\n",
    "    # Please add your code here\n",
    "    dict={}\n",
    "    for i in l:\n",
    "        dict[i]=dict.get(i,0)+1\n",
    "\n",
    "    for i in l:\n",
    "        if dict[i] == 1:\n",
    "            dict.pop(i, None)\n",
    "        else:\n",
    "            pass\n",
    "    \n",
    "    return dict\n",
    "\n",
    "\n",
    "# Main\n",
    "\n",
    "inp= '     Abhishek harshit Ayush harshit Ayush Iti Deepak Ayush Iti '\n",
    "names=inp.strip().split()\n",
    "# print(names)\n",
    "\n",
    "\n",
    "m=differentNames(names)\n",
    "if m:\n",
    "    for name in m:\n",
    "        print(name, m[name])\n",
    "else:\n",
    "    print(-1)\n"
   ]
  },
  {
   "cell_type": "code",
   "execution_count": null,
   "metadata": {},
   "outputs": [],
   "source": []
  },
  {
   "cell_type": "code",
   "execution_count": null,
   "metadata": {},
   "outputs": [],
   "source": []
  }
 ],
 "metadata": {
  "kernelspec": {
   "display_name": "Python 3.8.5 ('vaishali')",
   "language": "python",
   "name": "python3"
  },
  "language_info": {
   "codemirror_mode": {
    "name": "ipython",
    "version": 3
   },
   "file_extension": ".py",
   "mimetype": "text/x-python",
   "name": "python",
   "nbconvert_exporter": "python",
   "pygments_lexer": "ipython3",
   "version": "3.8.5"
  },
  "orig_nbformat": 4,
  "vscode": {
   "interpreter": {
    "hash": "c626c7f027fd81c21c9d33e27e9da6944415f92c80192dd5d04cdc4b243efcd0"
   }
  }
 },
 "nbformat": 4,
 "nbformat_minor": 2
}
