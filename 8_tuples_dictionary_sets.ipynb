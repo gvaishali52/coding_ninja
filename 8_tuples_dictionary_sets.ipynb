{
 "cells": [
  {
   "cell_type": "markdown",
   "metadata": {},
   "source": [
    "#### Highest frequency number\n",
    "\n",
    "You are given an array of integers that contain numbers in random order. Write a program to find and return the number which occurs the maximum times in the given input.\n",
    "\n",
    "If two or more elements contend for the maximum frequency, return the element which occurs in the array first."
   ]
  },
  {
   "cell_type": "code",
   "execution_count": 6,
   "metadata": {},
   "outputs": [
    {
     "name": "stdout",
     "output_type": "stream",
     "text": [
      "{'2': 1}\n",
      "{'2': 2}\n",
      "{'2': 2, '4': 1}\n",
      "{'2': 2, '4': 2}\n",
      "{'2': 2, '4': 3}\n",
      "{'2': 2, '4': 3, '3': 1}\n",
      "{'2': 2, '4': 3, '3': 1, '5': 1}\n",
      "{'2': 2, '4': 3, '3': 1, '5': 2}\n",
      "{'2': 2, '4': 4, '3': 1, '5': 2}\n",
      "{'2': 2, '4': 5, '3': 1, '5': 2}\n",
      "{'2': 2, '4': 5, '3': 2, '5': 2}\n",
      "{'2': 2, '4': 5, '3': 3, '5': 2}\n",
      "{'2': 2, '4': 5, '3': 4, '5': 2}\n",
      "{'2': 2, '4': 5, '3': 5, '5': 2}\n",
      "{'2': 2, '4': 5, '3': 5, '5': 2}\n",
      "dict_values([2, 5, 5, 2]) 5\n"
     ]
    },
    {
     "data": {
      "text/plain": [
       "'4'"
      ]
     },
     "execution_count": 6,
     "metadata": {},
     "output_type": "execute_result"
    }
   ],
   "source": [
    "from sys import stdin\n",
    "def maxfreq(arr):\n",
    "\n",
    "    # find element freq\n",
    "    dict = {}\n",
    "    for i in arr:\n",
    "        dict[i] = dict.get(i, 0) + 1\n",
    "        print(dict)\n",
    "\n",
    "    print(dict)\n",
    "\n",
    "    all_values = dict.values()\n",
    "    max_value = max(all_values)\n",
    "\n",
    "    print(all_values,max_value)\n",
    "\n",
    "\n",
    "    for i in arr:\n",
    "        if dict[i] == max_value:\n",
    "            return i\n",
    "        else:\n",
    "            pass\n",
    "\n",
    "\n",
    "\n",
    "arr = '2 2 4 4 4 3 5 5 4 4 3 3 3 3'.split()\n",
    "d = maxfreq(arr)\n",
    "d"
   ]
  },
  {
   "cell_type": "markdown",
   "metadata": {},
   "source": [
    "#### Maximum Distance\n",
    "\n",
    "Given an array that might contain duplicate elements, find the maximum possible distance between occurrences of two repeating elements i.e. elements having same value. If there are no duplicate elements in the array, return 0."
   ]
  },
  {
   "cell_type": "code",
   "execution_count": null,
   "metadata": {},
   "outputs": [],
   "source": []
  },
  {
   "cell_type": "markdown",
   "metadata": {},
   "source": [
    "#### Make Unique Array\n",
    "\n",
    "Find number of elements to be removed to make an array of all distinct elements."
   ]
  },
  {
   "cell_type": "code",
   "execution_count": 2,
   "metadata": {},
   "outputs": [
    {
     "name": "stdout",
     "output_type": "stream",
     "text": [
      "{'3', '2', '5', '4'}\n",
      "10\n",
      "None\n"
     ]
    }
   ],
   "source": [
    "def duplicateCount(arr):\n",
    "    # Please add your code here\n",
    "    arr_2=set(arr)\n",
    "    print(arr_2)\n",
    "    print(len(arr)-len(arr_2))\n",
    "    \n",
    "    pass\n",
    "\n",
    "# Main\n",
    "# n=int(input())\n",
    "arr='2 2 4 4 4 3 5 5 4 4 3 3 3 3'.split()\n",
    "print(duplicateCount(arr))"
   ]
  },
  {
   "cell_type": "markdown",
   "metadata": {},
   "source": [
    "#### First non repeating character\n",
    "\n",
    "In a given string, find the first non-repeating character .You are given a string, that can contain repeating characters. Your task is to return the first character in this string that does not repeat. i.e., occurs exactly once. The string will contain characters only from English alphabet set, i.e., ('A' - 'Z') and ('a' - 'z'). If there is no non-repeating character print the first character of string."
   ]
  },
  {
   "cell_type": "code",
   "execution_count": 8,
   "metadata": {},
   "outputs": [
    {
     "name": "stdout",
     "output_type": "stream",
     "text": [
      "{'a': 2, 'D': 1, 'c': 2, 'd': 1, 'h': 1}\n",
      "dict_values([2, 1, 2, 1, 1])\n",
      "D\n"
     ]
    }
   ],
   "source": [
    "def nonRepeatingChar(string):\n",
    "    # Please add your code here\n",
    "    # find element freq\n",
    "    dict = {}\n",
    "    for i in string:\n",
    "        dict[i] = dict.get(i, 0) + 1\n",
    "\n",
    "    # print(dict)\n",
    "        \n",
    "    all_values = dict.values()\n",
    "    # print(all_values)\n",
    "\n",
    "    for i in string:\n",
    "        if dict[i] == 1:\n",
    "            return i\n",
    "        else:\n",
    "            pass\n",
    "\n",
    "# Main\n",
    "string = 'aDcadhc'\n",
    "print(nonRepeatingChar(string))"
   ]
  },
  {
   "cell_type": "markdown",
   "metadata": {},
   "source": [
    "#### Different Names\n",
    "\n",
    "In Little Flowers Public School, there are many students with same first names. You are given a task to find the students with same names. You will be given a string comprising of all the names of students and you have to tell the name and count of those students having same. If all the names are unique, print -1 instead.\n",
    "\n",
    "Note: We don't have to mention names whose frequency is 1."
   ]
  },
  {
   "cell_type": "code",
   "execution_count": 15,
   "metadata": {},
   "outputs": [
    {
     "name": "stdout",
     "output_type": "stream",
     "text": [
      "harshit 2\n",
      "Ayush 3\n",
      "Iti 2\n"
     ]
    }
   ],
   "source": [
    "def differentNames(l):\n",
    "    # Please add your code here\n",
    "    dict={}\n",
    "    for i in l:\n",
    "        dict[i]=dict.get(i,0)+1\n",
    "\n",
    "    for i in l:\n",
    "        if dict[i] == 1:\n",
    "            dict.pop(i, None)\n",
    "        else:\n",
    "            pass\n",
    "    \n",
    "    return dict\n",
    "\n",
    "\n",
    "# Main\n",
    "\n",
    "inp= '     Abhishek harshit Ayush harshit Ayush Iti Deepak Ayush Iti '\n",
    "names=inp.strip().split()\n",
    "# print(names)\n",
    "\n",
    "\n",
    "m=differentNames(names)\n",
    "if m:\n",
    "    for name in m:\n",
    "        print(name, m[name])\n",
    "else:\n",
    "    print(-1)\n"
   ]
  },
  {
   "cell_type": "markdown",
   "metadata": {},
   "source": [
    "#### Even Count\n",
    "\n",
    "You are provided with an integer array where each number is present either odd number of times or even number of times. You have to find and return the number which is present even number of times.\n",
    "If multiple numbers are present even number of times, then return that number which occurs first among these numbers in the given array. If no such number exists, then return -1.\n",
    "\n",
    "Note : You may take extra space but solve this problem in O(n) time."
   ]
  },
  {
   "cell_type": "code",
   "execution_count": 3,
   "metadata": {},
   "outputs": [
    {
     "name": "stdout",
     "output_type": "stream",
     "text": [
      "5\n"
     ]
    }
   ],
   "source": [
    "def evenCount(arr):\n",
    "\n",
    "    dict={}\n",
    "    for i in arr:\n",
    "        dict[i]=dict.get(i,0)+1\n",
    "\n",
    "    for j in arr:\n",
    "        if dict[j]%2==0:\n",
    "            return j\n",
    "\n",
    "# Main\n",
    "\n",
    "arr=list('2 5 3 5 3 4'.strip().split(' '))\n",
    "print(evenCount(arr))\n"
   ]
  },
  {
   "cell_type": "markdown",
   "metadata": {},
   "source": [
    "#### Unique triangles\n",
    "\n",
    "You are given n triangles. You are required to find how many triangles are unique out of given triangles. For each triangle you are given three integers a, b and c (the sides of a triangle).\n",
    "A triangle is said to be unique if there is no other triangle with same set of sides.\n",
    "In other words, we have to find frequency of each triangle and return the count of triangles whose frequency is 1.\n",
    "\n",
    "Note : It is always possible to form triangle with given sides.\n",
    "Input Constraints :"
   ]
  },
  {
   "cell_type": "code",
   "execution_count": 1,
   "metadata": {},
   "outputs": [],
   "source": [
    "arr = [ [7, 6, 8],\n",
    "        [5, 7, 6],\n",
    "        [8, 2, 9],\n",
    "        [2, 3, 4],\n",
    "        [2, 4, 3]]"
   ]
  },
  {
   "cell_type": "code",
   "execution_count": 2,
   "metadata": {},
   "outputs": [
    {
     "data": {
      "text/plain": [
       "[[7, 6, 8], [5, 7, 6], [8, 2, 9], [2, 3, 4], [2, 4, 3]]"
      ]
     },
     "execution_count": 2,
     "metadata": {},
     "output_type": "execute_result"
    }
   ],
   "source": [
    "arr"
   ]
  },
  {
   "cell_type": "code",
   "execution_count": 3,
   "metadata": {},
   "outputs": [
    {
     "data": {
      "text/plain": [
       "[7, 6, 8]"
      ]
     },
     "execution_count": 3,
     "metadata": {},
     "output_type": "execute_result"
    }
   ],
   "source": [
    "arr[0]"
   ]
  },
  {
   "cell_type": "code",
   "execution_count": 10,
   "metadata": {},
   "outputs": [
    {
     "name": "stdout",
     "output_type": "stream",
     "text": [
      "[6, 7, 8]\n",
      "[5, 6, 7]\n",
      "[2, 8, 9]\n",
      "[2, 3, 4]\n",
      "[2, 3, 4]\n",
      "3\n"
     ]
    }
   ],
   "source": [
    "dict={}\n",
    "for i in arr:\n",
    "    i.sort()\n",
    "    print(i)\n",
    "    dict[str(i)]=dict.get(str(i),0)+1\n",
    "# print(dict)\n",
    "\n",
    "count=0\n",
    "for k,v in dict.items():\n",
    "    # print(k,v)\n",
    "    \n",
    "    if v==1:\n",
    "        count=count+1\n",
    "        # print(k)\n",
    "print(count)"
   ]
  },
  {
   "cell_type": "markdown",
   "metadata": {},
   "source": [
    "#### Pairs with difference K\n",
    "\n",
    "You are given with an array of integers and an integer K. You have to find and print the count of all such pairs which have difference K.\n",
    "Note: Take absolute difference between the elements of the array.\n",
    "\n"
   ]
  },
  {
   "cell_type": "markdown",
   "metadata": {},
   "source": [
    "**Code with O(n^2)**"
   ]
  },
  {
   "cell_type": "code",
   "execution_count": 15,
   "metadata": {},
   "outputs": [
    {
     "name": "stdout",
     "output_type": "stream",
     "text": [
      "2\n"
     ]
    }
   ],
   "source": [
    "def printPairDiffK(l, k):\n",
    "    #############################\n",
    "    # PLEASE ADD YOUR CODE HERE #\n",
    "    #############################\n",
    "    n = len(l)\n",
    "    count = 0\n",
    "    for i in range(n-1):\n",
    "        for j in range(i+1, n):\n",
    "            # print(i,j)\n",
    "            if abs(l[i]- l[j]) == k:\n",
    "                count+=1\n",
    "\n",
    "    return count\n",
    "    \n",
    "# Main\n",
    "# n=int(input())\n",
    "l=list(int(i) for i in '5 1 2 4'.strip().split(' '))\n",
    "k=3\n",
    "print(printPairDiffK(l, k))"
   ]
  },
  {
   "cell_type": "markdown",
   "metadata": {},
   "source": [
    "**Efficient Code**\n",
    "\n",
    "**O(n)**"
   ]
  },
  {
   "cell_type": "code",
   "execution_count": 16,
   "metadata": {},
   "outputs": [
    {
     "name": "stdout",
     "output_type": "stream",
     "text": [
      "2\n"
     ]
    }
   ],
   "source": [
    "def printPairDiffK(l, k):\n",
    "    pairCount = 0\n",
    "    m = {}\n",
    "    \n",
    "    for num in l:\n",
    "        if num+k in m:\n",
    "            pairCount += m[num+k]\n",
    "        \n",
    "        if k!=0 and num-k in m:\n",
    "            pairCount += m[num-k]\n",
    "            \n",
    "        if num in m:\n",
    "            m[num] +=1\n",
    "        else:\n",
    "            m[num] = 1\n",
    "            \n",
    "    return pairCount\n",
    "\n",
    "# Main\n",
    "# n=int(input())\n",
    "l=list(int(i) for i in '5 1 2 4'.strip().split(' '))\n",
    "k=3\n",
    "print(printPairDiffK(l, k))\n",
    " "
   ]
  },
  {
   "cell_type": "markdown",
   "metadata": {},
   "source": [
    "#### Maximum Distance\n",
    "\n",
    "Given an array that might contain duplicate elements, find the maximum possible distance between occurrences of two repeating elements i.e. elements having same value. If there are no duplicate elements in the array, return 0.\n",
    "\n",
    "Input Format :\n",
    "\n",
    "Line 1 : Contains integer N which is the size of array\n",
    "Line 2 : Contains N Integers i.e. the elements of the array.\n",
    "\n",
    "\n",
    "Sample Output :\n",
    "\n",
    " Line 1 : Maximum Distance Value"
   ]
  },
  {
   "cell_type": "code",
   "execution_count": 1,
   "metadata": {},
   "outputs": [
    {
     "name": "stdout",
     "output_type": "stream",
     "text": [
      "7\n"
     ]
    }
   ],
   "source": [
    "\n",
    "n = 9\n",
    "arr = [int(i) for i in '1  3  1  4  5  6  4  8  3'.split()]\n",
    "# Used to store element to first index mapping\n",
    "mp = {}\n",
    "\n",
    "# Traverse elements and find maximum distance between\n",
    "# same occurrences with the help of map.\n",
    "maxDict = 0\n",
    "for i in range(n):\n",
    "\n",
    "    # If this is first occurrence of element, insert its\n",
    "    # index in map\n",
    "    if arr[i] not in mp.keys():\n",
    "        mp[arr[i]] = i\n",
    "\n",
    "    # Else update max distance\n",
    "    else:\n",
    "        maxDict = max(maxDict, i-mp[arr[i]])\n",
    "        \n",
    "print(maxDict)"
   ]
  },
  {
   "cell_type": "code",
   "execution_count": 3,
   "metadata": {},
   "outputs": [
    {
     "data": {
      "text/plain": [
       "4"
      ]
     },
     "execution_count": 3,
     "metadata": {},
     "output_type": "execute_result"
    }
   ],
   "source": [
    "# max of values from the tuple\n",
    "max(2, 4)"
   ]
  },
  {
   "cell_type": "code",
   "execution_count": null,
   "metadata": {},
   "outputs": [],
   "source": []
  },
  {
   "cell_type": "code",
   "execution_count": 18,
   "metadata": {},
   "outputs": [
    {
     "name": "stdout",
     "output_type": "stream",
     "text": [
      "not equal\n",
      "equal\n"
     ]
    }
   ],
   "source": [
    "a=[1,2,3]\n",
    "b=[2,3,1]\n",
    "\n",
    "if a==b:\n",
    "    print(\"equal\")\n",
    "else:\n",
    "    print(\"not equal\")\n",
    "    \n",
    "\n",
    "c=set(a)\n",
    "d=set(b)\n",
    "if c==d:\n",
    "    print(\"equal\")\n",
    "else:\n",
    "    print(\"not equal\")\n"
   ]
  },
  {
   "cell_type": "code",
   "execution_count": 1,
   "metadata": {},
   "outputs": [],
   "source": [
    " def differentNames(l):\n",
    "    # Please add your code here\n",
    "    dict={}\n",
    "    for i in l:\n",
    "        dict[i]=dict.get(i,0)+1\n",
    "\n",
    "    for i in l:\n",
    "        if dict[i] == 1:\n",
    "            dict.pop(i, None)\n",
    "        else:\n",
    "            pass\n",
    "    \n",
    "    return dict\n"
   ]
  }
 ],
 "metadata": {
  "kernelspec": {
   "display_name": "Python 3.8.5 ('vaishali')",
   "language": "python",
   "name": "python3"
  },
  "language_info": {
   "codemirror_mode": {
    "name": "ipython",
    "version": 3
   },
   "file_extension": ".py",
   "mimetype": "text/x-python",
   "name": "python",
   "nbconvert_exporter": "python",
   "pygments_lexer": "ipython3",
   "version": "3.8.5"
  },
  "orig_nbformat": 4,
  "vscode": {
   "interpreter": {
    "hash": "c626c7f027fd81c21c9d33e27e9da6944415f92c80192dd5d04cdc4b243efcd0"
   }
  }
 },
 "nbformat": 4,
 "nbformat_minor": 2
}
