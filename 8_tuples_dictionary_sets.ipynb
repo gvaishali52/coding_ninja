{
 "cells": [
  {
   "cell_type": "markdown",
   "metadata": {},
   "source": [
    "#### Highest frequency number\n",
    "\n",
    "You are given an array of integers that contain numbers in random order. Write a program to find and return the number which occurs the maximum times in the given input.\n",
    "\n",
    "If two or more elements contend for the maximum frequency, return the element which occurs in the array first."
   ]
  },
  {
   "cell_type": "code",
   "execution_count": 3,
   "metadata": {},
   "outputs": [
    {
     "data": {
      "text/plain": [
       "{'2': 6, '12': 3, '11': 2, '1': 1, '6': 1}"
      ]
     },
     "execution_count": 3,
     "metadata": {},
     "output_type": "execute_result"
    }
   ],
   "source": [
    "from sys import stdin\n",
    "def maxfreq(arr):\n",
    "    #Write your code here\n",
    "    d = {}\n",
    "    for i in arr:\n",
    "        d[i] = d.get(i, 0)+1\n",
    "    # return d\n",
    "\n",
    "    for k,v in d.items():\n",
    "        if v==\n",
    "\n",
    "\n",
    "\n",
    "arr = '2 12 2 11 12 2 1 2 2 11 12 2 6'.split()\n",
    "maxfreq(arr)"
   ]
  },
  {
   "cell_type": "code",
   "execution_count": 5,
   "metadata": {},
   "outputs": [
    {
     "data": {
      "text/plain": [
       "['6', '11', '1', '2', '12']"
      ]
     },
     "execution_count": 5,
     "metadata": {},
     "output_type": "execute_result"
    }
   ],
   "source": []
  },
  {
   "cell_type": "code",
   "execution_count": 19,
   "metadata": {},
   "outputs": [
    {
     "data": {
      "text/plain": [
       "[6, 11, 1, 2, 12]"
      ]
     },
     "execution_count": 19,
     "metadata": {},
     "output_type": "execute_result"
    }
   ],
   "source": [
    "# find the maximum value from a list of integers\n",
    "arr = [6, 11, 1, 2, 12]\n",
    "arr"
   ]
  },
  {
   "cell_type": "code",
   "execution_count": 20,
   "metadata": {},
   "outputs": [
    {
     "data": {
      "text/plain": [
       "12"
      ]
     },
     "execution_count": 20,
     "metadata": {},
     "output_type": "execute_result"
    }
   ],
   "source": [
    "max_ = -999999999 # initialize with minimum value\n",
    "\n",
    "for i in arr:\n",
    "    if max_ <i:\n",
    "        max_ =i\n",
    "\n",
    "max_\n"
   ]
  },
  {
   "cell_type": "code",
   "execution_count": null,
   "metadata": {},
   "outputs": [],
   "source": []
  },
  {
   "cell_type": "code",
   "execution_count": null,
   "metadata": {},
   "outputs": [],
   "source": []
  }
 ],
 "metadata": {
  "kernelspec": {
   "display_name": "Python 3.8.5 ('vaishali')",
   "language": "python",
   "name": "python3"
  },
  "language_info": {
   "codemirror_mode": {
    "name": "ipython",
    "version": 3
   },
   "file_extension": ".py",
   "mimetype": "text/x-python",
   "name": "python",
   "nbconvert_exporter": "python",
   "pygments_lexer": "ipython3",
   "version": "3.8.5"
  },
  "orig_nbformat": 4,
  "vscode": {
   "interpreter": {
    "hash": "c626c7f027fd81c21c9d33e27e9da6944415f92c80192dd5d04cdc4b243efcd0"
   }
  }
 },
 "nbformat": 4,
 "nbformat_minor": 2
}
