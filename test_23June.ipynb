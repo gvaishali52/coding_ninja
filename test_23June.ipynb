{
 "cells": [
  {
   "cell_type": "markdown",
   "metadata": {},
   "source": [
    "Q1.\n",
    "Find weighted average:\n",
    "\n",
    "input:\n",
    "\n",
    "sem1_marks = 67\n",
    "\n",
    "sem2_marks = 89\n",
    "\n",
    "sem3_marks = 45\n",
    "\n",
    "sem4_marks = 65\n",
    "\n",
    "formula:\n",
    "\n",
    "w_avg = (1*sem1_marks +2*sem2_marks +3*sem3_marks +4*sem4_marks )/4 \n",
    "\n",
    "output:\n",
    "print(w_avg)"
   ]
  },
  {
   "cell_type": "code",
   "execution_count": null,
   "metadata": {},
   "outputs": [],
   "source": []
  },
  {
   "cell_type": "markdown",
   "metadata": {},
   "source": [
    "Q2:\n",
    "Find GP. \n",
    "\n",
    "first_term(a1) = 2,\n",
    "common_ratio(r) = 2,\n",
    "total_terms(n) = 10\n",
    "\n",
    "print: 2^0, 2^1, 2^2, 2^3, 2^4, ..., a1*r^(n-1),..., 2^(10-1)"
   ]
  },
  {
   "cell_type": "code",
   "execution_count": null,
   "metadata": {},
   "outputs": [],
   "source": []
  },
  {
   "cell_type": "markdown",
   "metadata": {},
   "source": [
    "Q3: Farenheit to Kelvin\n",
    "\n",
    "- input: F= 45\n",
    "- output: K= 280.372 (approx)\n",
    "\n",
    "Kelvin = Celsius + 273.15\n",
    "\n",
    "Hint: Convert F to C then K. You can refer you notebook if you don't remember the formula."
   ]
  },
  {
   "cell_type": "code",
   "execution_count": null,
   "metadata": {},
   "outputs": [],
   "source": []
  }
 ],
 "metadata": {
  "language_info": {
   "name": "python"
  },
  "orig_nbformat": 4
 },
 "nbformat": 4,
 "nbformat_minor": 2
}
